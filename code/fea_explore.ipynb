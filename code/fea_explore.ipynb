{
 "metadata": {
  "language_info": {
   "codemirror_mode": {
    "name": "ipython",
    "version": 3
   },
   "file_extension": ".py",
   "mimetype": "text/x-python",
   "name": "python",
   "nbconvert_exporter": "python",
   "pygments_lexer": "ipython3",
   "version": "3.6.5-final"
  },
  "orig_nbformat": 2,
  "kernelspec": {
   "name": "python36564bitcfff20060bb645bdb92d4cc90ccd3db9",
   "display_name": "Python 3.6.5 64-bit"
  }
 },
 "nbformat": 4,
 "nbformat_minor": 2,
 "cells": [
  {
   "cell_type": "code",
   "execution_count": 1,
   "metadata": {},
   "outputs": [],
   "source": [
    "import pandas as pd\n",
    "import numpy as np"
   ]
  },
  {
   "cell_type": "code",
   "execution_count": 2,
   "metadata": {},
   "outputs": [],
   "source": [
    "def load_csv(file_path, converters):\n",
    "    df = pd.read_csv(file_path, converters=converters, index_col=False, encoding='utf-8')\n",
    "    return df"
   ]
  },
  {
   "cell_type": "code",
   "execution_count": 3,
   "metadata": {},
   "outputs": [],
   "source": [
    "train_id = load_csv('../ccf_data/entprise_info.csv', converters={})"
   ]
  },
  {
   "cell_type": "code",
   "execution_count": 4,
   "metadata": {},
   "outputs": [],
   "source": [
    "base_info = load_csv('../ccf_data/base_info.csv', converters={'oplocdistrict': str, 'enttype': str, 'enttypegb': str,\n",
    "                                                              'state': str, 'orgid': str, 'jobid': str, 'adbusign': str,\n",
    "                                                              'townsign': str, 'regtype': str})"
   ]
  },
  {
   "source": [
    "## base info"
   ],
   "cell_type": "markdown",
   "metadata": {}
  },
  {
   "cell_type": "code",
   "execution_count": 5,
   "metadata": {},
   "outputs": [],
   "source": [
    "# 行业细类代码 规范化成离散型变量\n",
    "base_info['industryco'].fillna(-1, inplace=True)\n",
    "base_info['industryco'] = base_info['industryco'].astype('int')\n",
    "base_info['industryco'] = base_info['industryco'].astype('str')"
   ]
  },
  {
   "cell_type": "code",
   "execution_count": 6,
   "metadata": {},
   "outputs": [],
   "source": [
    "# 企业类型小类 规范化成离散型变量\n",
    "base_info['enttypeitem'].fillna(-1, inplace=True)\n",
    "base_info['enttypeitem'] = base_info['enttypeitem'].astype('int')\n",
    "base_info['enttypeitem'] = base_info['enttypeitem'].astype('str')"
   ]
  },
  {
   "cell_type": "code",
   "execution_count": 7,
   "metadata": {},
   "outputs": [],
   "source": [
    "# 从业人数 规范化连续变量\n",
    "base_info['empnum'].fillna(-1, inplace=True)\n",
    "base_info['empnum'] = base_info['empnum'].astype('int')"
   ]
  },
  {
   "cell_type": "code",
   "execution_count": 8,
   "metadata": {},
   "outputs": [],
   "source": [
    "# 组织形式 规范化成离散型变量\n",
    "base_info['compform'].fillna(-1, inplace=True)\n",
    "base_info['compform'] = base_info['compform'].astype('int')\n",
    "base_info['compform'] = base_info['compform'].astype('str')"
   ]
  },
  {
   "cell_type": "code",
   "execution_count": 9,
   "metadata": {},
   "outputs": [],
   "source": [
    "# 合伙人人数 规范化连续变量\n",
    "base_info['parnum'].fillna(-1, inplace=True)\n",
    "base_info['parnum'] = base_info['parnum'].astype('int')"
   ]
  },
  {
   "cell_type": "code",
   "execution_count": 10,
   "metadata": {},
   "outputs": [],
   "source": [
    "# 执行人数人数 规范化连续变量\n",
    "base_info['exenum'].fillna(-1, inplace=True)\n",
    "base_info['exenum'] = base_info['exenum'].astype('int')"
   ]
  },
  {
   "cell_type": "code",
   "execution_count": 11,
   "metadata": {},
   "outputs": [],
   "source": [
    "# 风险行业 规范化成离散型变量\n",
    "base_info['venind'].fillna(-1, inplace=True)\n",
    "base_info['venind'] = base_info['venind'].astype('int')\n",
    "base_info['venind'] = base_info['venind'].astype('str')"
   ]
  },
  {
   "cell_type": "code",
   "execution_count": 12,
   "metadata": {},
   "outputs": [],
   "source": [
    "# 企业类型细类 规范化成离散型变量\n",
    "base_info['enttypeminu'].fillna(-1, inplace=True)\n",
    "base_info['enttypeminu'] = base_info['enttypeminu'].astype('int')\n",
    "base_info['enttypeminu'] = base_info['enttypeminu'].astype('str')"
   ]
  },
  {
   "cell_type": "code",
   "execution_count": 13,
   "metadata": {},
   "outputs": [],
   "source": [
    "# 项目类型 规范化成离散型变量\n",
    "base_info['protype'].fillna(-1, inplace=True)\n",
    "base_info['protype'] = base_info['protype'].astype('int')\n",
    "base_info['protype'] = base_info['protype'].astype('str')"
   ]
  },
  {
   "cell_type": "code",
   "execution_count": 14,
   "metadata": {},
   "outputs": [],
   "source": [
    "# 多种注册资本金额赋值为-1\n",
    "cols = ['regcap', 'reccap', 'forreccap', 'forregcap', 'congro']\n",
    "for col in cols:\n",
    "    base_info[col].fillna(-1, inplace=True)"
   ]
  },
  {
   "cell_type": "code",
   "execution_count": 15,
   "metadata": {},
   "outputs": [
    {
     "output_type": "execute_result",
     "data": {
      "text/plain": [
       "id                object\n",
       "oplocdistrict     object\n",
       "industryphy       object\n",
       "industryco        object\n",
       "dom               object\n",
       "opscope           object\n",
       "enttype           object\n",
       "enttypeitem       object\n",
       "opfrom            object\n",
       "opto              object\n",
       "state             object\n",
       "orgid             object\n",
       "jobid             object\n",
       "adbusign          object\n",
       "townsign          object\n",
       "regtype           object\n",
       "empnum             int32\n",
       "compform          object\n",
       "parnum             int32\n",
       "exenum             int32\n",
       "opform            object\n",
       "ptbusscope       float64\n",
       "venind            object\n",
       "enttypeminu       object\n",
       "midpreindcode    float64\n",
       "protype           object\n",
       "oploc             object\n",
       "regcap           float64\n",
       "reccap           float64\n",
       "forreccap        float64\n",
       "forregcap        float64\n",
       "congro           float64\n",
       "enttypegb         object\n",
       "dtype: object"
      ]
     },
     "metadata": {},
     "execution_count": 15
    }
   ],
   "source": [
    "base_info.dtypes"
   ]
  },
  {
   "cell_type": "code",
   "execution_count": 16,
   "metadata": {},
   "outputs": [],
   "source": [
    "# 去除空值列\n",
    "drop_list = ['opform','ptbusscope','midpreindcode']\n",
    "\n",
    "for col in drop_list:\n",
    "    del base_info[col]"
   ]
  },
  {
   "cell_type": "code",
   "execution_count": 17,
   "metadata": {},
   "outputs": [
    {
     "output_type": "execute_result",
     "data": {
      "text/plain": [
       "Index(['id', 'oplocdistrict', 'industryphy', 'industryco', 'dom', 'opscope',\n",
       "       'enttype', 'enttypeitem', 'opfrom', 'opto', 'state', 'orgid', 'jobid',\n",
       "       'adbusign', 'townsign', 'regtype', 'empnum', 'compform', 'parnum',\n",
       "       'exenum', 'venind', 'enttypeminu', 'protype', 'oploc', 'regcap',\n",
       "       'reccap', 'forreccap', 'forregcap', 'congro', 'enttypegb'],\n",
       "      dtype='object')"
      ]
     },
     "metadata": {},
     "execution_count": 17
    }
   ],
   "source": [
    "base_info.columns"
   ]
  },
  {
   "cell_type": "code",
   "execution_count": 18,
   "metadata": {},
   "outputs": [],
   "source": [
    "base_info.to_csv('../code/fea_explore/base_info.csv', index=False)"
   ]
  },
  {
   "source": [
    "## 根据标签探索非法集资风险特征"
   ],
   "cell_type": "markdown",
   "metadata": {}
  },
  {
   "cell_type": "code",
   "execution_count": 21,
   "metadata": {},
   "outputs": [
    {
     "output_type": "execute_result",
     "data": {
      "text/plain": [
       "Index(['id', 'oplocdistrict', 'industryphy', 'industryco', 'dom', 'opscope',\n",
       "       'enttype', 'enttypeitem', 'opfrom', 'opto', 'state', 'orgid', 'jobid',\n",
       "       'adbusign', 'townsign', 'regtype', 'empnum', 'compform', 'parnum',\n",
       "       'exenum', 'venind', 'enttypeminu', 'protype', 'oploc', 'regcap',\n",
       "       'reccap', 'forreccap', 'forregcap', 'congro', 'enttypegb'],\n",
       "      dtype='object')"
      ]
     },
     "metadata": {},
     "execution_count": 21
    }
   ],
   "source": [
    "base_info.columns"
   ]
  },
  {
   "cell_type": "code",
   "execution_count": 22,
   "metadata": {},
   "outputs": [],
   "source": [
    "train_dataset = pd.merge(train_id, base_info, on=['id'], how='left')"
   ]
  },
  {
   "cell_type": "code",
   "execution_count": 24,
   "metadata": {},
   "outputs": [
    {
     "output_type": "execute_result",
     "data": {
      "text/plain": [
       "Index(['id', 'label', 'oplocdistrict', 'industryphy', 'industryco', 'dom',\n",
       "       'opscope', 'enttype', 'enttypeitem', 'opfrom', 'opto', 'state', 'orgid',\n",
       "       'jobid', 'adbusign', 'townsign', 'regtype', 'empnum', 'compform',\n",
       "       'parnum', 'exenum', 'venind', 'enttypeminu', 'protype', 'oploc',\n",
       "       'regcap', 'reccap', 'forreccap', 'forregcap', 'congro', 'enttypegb'],\n",
       "      dtype='object')"
      ]
     },
     "metadata": {},
     "execution_count": 24
    }
   ],
   "source": [
    "train_dataset.columns"
   ]
  },
  {
   "cell_type": "code",
   "execution_count": 49,
   "metadata": {},
   "outputs": [
    {
     "output_type": "execute_result",
     "data": {
      "text/plain": [
       "label  parnum\n",
       "0      -1        12758\n",
       "        2          549\n",
       "        1          399\n",
       "        3          108\n",
       "        4           28\n",
       "        5           16\n",
       "        6            3\n",
       "        7            2\n",
       "        8            2\n",
       "        9            2\n",
       "        13           2\n",
       "        27           2\n",
       "        46           2\n",
       "        10           1\n",
       "        12           1\n",
       "        14           1\n",
       "        22           1\n",
       "        23           1\n",
       "        25           1\n",
       "        33           1\n",
       "        37           1\n",
       "        41           1\n",
       "        44           1\n",
       "        49           1\n",
       "1      -1          437\n",
       "        2          292\n",
       "        3           86\n",
       "        4           37\n",
       "        5           13\n",
       "        6           11\n",
       "                 ...  \n",
       "        10           4\n",
       "        12           4\n",
       "        19           4\n",
       "        9            3\n",
       "        20           3\n",
       "        21           3\n",
       "        24           3\n",
       "        30           3\n",
       "        32           3\n",
       "        38           3\n",
       "        40           3\n",
       "        41           3\n",
       "        50           3\n",
       "        11           2\n",
       "        18           2\n",
       "        22           2\n",
       "        26           2\n",
       "        31           2\n",
       "        33           2\n",
       "        36           2\n",
       "        42           2\n",
       "        47           2\n",
       "        48           2\n",
       "        14           1\n",
       "        16           1\n",
       "        25           1\n",
       "        35           1\n",
       "        43           1\n",
       "        45           1\n",
       "        46           1\n",
       "Name: parnum, Length: 66, dtype: int64"
      ]
     },
     "metadata": {},
     "execution_count": 49
    }
   ],
   "source": [
    "train_dataset.groupby('label')['parnum'].value_counts()"
   ]
  },
  {
   "source": [
    "## other info\n"
   ],
   "cell_type": "markdown",
   "metadata": {}
  },
  {
   "cell_type": "code",
   "execution_count": 68,
   "metadata": {},
   "outputs": [],
   "source": [
    "other_info = load_csv('../ccf_data/other_info.csv', converters={'id': str})"
   ]
  },
  {
   "cell_type": "code",
   "execution_count": 69,
   "metadata": {},
   "outputs": [
    {
     "output_type": "execute_result",
     "data": {
      "text/plain": [
       "                                                    id  legal_judgment_num  \\\n",
       "0     f000950527a6feb6d340f91da09e61347d8200cd2f0d1602                 4.0   \n",
       "1     f000950527a6feb608dd9322b74a99f60851207f36a3c94c                 1.0   \n",
       "2     d8071a739aa75a3b9f23966f8dae78fd226c272515b9c255                 2.0   \n",
       "3     216bd2aaf4d079242209b1496f81a36c7abed9dd0bb65ed3                 NaN   \n",
       "4     e9f7b28ec10e0470de9631c789f49acdd4e7cf9ed6db094b                 NaN   \n",
       "5     d8071a739aa75a3bcf6fb0041ee883243251d30025ab9d45                 1.0   \n",
       "6     f000950527a6feb6f97af739bb95531db891a11df80bdb8b                 3.0   \n",
       "7     f000950527a6feb65929509d9be855bf75b7337d4465843e                47.0   \n",
       "8     f000950527a6feb6a81704c38a21ae17f4f09eaa9aa77bea                 NaN   \n",
       "9     f000950527a6feb6c0ab37e6eb4a4bf25ee20f0ff9ff070d                 NaN   \n",
       "10    82750f1b9d1223506c304585e5f7ad7928810dc983b86b31                 NaN   \n",
       "11    d8071a739aa75a3bc42a2c5242f2397861fa33d6cc700d1c                 NaN   \n",
       "12    e9f7b28ec10e0470bbec8c542b9ade3c665dbfa616e7a0d6                 NaN   \n",
       "13    f000950527a6feb6b018bff1819a0605429820fa2072b0d6                 1.0   \n",
       "14    59b38c56de38368391bec049f23801f60e875733011c2a1b                 6.0   \n",
       "15    f000950527a6feb6abf416594bb1f7470a2dfc05306efac3                 NaN   \n",
       "16    f000950527a6feb68b2de1c0fb54cf2919d4029742a7a1c4                 1.0   \n",
       "17    216bd2aaf4d0792477d874113d0a23613888ba52f31dfe2a                 NaN   \n",
       "18    e9f7b28ec10e047039ef2e92c4f75351547372521e95141c                 NaN   \n",
       "19    e9f7b28ec10e0470d21aa86436d886023637b37d4b3e94a2                 NaN   \n",
       "20    f000950527a6feb68f92f714638e43b8c7bb85f2a1fcc631                 NaN   \n",
       "21    f000950527a6feb6a910c086edfe43b53c469ce19f24bc1f                 2.0   \n",
       "22    f000950527a6feb60d98fe51cf38846ebf074c561a7b5d28                 2.0   \n",
       "23    216bd2aaf4d0792496791f99c798fdad2b3b441701be03c2                 NaN   \n",
       "24    f000950527a6feb641366f1b7ea19bf0ece362eab11326e9                 NaN   \n",
       "25    f000950527a6feb63837cba9eb06ef53fcb936ace7e8526a                 NaN   \n",
       "26    4a8fc4f3fb4d8a0f65bf8522bf08d5403c0ce06237afee58                 1.0   \n",
       "27    e9f7b28ec10e04708cf1cc7451ba3008f9232249d39aaa3f                23.0   \n",
       "28    f000950527a6feb6a3e5db12921603ab7f44bcfd265bd5b1                 6.0   \n",
       "29    f000950527a6feb680b60037d9fe53ff85b087616391ea25                 NaN   \n",
       "...                                                ...                 ...   \n",
       "1860  d8071a739aa75a3be4f977d97abd9ff39d9fd71561a6d86c                 1.0   \n",
       "1861  f000950527a6feb689ec4f826034df0d2ba3a16bf3515af7                 7.0   \n",
       "1862  f000950527a6feb66f557a19f8dd3226391ff0b99562dd3a                 1.0   \n",
       "1863  47645761dc56bb8c9725b5fe67e2158845c581243d09eb73                 NaN   \n",
       "1864  59b38c56de383683e3c66b76dd006b0cd84517525aae3029                 2.0   \n",
       "1865  f000950527a6feb6a005c09bbd2e2696880df8cd9b350ae2                 1.0   \n",
       "1866  e9f7b28ec10e04701757daedad00dbbec9b223aba3e634b5                 1.0   \n",
       "1867  f000950527a6feb6525a8a33b149815c168ac689b6f76769                 1.0   \n",
       "1868  f000950527a6feb62a5282157a73151e3bd5c1de90cc8252                 8.0   \n",
       "1869  82750f1b9d122350ab63f19538a8ca77f31a4b97e4a99108                 5.0   \n",
       "1870  d8071a739aa75a3b358079b549a933d65bb60390040a1b9b                 1.0   \n",
       "1871  82750f1b9d122350e1482666eb9d5e3b94a2aa40d74f0a17                 3.0   \n",
       "1872  f000950527a6feb6fcdaac2d3cf415a43454863d6b29c21f                 NaN   \n",
       "1873  d8071a739aa75a3b1e6499c92dae4042d5585ced15b75e85                 2.0   \n",
       "1874  f000950527a6feb6db4240bbef2e9513873ad872c18ec85c                 3.0   \n",
       "1875  f000950527a6feb6741975df339ab5b7580ab64c0e959ab5                32.0   \n",
       "1876  f000950527a6feb6acae98cc7f681e7711581b7b86131cb6                 1.0   \n",
       "1877  f000950527a6feb6c1ba8f3cbd5014a898fafb303f87daf3                 NaN   \n",
       "1878  59b38c56de3836838c6429dad3142f27fdbf1862bc09f634                 3.0   \n",
       "1879  f000950527a6feb6e91a9a71b5d19773a34d74b497fa5eee                 2.0   \n",
       "1880  f000950527a6feb6b7050822f4ff222856c430eab47a5bc5                 8.0   \n",
       "1881  f000950527a6feb6ba87e96d0f0eaf14b8abe9ba6b0e6d35                 NaN   \n",
       "1882  f000950527a6feb6fed905dd851e5cbb2c0cf6b2f95922c4                 NaN   \n",
       "1883  47e3664e12f3ce74664b3af9d2c4cb13d301b992e7d32102                80.0   \n",
       "1884  f000950527a6feb61524c21e0226f9e37842f263a2eec7ab                 1.0   \n",
       "1885  47645761dc56bb8cf147c0f51d60cfe28fd995aaca7693d9                 6.0   \n",
       "1886  f000950527a6feb69ea351e48351a711fb09bf1b83f04dfc                 1.0   \n",
       "1887  d8071a739aa75a3b39130af3718b2f261b57833a6a58ba55                 2.0   \n",
       "1888  d8071a739aa75a3b6860158ec0cc8ba7972fb14ba37b9e0a                 1.0   \n",
       "1889  f000950527a6feb6de489447885cd6d18f593ec2674174ac                40.0   \n",
       "\n",
       "      brand_num  patent_num  \n",
       "0           NaN         NaN  \n",
       "1           NaN         NaN  \n",
       "2           NaN         NaN  \n",
       "3           1.0         NaN  \n",
       "4           2.0         NaN  \n",
       "5           NaN         NaN  \n",
       "6           NaN         NaN  \n",
       "7           NaN         NaN  \n",
       "8           3.0         NaN  \n",
       "9           1.0         NaN  \n",
       "10          1.0         NaN  \n",
       "11          3.0         NaN  \n",
       "12          6.0         NaN  \n",
       "13          NaN         NaN  \n",
       "14          NaN         NaN  \n",
       "15          3.0         NaN  \n",
       "16          NaN         NaN  \n",
       "17          1.0         NaN  \n",
       "18          1.0         NaN  \n",
       "19         23.0         NaN  \n",
       "20         16.0         NaN  \n",
       "21          1.0         NaN  \n",
       "22          2.0         NaN  \n",
       "23          1.0         NaN  \n",
       "24          NaN        21.0  \n",
       "25          1.0         NaN  \n",
       "26          NaN         NaN  \n",
       "27          NaN         NaN  \n",
       "28          NaN        13.0  \n",
       "29          1.0       101.0  \n",
       "...         ...         ...  \n",
       "1860        NaN         NaN  \n",
       "1861        NaN         NaN  \n",
       "1862        2.0         NaN  \n",
       "1863        1.0         NaN  \n",
       "1864        NaN         NaN  \n",
       "1865        NaN         NaN  \n",
       "1866        NaN         NaN  \n",
       "1867        NaN         NaN  \n",
       "1868        NaN         NaN  \n",
       "1869        NaN         NaN  \n",
       "1870        NaN         NaN  \n",
       "1871        NaN         NaN  \n",
       "1872        1.0         NaN  \n",
       "1873        NaN         NaN  \n",
       "1874        NaN         NaN  \n",
       "1875        NaN         NaN  \n",
       "1876        NaN         NaN  \n",
       "1877        2.0         3.0  \n",
       "1878        NaN         NaN  \n",
       "1879        NaN         NaN  \n",
       "1880        NaN         NaN  \n",
       "1881        1.0         NaN  \n",
       "1882        2.0        21.0  \n",
       "1883        NaN         NaN  \n",
       "1884        NaN         NaN  \n",
       "1885        NaN         NaN  \n",
       "1886        NaN         NaN  \n",
       "1887        1.0         NaN  \n",
       "1888        NaN         NaN  \n",
       "1889        NaN         NaN  \n",
       "\n",
       "[1890 rows x 4 columns]"
      ],
      "text/html": "<div>\n<style scoped>\n    .dataframe tbody tr th:only-of-type {\n        vertical-align: middle;\n    }\n\n    .dataframe tbody tr th {\n        vertical-align: top;\n    }\n\n    .dataframe thead th {\n        text-align: right;\n    }\n</style>\n<table border=\"1\" class=\"dataframe\">\n  <thead>\n    <tr style=\"text-align: right;\">\n      <th></th>\n      <th>id</th>\n      <th>legal_judgment_num</th>\n      <th>brand_num</th>\n      <th>patent_num</th>\n    </tr>\n  </thead>\n  <tbody>\n    <tr>\n      <th>0</th>\n      <td>f000950527a6feb6d340f91da09e61347d8200cd2f0d1602</td>\n      <td>4.0</td>\n      <td>NaN</td>\n      <td>NaN</td>\n    </tr>\n    <tr>\n      <th>1</th>\n      <td>f000950527a6feb608dd9322b74a99f60851207f36a3c94c</td>\n      <td>1.0</td>\n      <td>NaN</td>\n      <td>NaN</td>\n    </tr>\n    <tr>\n      <th>2</th>\n      <td>d8071a739aa75a3b9f23966f8dae78fd226c272515b9c255</td>\n      <td>2.0</td>\n      <td>NaN</td>\n      <td>NaN</td>\n    </tr>\n    <tr>\n      <th>3</th>\n      <td>216bd2aaf4d079242209b1496f81a36c7abed9dd0bb65ed3</td>\n      <td>NaN</td>\n      <td>1.0</td>\n      <td>NaN</td>\n    </tr>\n    <tr>\n      <th>4</th>\n      <td>e9f7b28ec10e0470de9631c789f49acdd4e7cf9ed6db094b</td>\n      <td>NaN</td>\n      <td>2.0</td>\n      <td>NaN</td>\n    </tr>\n    <tr>\n      <th>5</th>\n      <td>d8071a739aa75a3bcf6fb0041ee883243251d30025ab9d45</td>\n      <td>1.0</td>\n      <td>NaN</td>\n      <td>NaN</td>\n    </tr>\n    <tr>\n      <th>6</th>\n      <td>f000950527a6feb6f97af739bb95531db891a11df80bdb8b</td>\n      <td>3.0</td>\n      <td>NaN</td>\n      <td>NaN</td>\n    </tr>\n    <tr>\n      <th>7</th>\n      <td>f000950527a6feb65929509d9be855bf75b7337d4465843e</td>\n      <td>47.0</td>\n      <td>NaN</td>\n      <td>NaN</td>\n    </tr>\n    <tr>\n      <th>8</th>\n      <td>f000950527a6feb6a81704c38a21ae17f4f09eaa9aa77bea</td>\n      <td>NaN</td>\n      <td>3.0</td>\n      <td>NaN</td>\n    </tr>\n    <tr>\n      <th>9</th>\n      <td>f000950527a6feb6c0ab37e6eb4a4bf25ee20f0ff9ff070d</td>\n      <td>NaN</td>\n      <td>1.0</td>\n      <td>NaN</td>\n    </tr>\n    <tr>\n      <th>10</th>\n      <td>82750f1b9d1223506c304585e5f7ad7928810dc983b86b31</td>\n      <td>NaN</td>\n      <td>1.0</td>\n      <td>NaN</td>\n    </tr>\n    <tr>\n      <th>11</th>\n      <td>d8071a739aa75a3bc42a2c5242f2397861fa33d6cc700d1c</td>\n      <td>NaN</td>\n      <td>3.0</td>\n      <td>NaN</td>\n    </tr>\n    <tr>\n      <th>12</th>\n      <td>e9f7b28ec10e0470bbec8c542b9ade3c665dbfa616e7a0d6</td>\n      <td>NaN</td>\n      <td>6.0</td>\n      <td>NaN</td>\n    </tr>\n    <tr>\n      <th>13</th>\n      <td>f000950527a6feb6b018bff1819a0605429820fa2072b0d6</td>\n      <td>1.0</td>\n      <td>NaN</td>\n      <td>NaN</td>\n    </tr>\n    <tr>\n      <th>14</th>\n      <td>59b38c56de38368391bec049f23801f60e875733011c2a1b</td>\n      <td>6.0</td>\n      <td>NaN</td>\n      <td>NaN</td>\n    </tr>\n    <tr>\n      <th>15</th>\n      <td>f000950527a6feb6abf416594bb1f7470a2dfc05306efac3</td>\n      <td>NaN</td>\n      <td>3.0</td>\n      <td>NaN</td>\n    </tr>\n    <tr>\n      <th>16</th>\n      <td>f000950527a6feb68b2de1c0fb54cf2919d4029742a7a1c4</td>\n      <td>1.0</td>\n      <td>NaN</td>\n      <td>NaN</td>\n    </tr>\n    <tr>\n      <th>17</th>\n      <td>216bd2aaf4d0792477d874113d0a23613888ba52f31dfe2a</td>\n      <td>NaN</td>\n      <td>1.0</td>\n      <td>NaN</td>\n    </tr>\n    <tr>\n      <th>18</th>\n      <td>e9f7b28ec10e047039ef2e92c4f75351547372521e95141c</td>\n      <td>NaN</td>\n      <td>1.0</td>\n      <td>NaN</td>\n    </tr>\n    <tr>\n      <th>19</th>\n      <td>e9f7b28ec10e0470d21aa86436d886023637b37d4b3e94a2</td>\n      <td>NaN</td>\n      <td>23.0</td>\n      <td>NaN</td>\n    </tr>\n    <tr>\n      <th>20</th>\n      <td>f000950527a6feb68f92f714638e43b8c7bb85f2a1fcc631</td>\n      <td>NaN</td>\n      <td>16.0</td>\n      <td>NaN</td>\n    </tr>\n    <tr>\n      <th>21</th>\n      <td>f000950527a6feb6a910c086edfe43b53c469ce19f24bc1f</td>\n      <td>2.0</td>\n      <td>1.0</td>\n      <td>NaN</td>\n    </tr>\n    <tr>\n      <th>22</th>\n      <td>f000950527a6feb60d98fe51cf38846ebf074c561a7b5d28</td>\n      <td>2.0</td>\n      <td>2.0</td>\n      <td>NaN</td>\n    </tr>\n    <tr>\n      <th>23</th>\n      <td>216bd2aaf4d0792496791f99c798fdad2b3b441701be03c2</td>\n      <td>NaN</td>\n      <td>1.0</td>\n      <td>NaN</td>\n    </tr>\n    <tr>\n      <th>24</th>\n      <td>f000950527a6feb641366f1b7ea19bf0ece362eab11326e9</td>\n      <td>NaN</td>\n      <td>NaN</td>\n      <td>21.0</td>\n    </tr>\n    <tr>\n      <th>25</th>\n      <td>f000950527a6feb63837cba9eb06ef53fcb936ace7e8526a</td>\n      <td>NaN</td>\n      <td>1.0</td>\n      <td>NaN</td>\n    </tr>\n    <tr>\n      <th>26</th>\n      <td>4a8fc4f3fb4d8a0f65bf8522bf08d5403c0ce06237afee58</td>\n      <td>1.0</td>\n      <td>NaN</td>\n      <td>NaN</td>\n    </tr>\n    <tr>\n      <th>27</th>\n      <td>e9f7b28ec10e04708cf1cc7451ba3008f9232249d39aaa3f</td>\n      <td>23.0</td>\n      <td>NaN</td>\n      <td>NaN</td>\n    </tr>\n    <tr>\n      <th>28</th>\n      <td>f000950527a6feb6a3e5db12921603ab7f44bcfd265bd5b1</td>\n      <td>6.0</td>\n      <td>NaN</td>\n      <td>13.0</td>\n    </tr>\n    <tr>\n      <th>29</th>\n      <td>f000950527a6feb680b60037d9fe53ff85b087616391ea25</td>\n      <td>NaN</td>\n      <td>1.0</td>\n      <td>101.0</td>\n    </tr>\n    <tr>\n      <th>...</th>\n      <td>...</td>\n      <td>...</td>\n      <td>...</td>\n      <td>...</td>\n    </tr>\n    <tr>\n      <th>1860</th>\n      <td>d8071a739aa75a3be4f977d97abd9ff39d9fd71561a6d86c</td>\n      <td>1.0</td>\n      <td>NaN</td>\n      <td>NaN</td>\n    </tr>\n    <tr>\n      <th>1861</th>\n      <td>f000950527a6feb689ec4f826034df0d2ba3a16bf3515af7</td>\n      <td>7.0</td>\n      <td>NaN</td>\n      <td>NaN</td>\n    </tr>\n    <tr>\n      <th>1862</th>\n      <td>f000950527a6feb66f557a19f8dd3226391ff0b99562dd3a</td>\n      <td>1.0</td>\n      <td>2.0</td>\n      <td>NaN</td>\n    </tr>\n    <tr>\n      <th>1863</th>\n      <td>47645761dc56bb8c9725b5fe67e2158845c581243d09eb73</td>\n      <td>NaN</td>\n      <td>1.0</td>\n      <td>NaN</td>\n    </tr>\n    <tr>\n      <th>1864</th>\n      <td>59b38c56de383683e3c66b76dd006b0cd84517525aae3029</td>\n      <td>2.0</td>\n      <td>NaN</td>\n      <td>NaN</td>\n    </tr>\n    <tr>\n      <th>1865</th>\n      <td>f000950527a6feb6a005c09bbd2e2696880df8cd9b350ae2</td>\n      <td>1.0</td>\n      <td>NaN</td>\n      <td>NaN</td>\n    </tr>\n    <tr>\n      <th>1866</th>\n      <td>e9f7b28ec10e04701757daedad00dbbec9b223aba3e634b5</td>\n      <td>1.0</td>\n      <td>NaN</td>\n      <td>NaN</td>\n    </tr>\n    <tr>\n      <th>1867</th>\n      <td>f000950527a6feb6525a8a33b149815c168ac689b6f76769</td>\n      <td>1.0</td>\n      <td>NaN</td>\n      <td>NaN</td>\n    </tr>\n    <tr>\n      <th>1868</th>\n      <td>f000950527a6feb62a5282157a73151e3bd5c1de90cc8252</td>\n      <td>8.0</td>\n      <td>NaN</td>\n      <td>NaN</td>\n    </tr>\n    <tr>\n      <th>1869</th>\n      <td>82750f1b9d122350ab63f19538a8ca77f31a4b97e4a99108</td>\n      <td>5.0</td>\n      <td>NaN</td>\n      <td>NaN</td>\n    </tr>\n    <tr>\n      <th>1870</th>\n      <td>d8071a739aa75a3b358079b549a933d65bb60390040a1b9b</td>\n      <td>1.0</td>\n      <td>NaN</td>\n      <td>NaN</td>\n    </tr>\n    <tr>\n      <th>1871</th>\n      <td>82750f1b9d122350e1482666eb9d5e3b94a2aa40d74f0a17</td>\n      <td>3.0</td>\n      <td>NaN</td>\n      <td>NaN</td>\n    </tr>\n    <tr>\n      <th>1872</th>\n      <td>f000950527a6feb6fcdaac2d3cf415a43454863d6b29c21f</td>\n      <td>NaN</td>\n      <td>1.0</td>\n      <td>NaN</td>\n    </tr>\n    <tr>\n      <th>1873</th>\n      <td>d8071a739aa75a3b1e6499c92dae4042d5585ced15b75e85</td>\n      <td>2.0</td>\n      <td>NaN</td>\n      <td>NaN</td>\n    </tr>\n    <tr>\n      <th>1874</th>\n      <td>f000950527a6feb6db4240bbef2e9513873ad872c18ec85c</td>\n      <td>3.0</td>\n      <td>NaN</td>\n      <td>NaN</td>\n    </tr>\n    <tr>\n      <th>1875</th>\n      <td>f000950527a6feb6741975df339ab5b7580ab64c0e959ab5</td>\n      <td>32.0</td>\n      <td>NaN</td>\n      <td>NaN</td>\n    </tr>\n    <tr>\n      <th>1876</th>\n      <td>f000950527a6feb6acae98cc7f681e7711581b7b86131cb6</td>\n      <td>1.0</td>\n      <td>NaN</td>\n      <td>NaN</td>\n    </tr>\n    <tr>\n      <th>1877</th>\n      <td>f000950527a6feb6c1ba8f3cbd5014a898fafb303f87daf3</td>\n      <td>NaN</td>\n      <td>2.0</td>\n      <td>3.0</td>\n    </tr>\n    <tr>\n      <th>1878</th>\n      <td>59b38c56de3836838c6429dad3142f27fdbf1862bc09f634</td>\n      <td>3.0</td>\n      <td>NaN</td>\n      <td>NaN</td>\n    </tr>\n    <tr>\n      <th>1879</th>\n      <td>f000950527a6feb6e91a9a71b5d19773a34d74b497fa5eee</td>\n      <td>2.0</td>\n      <td>NaN</td>\n      <td>NaN</td>\n    </tr>\n    <tr>\n      <th>1880</th>\n      <td>f000950527a6feb6b7050822f4ff222856c430eab47a5bc5</td>\n      <td>8.0</td>\n      <td>NaN</td>\n      <td>NaN</td>\n    </tr>\n    <tr>\n      <th>1881</th>\n      <td>f000950527a6feb6ba87e96d0f0eaf14b8abe9ba6b0e6d35</td>\n      <td>NaN</td>\n      <td>1.0</td>\n      <td>NaN</td>\n    </tr>\n    <tr>\n      <th>1882</th>\n      <td>f000950527a6feb6fed905dd851e5cbb2c0cf6b2f95922c4</td>\n      <td>NaN</td>\n      <td>2.0</td>\n      <td>21.0</td>\n    </tr>\n    <tr>\n      <th>1883</th>\n      <td>47e3664e12f3ce74664b3af9d2c4cb13d301b992e7d32102</td>\n      <td>80.0</td>\n      <td>NaN</td>\n      <td>NaN</td>\n    </tr>\n    <tr>\n      <th>1884</th>\n      <td>f000950527a6feb61524c21e0226f9e37842f263a2eec7ab</td>\n      <td>1.0</td>\n      <td>NaN</td>\n      <td>NaN</td>\n    </tr>\n    <tr>\n      <th>1885</th>\n      <td>47645761dc56bb8cf147c0f51d60cfe28fd995aaca7693d9</td>\n      <td>6.0</td>\n      <td>NaN</td>\n      <td>NaN</td>\n    </tr>\n    <tr>\n      <th>1886</th>\n      <td>f000950527a6feb69ea351e48351a711fb09bf1b83f04dfc</td>\n      <td>1.0</td>\n      <td>NaN</td>\n      <td>NaN</td>\n    </tr>\n    <tr>\n      <th>1887</th>\n      <td>d8071a739aa75a3b39130af3718b2f261b57833a6a58ba55</td>\n      <td>2.0</td>\n      <td>1.0</td>\n      <td>NaN</td>\n    </tr>\n    <tr>\n      <th>1888</th>\n      <td>d8071a739aa75a3b6860158ec0cc8ba7972fb14ba37b9e0a</td>\n      <td>1.0</td>\n      <td>NaN</td>\n      <td>NaN</td>\n    </tr>\n    <tr>\n      <th>1889</th>\n      <td>f000950527a6feb6de489447885cd6d18f593ec2674174ac</td>\n      <td>40.0</td>\n      <td>NaN</td>\n      <td>NaN</td>\n    </tr>\n  </tbody>\n</table>\n<p>1890 rows × 4 columns</p>\n</div>"
     },
     "metadata": {},
     "execution_count": 69
    }
   ],
   "source": [
    "other_info"
   ]
  },
  {
   "cell_type": "code",
   "execution_count": 70,
   "metadata": {},
   "outputs": [],
   "source": [
    "convert_col = ['legal_judgment_num', 'brand_num', 'patent_num' ]"
   ]
  },
  {
   "cell_type": "code",
   "execution_count": 71,
   "metadata": {},
   "outputs": [],
   "source": [
    "for col in convert_col:\n",
    "    other_info[col].fillna(-1, inplace=True)\n",
    "    other_info[col] = other_info[col].astype('float64')"
   ]
  },
  {
   "cell_type": "code",
   "execution_count": 72,
   "metadata": {},
   "outputs": [
    {
     "output_type": "execute_result",
     "data": {
      "text/plain": [
       "id                     object\n",
       "legal_judgment_num    float64\n",
       "brand_num             float64\n",
       "patent_num            float64\n",
       "dtype: object"
      ]
     },
     "metadata": {},
     "execution_count": 72
    }
   ],
   "source": [
    "other_info.dtypes"
   ]
  },
  {
   "cell_type": "code",
   "execution_count": 73,
   "metadata": {},
   "outputs": [],
   "source": [
    "other_info.to_csv('../code/fea_explore/other_info.csv', index=False)"
   ]
  },
  {
   "cell_type": "code",
   "execution_count": null,
   "metadata": {},
   "outputs": [],
   "source": []
  }
 ]
}