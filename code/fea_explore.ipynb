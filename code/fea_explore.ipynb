{
 "metadata": {
  "language_info": {
   "codemirror_mode": {
    "name": "ipython",
    "version": 3
   },
   "file_extension": ".py",
   "mimetype": "text/x-python",
   "name": "python",
   "nbconvert_exporter": "python",
   "pygments_lexer": "ipython3",
   "version": "3.7.6-final"
  },
  "orig_nbformat": 2,
  "kernelspec": {
   "name": "python37664bit417ddc1c8da64083855eec39031b7555",
   "display_name": "Python 3.7.6 64-bit"
  }
 },
 "nbformat": 4,
 "nbformat_minor": 2,
 "cells": [
  {
   "cell_type": "code",
   "execution_count": 1,
   "metadata": {},
   "outputs": [],
   "source": [
    "import pandas as pd\n",
    "import numpy as np"
   ]
  },
  {
   "cell_type": "code",
   "execution_count": 2,
   "metadata": {},
   "outputs": [],
   "source": [
    "def load_csv(file_path, converters):\n",
    "    df = pd.read_csv(file_path, converters=converters, index_col=False, encoding='utf-8')\n",
    "    return df"
   ]
  },
  {
   "cell_type": "code",
   "execution_count": 3,
   "metadata": {},
   "outputs": [],
   "source": [
    "train_id = load_csv('../ccf_data/entprise_info.csv', converters={})"
   ]
  },
  {
   "cell_type": "code",
   "execution_count": 4,
   "metadata": {},
   "outputs": [],
   "source": [
    "base_info = load_csv('../ccf_data/base_info.csv', converters={'oplocdistrict': str, 'enttype': str, 'enttypegb': str,\n",
    "                                                              'state': str, 'orgid': str, 'jobid': str, 'adbusign': str,\n",
    "                                                              'townsign': str, 'regtype': str})"
   ]
  },
  {
   "source": [
    "## base info"
   ],
   "cell_type": "markdown",
   "metadata": {}
  },
  {
   "cell_type": "code",
   "execution_count": 5,
   "metadata": {},
   "outputs": [],
   "source": [
    "# 行业细类代码 规范化成离散型变量\n",
    "base_info['industryco'].fillna(-1, inplace=True)\n",
    "base_info['industryco'] = base_info['industryco'].astype('int')\n",
    "base_info['industryco'] = base_info['industryco'].astype('str')"
   ]
  },
  {
   "cell_type": "code",
   "execution_count": 6,
   "metadata": {},
   "outputs": [],
   "source": [
    "# 企业类型小类 规范化成离散型变量\n",
    "base_info['enttypeitem'].fillna(-1, inplace=True)\n",
    "base_info['enttypeitem'] = base_info['enttypeitem'].astype('int')\n",
    "base_info['enttypeitem'] = base_info['enttypeitem'].astype('str')"
   ]
  },
  {
   "cell_type": "code",
   "execution_count": 7,
   "metadata": {},
   "outputs": [],
   "source": [
    "# 从业人数 规范化连续变量\n",
    "base_info['empnum'].fillna(-1, inplace=True)\n",
    "base_info['empnum'] = base_info['empnum'].astype('int')"
   ]
  },
  {
   "cell_type": "code",
   "execution_count": 8,
   "metadata": {},
   "outputs": [],
   "source": [
    "# 组织形式 规范化成离散型变量\n",
    "base_info['compform'].fillna(-1, inplace=True)\n",
    "base_info['compform'] = base_info['compform'].astype('int')\n",
    "base_info['compform'] = base_info['compform'].astype('str')"
   ]
  },
  {
   "cell_type": "code",
   "execution_count": 9,
   "metadata": {},
   "outputs": [],
   "source": [
    "# 合伙人人数 规范化连续变量\n",
    "base_info['parnum'].fillna(-1, inplace=True)\n",
    "base_info['parnum'] = base_info['parnum'].astype('int')"
   ]
  },
  {
   "cell_type": "code",
   "execution_count": 10,
   "metadata": {},
   "outputs": [],
   "source": [
    "# 执行人数人数 规范化连续变量\n",
    "base_info['exenum'].fillna(-1, inplace=True)\n",
    "base_info['exenum'] = base_info['exenum'].astype('int')"
   ]
  },
  {
   "cell_type": "code",
   "execution_count": 11,
   "metadata": {},
   "outputs": [],
   "source": [
    "# 风险行业 规范化成离散型变量\n",
    "base_info['venind'].fillna(-1, inplace=True)\n",
    "base_info['venind'] = base_info['venind'].astype('int')\n",
    "base_info['venind'] = base_info['venind'].astype('str')"
   ]
  },
  {
   "cell_type": "code",
   "execution_count": 12,
   "metadata": {},
   "outputs": [],
   "source": [
    "# 企业类型细类 规范化成离散型变量\n",
    "base_info['enttypeminu'].fillna(-1, inplace=True)\n",
    "base_info['enttypeminu'] = base_info['enttypeminu'].astype('int')\n",
    "base_info['enttypeminu'] = base_info['enttypeminu'].astype('str')"
   ]
  },
  {
   "cell_type": "code",
   "execution_count": 13,
   "metadata": {},
   "outputs": [],
   "source": [
    "# 项目类型 规范化成离散型变量\n",
    "base_info['protype'].fillna(-1, inplace=True)\n",
    "base_info['protype'] = base_info['protype'].astype('int')\n",
    "base_info['protype'] = base_info['protype'].astype('str')"
   ]
  },
  {
   "cell_type": "code",
   "execution_count": 14,
   "metadata": {},
   "outputs": [],
   "source": [
    "# 多种注册资本金额赋值为-1\n",
    "cols = ['regcap', 'reccap', 'forreccap', 'forregcap', 'congro']\n",
    "for col in cols:\n",
    "    base_info[col].fillna(-1, inplace=True)"
   ]
  },
  {
   "cell_type": "code",
   "execution_count": 15,
   "metadata": {},
   "outputs": [
    {
     "output_type": "execute_result",
     "data": {
      "text/plain": [
       "id                object\n",
       "oplocdistrict     object\n",
       "industryphy       object\n",
       "industryco        object\n",
       "dom               object\n",
       "opscope           object\n",
       "enttype           object\n",
       "enttypeitem       object\n",
       "opfrom            object\n",
       "opto              object\n",
       "state             object\n",
       "orgid             object\n",
       "jobid             object\n",
       "adbusign          object\n",
       "townsign          object\n",
       "regtype           object\n",
       "empnum             int32\n",
       "compform          object\n",
       "parnum             int32\n",
       "exenum             int32\n",
       "opform            object\n",
       "ptbusscope       float64\n",
       "venind            object\n",
       "enttypeminu       object\n",
       "midpreindcode    float64\n",
       "protype           object\n",
       "oploc             object\n",
       "regcap           float64\n",
       "reccap           float64\n",
       "forreccap        float64\n",
       "forregcap        float64\n",
       "congro           float64\n",
       "enttypegb         object\n",
       "dtype: object"
      ]
     },
     "metadata": {},
     "execution_count": 15
    }
   ],
   "source": [
    "base_info.dtypes"
   ]
  },
  {
   "cell_type": "code",
   "execution_count": 16,
   "metadata": {},
   "outputs": [],
   "source": [
    "# 去除空值列\n",
    "drop_list = ['opform','ptbusscope','midpreindcode']\n",
    "\n",
    "for col in drop_list:\n",
    "    del base_info[col]"
   ]
  },
  {
   "cell_type": "code",
   "execution_count": 17,
   "metadata": {},
   "outputs": [
    {
     "output_type": "execute_result",
     "data": {
      "text/plain": [
       "Index(['id', 'oplocdistrict', 'industryphy', 'industryco', 'dom', 'opscope',\n",
       "       'enttype', 'enttypeitem', 'opfrom', 'opto', 'state', 'orgid', 'jobid',\n",
       "       'adbusign', 'townsign', 'regtype', 'empnum', 'compform', 'parnum',\n",
       "       'exenum', 'venind', 'enttypeminu', 'protype', 'oploc', 'regcap',\n",
       "       'reccap', 'forreccap', 'forregcap', 'congro', 'enttypegb'],\n",
       "      dtype='object')"
      ]
     },
     "metadata": {},
     "execution_count": 17
    }
   ],
   "source": [
    "base_info.columns"
   ]
  },
  {
   "cell_type": "code",
   "execution_count": 18,
   "metadata": {},
   "outputs": [],
   "source": [
    "base_info.to_csv('../code/fea_explore/base_info.csv', index=False)"
   ]
  },
  {
   "source": [
    "## 根据标签探索非法集资风险特征"
   ],
   "cell_type": "markdown",
   "metadata": {}
  },
  {
   "cell_type": "code",
   "execution_count": 19,
   "metadata": {},
   "outputs": [
    {
     "output_type": "execute_result",
     "data": {
      "text/plain": [
       "Index(['id', 'oplocdistrict', 'industryphy', 'industryco', 'dom', 'opscope',\n",
       "       'enttype', 'enttypeitem', 'opfrom', 'opto', 'state', 'orgid', 'jobid',\n",
       "       'adbusign', 'townsign', 'regtype', 'empnum', 'compform', 'parnum',\n",
       "       'exenum', 'venind', 'enttypeminu', 'protype', 'oploc', 'regcap',\n",
       "       'reccap', 'forreccap', 'forregcap', 'congro', 'enttypegb'],\n",
       "      dtype='object')"
      ]
     },
     "metadata": {},
     "execution_count": 19
    }
   ],
   "source": [
    "base_info.columns"
   ]
  },
  {
   "cell_type": "code",
   "execution_count": 20,
   "metadata": {},
   "outputs": [],
   "source": [
    "train_dataset = pd.merge(train_id, base_info, on=['id'], how='left')"
   ]
  },
  {
   "cell_type": "code",
   "execution_count": 21,
   "metadata": {},
   "outputs": [
    {
     "output_type": "execute_result",
     "data": {
      "text/plain": [
       "Index(['id', 'label', 'oplocdistrict', 'industryphy', 'industryco', 'dom',\n",
       "       'opscope', 'enttype', 'enttypeitem', 'opfrom', 'opto', 'state', 'orgid',\n",
       "       'jobid', 'adbusign', 'townsign', 'regtype', 'empnum', 'compform',\n",
       "       'parnum', 'exenum', 'venind', 'enttypeminu', 'protype', 'oploc',\n",
       "       'regcap', 'reccap', 'forreccap', 'forregcap', 'congro', 'enttypegb'],\n",
       "      dtype='object')"
      ]
     },
     "metadata": {},
     "execution_count": 21
    }
   ],
   "source": [
    "train_dataset.columns"
   ]
  },
  {
   "cell_type": "code",
   "execution_count": 22,
   "metadata": {},
   "outputs": [
    {
     "output_type": "execute_result",
     "data": {
      "text/plain": [
       "label  parnum\n",
       "0      -1        12758\n",
       "        2          549\n",
       "        1          399\n",
       "        3          108\n",
       "        4           28\n",
       "                 ...  \n",
       "1       25           1\n",
       "        35           1\n",
       "        43           1\n",
       "        45           1\n",
       "        46           1\n",
       "Name: parnum, Length: 66, dtype: int64"
      ]
     },
     "metadata": {},
     "execution_count": 22
    }
   ],
   "source": [
    "train_dataset.groupby('label')['parnum'].value_counts()"
   ]
  },
  {
   "source": [
    "## other info\n"
   ],
   "cell_type": "markdown",
   "metadata": {}
  },
  {
   "cell_type": "code",
   "execution_count": 23,
   "metadata": {},
   "outputs": [],
   "source": [
    "other_info = load_csv('../ccf_data/other_info.csv', converters={'id': str})"
   ]
  },
  {
   "cell_type": "code",
   "execution_count": 24,
   "metadata": {},
   "outputs": [
    {
     "output_type": "execute_result",
     "data": {
      "text/plain": [
       "                                                    id  legal_judgment_num  \\\n",
       "0     f000950527a6feb6d340f91da09e61347d8200cd2f0d1602                 4.0   \n",
       "1     f000950527a6feb608dd9322b74a99f60851207f36a3c94c                 1.0   \n",
       "2     d8071a739aa75a3b9f23966f8dae78fd226c272515b9c255                 2.0   \n",
       "3     216bd2aaf4d079242209b1496f81a36c7abed9dd0bb65ed3                 NaN   \n",
       "4     e9f7b28ec10e0470de9631c789f49acdd4e7cf9ed6db094b                 NaN   \n",
       "...                                                ...                 ...   \n",
       "1885  47645761dc56bb8cf147c0f51d60cfe28fd995aaca7693d9                 6.0   \n",
       "1886  f000950527a6feb69ea351e48351a711fb09bf1b83f04dfc                 1.0   \n",
       "1887  d8071a739aa75a3b39130af3718b2f261b57833a6a58ba55                 2.0   \n",
       "1888  d8071a739aa75a3b6860158ec0cc8ba7972fb14ba37b9e0a                 1.0   \n",
       "1889  f000950527a6feb6de489447885cd6d18f593ec2674174ac                40.0   \n",
       "\n",
       "      brand_num  patent_num  \n",
       "0           NaN         NaN  \n",
       "1           NaN         NaN  \n",
       "2           NaN         NaN  \n",
       "3           1.0         NaN  \n",
       "4           2.0         NaN  \n",
       "...         ...         ...  \n",
       "1885        NaN         NaN  \n",
       "1886        NaN         NaN  \n",
       "1887        1.0         NaN  \n",
       "1888        NaN         NaN  \n",
       "1889        NaN         NaN  \n",
       "\n",
       "[1890 rows x 4 columns]"
      ],
      "text/html": "<div>\n<style scoped>\n    .dataframe tbody tr th:only-of-type {\n        vertical-align: middle;\n    }\n\n    .dataframe tbody tr th {\n        vertical-align: top;\n    }\n\n    .dataframe thead th {\n        text-align: right;\n    }\n</style>\n<table border=\"1\" class=\"dataframe\">\n  <thead>\n    <tr style=\"text-align: right;\">\n      <th></th>\n      <th>id</th>\n      <th>legal_judgment_num</th>\n      <th>brand_num</th>\n      <th>patent_num</th>\n    </tr>\n  </thead>\n  <tbody>\n    <tr>\n      <th>0</th>\n      <td>f000950527a6feb6d340f91da09e61347d8200cd2f0d1602</td>\n      <td>4.0</td>\n      <td>NaN</td>\n      <td>NaN</td>\n    </tr>\n    <tr>\n      <th>1</th>\n      <td>f000950527a6feb608dd9322b74a99f60851207f36a3c94c</td>\n      <td>1.0</td>\n      <td>NaN</td>\n      <td>NaN</td>\n    </tr>\n    <tr>\n      <th>2</th>\n      <td>d8071a739aa75a3b9f23966f8dae78fd226c272515b9c255</td>\n      <td>2.0</td>\n      <td>NaN</td>\n      <td>NaN</td>\n    </tr>\n    <tr>\n      <th>3</th>\n      <td>216bd2aaf4d079242209b1496f81a36c7abed9dd0bb65ed3</td>\n      <td>NaN</td>\n      <td>1.0</td>\n      <td>NaN</td>\n    </tr>\n    <tr>\n      <th>4</th>\n      <td>e9f7b28ec10e0470de9631c789f49acdd4e7cf9ed6db094b</td>\n      <td>NaN</td>\n      <td>2.0</td>\n      <td>NaN</td>\n    </tr>\n    <tr>\n      <th>...</th>\n      <td>...</td>\n      <td>...</td>\n      <td>...</td>\n      <td>...</td>\n    </tr>\n    <tr>\n      <th>1885</th>\n      <td>47645761dc56bb8cf147c0f51d60cfe28fd995aaca7693d9</td>\n      <td>6.0</td>\n      <td>NaN</td>\n      <td>NaN</td>\n    </tr>\n    <tr>\n      <th>1886</th>\n      <td>f000950527a6feb69ea351e48351a711fb09bf1b83f04dfc</td>\n      <td>1.0</td>\n      <td>NaN</td>\n      <td>NaN</td>\n    </tr>\n    <tr>\n      <th>1887</th>\n      <td>d8071a739aa75a3b39130af3718b2f261b57833a6a58ba55</td>\n      <td>2.0</td>\n      <td>1.0</td>\n      <td>NaN</td>\n    </tr>\n    <tr>\n      <th>1888</th>\n      <td>d8071a739aa75a3b6860158ec0cc8ba7972fb14ba37b9e0a</td>\n      <td>1.0</td>\n      <td>NaN</td>\n      <td>NaN</td>\n    </tr>\n    <tr>\n      <th>1889</th>\n      <td>f000950527a6feb6de489447885cd6d18f593ec2674174ac</td>\n      <td>40.0</td>\n      <td>NaN</td>\n      <td>NaN</td>\n    </tr>\n  </tbody>\n</table>\n<p>1890 rows × 4 columns</p>\n</div>"
     },
     "metadata": {},
     "execution_count": 24
    }
   ],
   "source": [
    "other_info"
   ]
  },
  {
   "cell_type": "code",
   "execution_count": 25,
   "metadata": {},
   "outputs": [],
   "source": [
    "convert_col = ['legal_judgment_num', 'brand_num', 'patent_num' ]"
   ]
  },
  {
   "cell_type": "code",
   "execution_count": 26,
   "metadata": {},
   "outputs": [],
   "source": [
    "for col in convert_col:\n",
    "    other_info[col].fillna(-1, inplace=True)\n",
    "    other_info[col] = other_info[col].astype('float64')"
   ]
  },
  {
   "cell_type": "code",
   "execution_count": 27,
   "metadata": {},
   "outputs": [
    {
     "output_type": "execute_result",
     "data": {
      "text/plain": [
       "id                     object\n",
       "legal_judgment_num    float64\n",
       "brand_num             float64\n",
       "patent_num            float64\n",
       "dtype: object"
      ]
     },
     "metadata": {},
     "execution_count": 27
    }
   ],
   "source": [
    "other_info.dtypes"
   ]
  },
  {
   "source": [
    "#### 发现重复项"
   ],
   "cell_type": "markdown",
   "metadata": {}
  },
  {
   "cell_type": "code",
   "execution_count": 28,
   "metadata": {},
   "outputs": [
    {
     "output_type": "stream",
     "name": "stdout",
     "text": [
      "                                                    id  legal_judgment_num  \\\n836   e9f7b28ec10e04707ba878b89e6c2d362b107a817342f9c6                12.0   \n1120  f000950527a6feb63702b1f6c1dabe5ea196d320bbbff425                27.0   \n\n      brand_num  patent_num  \n836         9.0         8.0  \n1120       70.0        77.0  \n"
     ]
    }
   ],
   "source": [
    "isDuplicated = other_info.duplicated('id')\n",
    "print(other_info[other_info.duplicated('id')])"
   ]
  },
  {
   "cell_type": "code",
   "execution_count": 29,
   "metadata": {},
   "outputs": [
    {
     "output_type": "execute_result",
     "data": {
      "text/plain": [
       "                                                    id  legal_judgment_num  \\\n",
       "835   e9f7b28ec10e04707ba878b89e6c2d362b107a817342f9c6                 2.0   \n",
       "836   e9f7b28ec10e04707ba878b89e6c2d362b107a817342f9c6                12.0   \n",
       "1119  f000950527a6feb63702b1f6c1dabe5ea196d320bbbff425                27.0   \n",
       "1120  f000950527a6feb63702b1f6c1dabe5ea196d320bbbff425                27.0   \n",
       "\n",
       "      brand_num  patent_num  \n",
       "835         9.0         8.0  \n",
       "836         9.0         8.0  \n",
       "1119       68.0        77.0  \n",
       "1120       70.0        77.0  "
      ],
      "text/html": "<div>\n<style scoped>\n    .dataframe tbody tr th:only-of-type {\n        vertical-align: middle;\n    }\n\n    .dataframe tbody tr th {\n        vertical-align: top;\n    }\n\n    .dataframe thead th {\n        text-align: right;\n    }\n</style>\n<table border=\"1\" class=\"dataframe\">\n  <thead>\n    <tr style=\"text-align: right;\">\n      <th></th>\n      <th>id</th>\n      <th>legal_judgment_num</th>\n      <th>brand_num</th>\n      <th>patent_num</th>\n    </tr>\n  </thead>\n  <tbody>\n    <tr>\n      <th>835</th>\n      <td>e9f7b28ec10e04707ba878b89e6c2d362b107a817342f9c6</td>\n      <td>2.0</td>\n      <td>9.0</td>\n      <td>8.0</td>\n    </tr>\n    <tr>\n      <th>836</th>\n      <td>e9f7b28ec10e04707ba878b89e6c2d362b107a817342f9c6</td>\n      <td>12.0</td>\n      <td>9.0</td>\n      <td>8.0</td>\n    </tr>\n    <tr>\n      <th>1119</th>\n      <td>f000950527a6feb63702b1f6c1dabe5ea196d320bbbff425</td>\n      <td>27.0</td>\n      <td>68.0</td>\n      <td>77.0</td>\n    </tr>\n    <tr>\n      <th>1120</th>\n      <td>f000950527a6feb63702b1f6c1dabe5ea196d320bbbff425</td>\n      <td>27.0</td>\n      <td>70.0</td>\n      <td>77.0</td>\n    </tr>\n  </tbody>\n</table>\n</div>"
     },
     "metadata": {},
     "execution_count": 29
    }
   ],
   "source": [
    "other_info[other_info['id'].isin(['e9f7b28ec10e04707ba878b89e6c2d362b107a817342f9c6', 'f000950527a6feb63702b1f6c1dabe5ea196d320bbbff425'])]"
   ]
  },
  {
   "cell_type": "code",
   "execution_count": 30,
   "metadata": {},
   "outputs": [],
   "source": [
    "## 经观察，发现后一条的数据更可信\n",
    "other_info.drop_duplicates('id', keep='last', inplace=True)"
   ]
  },
  {
   "cell_type": "code",
   "execution_count": 31,
   "metadata": {},
   "outputs": [
    {
     "output_type": "execute_result",
     "data": {
      "text/plain": [
       "                                                    id  legal_judgment_num  \\\n",
       "836   e9f7b28ec10e04707ba878b89e6c2d362b107a817342f9c6                12.0   \n",
       "1120  f000950527a6feb63702b1f6c1dabe5ea196d320bbbff425                27.0   \n",
       "\n",
       "      brand_num  patent_num  \n",
       "836         9.0         8.0  \n",
       "1120       70.0        77.0  "
      ],
      "text/html": "<div>\n<style scoped>\n    .dataframe tbody tr th:only-of-type {\n        vertical-align: middle;\n    }\n\n    .dataframe tbody tr th {\n        vertical-align: top;\n    }\n\n    .dataframe thead th {\n        text-align: right;\n    }\n</style>\n<table border=\"1\" class=\"dataframe\">\n  <thead>\n    <tr style=\"text-align: right;\">\n      <th></th>\n      <th>id</th>\n      <th>legal_judgment_num</th>\n      <th>brand_num</th>\n      <th>patent_num</th>\n    </tr>\n  </thead>\n  <tbody>\n    <tr>\n      <th>836</th>\n      <td>e9f7b28ec10e04707ba878b89e6c2d362b107a817342f9c6</td>\n      <td>12.0</td>\n      <td>9.0</td>\n      <td>8.0</td>\n    </tr>\n    <tr>\n      <th>1120</th>\n      <td>f000950527a6feb63702b1f6c1dabe5ea196d320bbbff425</td>\n      <td>27.0</td>\n      <td>70.0</td>\n      <td>77.0</td>\n    </tr>\n  </tbody>\n</table>\n</div>"
     },
     "metadata": {},
     "execution_count": 31
    }
   ],
   "source": [
    "other_info[other_info['id'].isin(['e9f7b28ec10e04707ba878b89e6c2d362b107a817342f9c6', 'f000950527a6feb63702b1f6c1dabe5ea196d320bbbff425'])]"
   ]
  },
  {
   "cell_type": "code",
   "execution_count": 32,
   "metadata": {},
   "outputs": [],
   "source": [
    "other_info.to_csv('../code/fea_explore/other_info.csv', index=False)"
   ]
  },
  {
   "source": [
    "## news info"
   ],
   "cell_type": "markdown",
   "metadata": {}
  },
  {
   "cell_type": "code",
   "execution_count": 33,
   "metadata": {},
   "outputs": [],
   "source": [
    "news_info = load_csv('../ccf_data/news_info.csv', converters={'id': str})"
   ]
  },
  {
   "cell_type": "code",
   "execution_count": 34,
   "metadata": {},
   "outputs": [
    {
     "output_type": "execute_result",
     "data": {
      "text/plain": [
       "                                                     id positive_negtive  \\\n",
       "0      f000950527a6feb62669d6a175fe6fdccd1eb4f7ca8e5016               积极   \n",
       "1      f000950527a6feb6e8bd9919e2ca363359bcfa997a0f9de7               中立   \n",
       "2      f000950527a6feb6e8bd9919e2ca363359bcfa997a0f9de7               消极   \n",
       "3      d8071a739aa75a3bcf6fb0041ee883243251d30025ab9d45               中立   \n",
       "4      f000950527a6feb6d71de3382afa0bc5ff87bb65477f698a               积极   \n",
       "...                                                 ...              ...   \n",
       "10513  d8071a739aa75a3b6860158ec0cc8ba7972fb14ba37b9e0a               中立   \n",
       "10514  d8071a739aa75a3b6860158ec0cc8ba7972fb14ba37b9e0a               积极   \n",
       "10515  f000950527a6feb6de489447885cd6d18f593ec2674174ac               中立   \n",
       "10516  f000950527a6feb6de489447885cd6d18f593ec2674174ac               中立   \n",
       "10517  f000950527a6feb6de489447885cd6d18f593ec2674174ac               消极   \n",
       "\n",
       "      public_date  \n",
       "0      2016-12-30  \n",
       "1      2017-08-09  \n",
       "2      2016-02-29  \n",
       "3      2018-06-08  \n",
       "4      2015-06-29  \n",
       "...           ...  \n",
       "10513  2013-12-25  \n",
       "10514  2013-12-23  \n",
       "10515  2020-04-07  \n",
       "10516  2020-02-21  \n",
       "10517  2018-12-13  \n",
       "\n",
       "[10518 rows x 3 columns]"
      ],
      "text/html": "<div>\n<style scoped>\n    .dataframe tbody tr th:only-of-type {\n        vertical-align: middle;\n    }\n\n    .dataframe tbody tr th {\n        vertical-align: top;\n    }\n\n    .dataframe thead th {\n        text-align: right;\n    }\n</style>\n<table border=\"1\" class=\"dataframe\">\n  <thead>\n    <tr style=\"text-align: right;\">\n      <th></th>\n      <th>id</th>\n      <th>positive_negtive</th>\n      <th>public_date</th>\n    </tr>\n  </thead>\n  <tbody>\n    <tr>\n      <th>0</th>\n      <td>f000950527a6feb62669d6a175fe6fdccd1eb4f7ca8e5016</td>\n      <td>积极</td>\n      <td>2016-12-30</td>\n    </tr>\n    <tr>\n      <th>1</th>\n      <td>f000950527a6feb6e8bd9919e2ca363359bcfa997a0f9de7</td>\n      <td>中立</td>\n      <td>2017-08-09</td>\n    </tr>\n    <tr>\n      <th>2</th>\n      <td>f000950527a6feb6e8bd9919e2ca363359bcfa997a0f9de7</td>\n      <td>消极</td>\n      <td>2016-02-29</td>\n    </tr>\n    <tr>\n      <th>3</th>\n      <td>d8071a739aa75a3bcf6fb0041ee883243251d30025ab9d45</td>\n      <td>中立</td>\n      <td>2018-06-08</td>\n    </tr>\n    <tr>\n      <th>4</th>\n      <td>f000950527a6feb6d71de3382afa0bc5ff87bb65477f698a</td>\n      <td>积极</td>\n      <td>2015-06-29</td>\n    </tr>\n    <tr>\n      <th>...</th>\n      <td>...</td>\n      <td>...</td>\n      <td>...</td>\n    </tr>\n    <tr>\n      <th>10513</th>\n      <td>d8071a739aa75a3b6860158ec0cc8ba7972fb14ba37b9e0a</td>\n      <td>中立</td>\n      <td>2013-12-25</td>\n    </tr>\n    <tr>\n      <th>10514</th>\n      <td>d8071a739aa75a3b6860158ec0cc8ba7972fb14ba37b9e0a</td>\n      <td>积极</td>\n      <td>2013-12-23</td>\n    </tr>\n    <tr>\n      <th>10515</th>\n      <td>f000950527a6feb6de489447885cd6d18f593ec2674174ac</td>\n      <td>中立</td>\n      <td>2020-04-07</td>\n    </tr>\n    <tr>\n      <th>10516</th>\n      <td>f000950527a6feb6de489447885cd6d18f593ec2674174ac</td>\n      <td>中立</td>\n      <td>2020-02-21</td>\n    </tr>\n    <tr>\n      <th>10517</th>\n      <td>f000950527a6feb6de489447885cd6d18f593ec2674174ac</td>\n      <td>消极</td>\n      <td>2018-12-13</td>\n    </tr>\n  </tbody>\n</table>\n<p>10518 rows × 3 columns</p>\n</div>"
     },
     "metadata": {},
     "execution_count": 34
    }
   ],
   "source": [
    "news_info"
   ]
  },
  {
   "cell_type": "code",
   "execution_count": 35,
   "metadata": {},
   "outputs": [
    {
     "output_type": "execute_result",
     "data": {
      "text/plain": [
       "积极    5350\n",
       "中立    4133\n",
       "消极    1035\n",
       "Name: positive_negtive, dtype: int64"
      ]
     },
     "metadata": {},
     "execution_count": 35
    }
   ],
   "source": [
    "news_info['positive_negtive'].value_counts()"
   ]
  },
  {
   "cell_type": "code",
   "execution_count": 36,
   "metadata": {},
   "outputs": [],
   "source": [
    "# 新闻的积极与消极是有时间序列的 可以间接反映是否有逐渐变好或者逐渐变坏的趋势\n",
    "# 有几点思路 1. 某个企业的新闻数量 2. 某个企业的新闻态度变化趋势"
   ]
  },
  {
   "source": [
    "### 计算新闻总数量"
   ],
   "cell_type": "markdown",
   "metadata": {}
  },
  {
   "cell_type": "code",
   "execution_count": 37,
   "metadata": {},
   "outputs": [],
   "source": [
    "df = pd.DataFrame(news_info.groupby('id')['positive_negtive'].count())"
   ]
  },
  {
   "cell_type": "code",
   "execution_count": 38,
   "metadata": {},
   "outputs": [],
   "source": [
    "df_sum = df.reset_index()\n",
    "df_sum = df.rename(columns={'positive_negtive':'news_sum'})"
   ]
  },
  {
   "source": [
    "### 计算积极新闻数量"
   ],
   "cell_type": "markdown",
   "metadata": {}
  },
  {
   "cell_type": "code",
   "execution_count": 39,
   "metadata": {},
   "outputs": [],
   "source": [
    "df = news_info[news_info['positive_negtive'].isin(['积极'])]"
   ]
  },
  {
   "cell_type": "code",
   "execution_count": 40,
   "metadata": {},
   "outputs": [],
   "source": [
    "df = pd.DataFrame(df.groupby('id')['positive_negtive'].count())"
   ]
  },
  {
   "cell_type": "code",
   "execution_count": 41,
   "metadata": {},
   "outputs": [],
   "source": [
    "df_pos = df.reset_index()\n",
    "df_pos = df.rename(columns={'positive_negtive':'news_pos_sum'})"
   ]
  },
  {
   "source": [
    "### 计算中立新闻数量"
   ],
   "cell_type": "markdown",
   "metadata": {}
  },
  {
   "cell_type": "code",
   "execution_count": 42,
   "metadata": {},
   "outputs": [],
   "source": [
    "df = news_info[news_info['positive_negtive'].isin(['中立'])]"
   ]
  },
  {
   "cell_type": "code",
   "execution_count": 43,
   "metadata": {},
   "outputs": [],
   "source": [
    "df = pd.DataFrame(df.groupby('id')['positive_negtive'].count())"
   ]
  },
  {
   "cell_type": "code",
   "execution_count": 44,
   "metadata": {},
   "outputs": [],
   "source": [
    "df_mid = df.reset_index()\n",
    "df_mid = df.rename(columns={'positive_negtive':'news_mid_sum'})"
   ]
  },
  {
   "source": [
    "### 计算消极新闻数量"
   ],
   "cell_type": "markdown",
   "metadata": {}
  },
  {
   "cell_type": "code",
   "execution_count": 45,
   "metadata": {},
   "outputs": [],
   "source": [
    "df = news_info[news_info['positive_negtive'].isin(['消极'])]"
   ]
  },
  {
   "cell_type": "code",
   "execution_count": 46,
   "metadata": {},
   "outputs": [],
   "source": [
    "df = pd.DataFrame(df.groupby('id')['positive_negtive'].count())"
   ]
  },
  {
   "cell_type": "code",
   "execution_count": 47,
   "metadata": {},
   "outputs": [],
   "source": [
    "df_neg = df.reset_index()\n",
    "df_neg = df.rename(columns={'positive_negtive':'news_neg_sum'})"
   ]
  },
  {
   "source": [
    "### 合并新闻数量特征"
   ],
   "cell_type": "markdown",
   "metadata": {}
  },
  {
   "cell_type": "code",
   "execution_count": 48,
   "metadata": {},
   "outputs": [],
   "source": [
    "from functools import reduce\n",
    "dfs = [df_sum, df_pos, df_mid, df_neg]\n",
    "df_new_info = reduce(lambda left, right: pd.merge(left, right, on=['id'], how='left'), dfs)"
   ]
  },
  {
   "cell_type": "code",
   "execution_count": 49,
   "metadata": {},
   "outputs": [],
   "source": [
    "df_new_info.fillna(0, inplace=True)"
   ]
  },
  {
   "cell_type": "code",
   "execution_count": 50,
   "metadata": {},
   "outputs": [
    {
     "output_type": "execute_result",
     "data": {
      "text/plain": [
       "                                                   id  news_sum  news_pos_sum  \\\n",
       "0    09912c34159b1720558a419983a989f1dd2e0ed69a044ca3         6           0.0   \n",
       "1    175ebe5f059ec050afbd65251ecdd3b512bfbe5e62d041b0         7           4.0   \n",
       "2    216bd2aaf4d079240c3ac0b76f0ef4aa355d443880ba78db         3           2.0   \n",
       "3    216bd2aaf4d079240f5823e63d24b44dd2c58e3281b822f6         2           0.0   \n",
       "4    216bd2aaf4d0792410725ba5e7ca1dc32ce55767372f2030         1           0.0   \n",
       "..                                                ...       ...           ...   \n",
       "922  f000950527a6feb6fddefb42e3c3dc1932fc8c5fae14afbb         1           0.0   \n",
       "923  f000950527a6feb6fe8f4850e9eb04e8ba3fa3b409725ef3         9           7.0   \n",
       "924  f000950527a6feb6ff749dc50c7bf46b37b74e36ce38d1a4         1           0.0   \n",
       "925  f000950527a6feb6ff7cdb55f5e64a477c499dd75137ae6b         2           2.0   \n",
       "926  f000950527a6feb6ff839cdf509ebb7631857e6e363fedd6         2           0.0   \n",
       "\n",
       "     news_mid_sum  news_neg_sum  \n",
       "0             6.0           0.0  \n",
       "1             3.0           0.0  \n",
       "2             1.0           0.0  \n",
       "3             2.0           0.0  \n",
       "4             0.0           1.0  \n",
       "..            ...           ...  \n",
       "922           1.0           0.0  \n",
       "923           2.0           0.0  \n",
       "924           0.0           1.0  \n",
       "925           0.0           0.0  \n",
       "926           1.0           1.0  \n",
       "\n",
       "[927 rows x 5 columns]"
      ],
      "text/html": "<div>\n<style scoped>\n    .dataframe tbody tr th:only-of-type {\n        vertical-align: middle;\n    }\n\n    .dataframe tbody tr th {\n        vertical-align: top;\n    }\n\n    .dataframe thead th {\n        text-align: right;\n    }\n</style>\n<table border=\"1\" class=\"dataframe\">\n  <thead>\n    <tr style=\"text-align: right;\">\n      <th></th>\n      <th>id</th>\n      <th>news_sum</th>\n      <th>news_pos_sum</th>\n      <th>news_mid_sum</th>\n      <th>news_neg_sum</th>\n    </tr>\n  </thead>\n  <tbody>\n    <tr>\n      <th>0</th>\n      <td>09912c34159b1720558a419983a989f1dd2e0ed69a044ca3</td>\n      <td>6</td>\n      <td>0.0</td>\n      <td>6.0</td>\n      <td>0.0</td>\n    </tr>\n    <tr>\n      <th>1</th>\n      <td>175ebe5f059ec050afbd65251ecdd3b512bfbe5e62d041b0</td>\n      <td>7</td>\n      <td>4.0</td>\n      <td>3.0</td>\n      <td>0.0</td>\n    </tr>\n    <tr>\n      <th>2</th>\n      <td>216bd2aaf4d079240c3ac0b76f0ef4aa355d443880ba78db</td>\n      <td>3</td>\n      <td>2.0</td>\n      <td>1.0</td>\n      <td>0.0</td>\n    </tr>\n    <tr>\n      <th>3</th>\n      <td>216bd2aaf4d079240f5823e63d24b44dd2c58e3281b822f6</td>\n      <td>2</td>\n      <td>0.0</td>\n      <td>2.0</td>\n      <td>0.0</td>\n    </tr>\n    <tr>\n      <th>4</th>\n      <td>216bd2aaf4d0792410725ba5e7ca1dc32ce55767372f2030</td>\n      <td>1</td>\n      <td>0.0</td>\n      <td>0.0</td>\n      <td>1.0</td>\n    </tr>\n    <tr>\n      <th>...</th>\n      <td>...</td>\n      <td>...</td>\n      <td>...</td>\n      <td>...</td>\n      <td>...</td>\n    </tr>\n    <tr>\n      <th>922</th>\n      <td>f000950527a6feb6fddefb42e3c3dc1932fc8c5fae14afbb</td>\n      <td>1</td>\n      <td>0.0</td>\n      <td>1.0</td>\n      <td>0.0</td>\n    </tr>\n    <tr>\n      <th>923</th>\n      <td>f000950527a6feb6fe8f4850e9eb04e8ba3fa3b409725ef3</td>\n      <td>9</td>\n      <td>7.0</td>\n      <td>2.0</td>\n      <td>0.0</td>\n    </tr>\n    <tr>\n      <th>924</th>\n      <td>f000950527a6feb6ff749dc50c7bf46b37b74e36ce38d1a4</td>\n      <td>1</td>\n      <td>0.0</td>\n      <td>0.0</td>\n      <td>1.0</td>\n    </tr>\n    <tr>\n      <th>925</th>\n      <td>f000950527a6feb6ff7cdb55f5e64a477c499dd75137ae6b</td>\n      <td>2</td>\n      <td>2.0</td>\n      <td>0.0</td>\n      <td>0.0</td>\n    </tr>\n    <tr>\n      <th>926</th>\n      <td>f000950527a6feb6ff839cdf509ebb7631857e6e363fedd6</td>\n      <td>2</td>\n      <td>0.0</td>\n      <td>1.0</td>\n      <td>1.0</td>\n    </tr>\n  </tbody>\n</table>\n<p>927 rows × 5 columns</p>\n</div>"
     },
     "metadata": {},
     "execution_count": 50
    }
   ],
   "source": [
    "df_new_info.reset_index()"
   ]
  },
  {
   "cell_type": "code",
   "execution_count": 51,
   "metadata": {},
   "outputs": [
    {
     "output_type": "execute_result",
     "data": {
      "text/plain": [
       "Index(['news_sum', 'news_pos_sum', 'news_mid_sum', 'news_neg_sum'], dtype='object')"
      ]
     },
     "metadata": {},
     "execution_count": 51
    }
   ],
   "source": [
    "df_new_info.columns"
   ]
  },
  {
   "cell_type": "code",
   "execution_count": 52,
   "metadata": {},
   "outputs": [
    {
     "output_type": "execute_result",
     "data": {
      "text/plain": [
       "news_sum          int64\n",
       "news_pos_sum    float64\n",
       "news_mid_sum    float64\n",
       "news_neg_sum    float64\n",
       "dtype: object"
      ]
     },
     "metadata": {},
     "execution_count": 52
    }
   ],
   "source": [
    "df_new_info.dtypes"
   ]
  },
  {
   "cell_type": "code",
   "execution_count": 53,
   "metadata": {},
   "outputs": [],
   "source": [
    "col_list = ['news_sum', 'news_pos_sum', 'news_mid_sum', 'news_neg_sum']\n",
    "for col in col_list:\n",
    "    df_new_info[col] = df_new_info[col].astype('int')"
   ]
  },
  {
   "cell_type": "code",
   "execution_count": 54,
   "metadata": {},
   "outputs": [
    {
     "output_type": "execute_result",
     "data": {
      "text/plain": [
       "news_sum        int32\n",
       "news_pos_sum    int32\n",
       "news_mid_sum    int32\n",
       "news_neg_sum    int32\n",
       "dtype: object"
      ]
     },
     "metadata": {},
     "execution_count": 54
    }
   ],
   "source": [
    "df_new_info.dtypes"
   ]
  },
  {
   "cell_type": "code",
   "execution_count": 55,
   "metadata": {},
   "outputs": [],
   "source": [
    "df_new_info.to_csv('../code/fea_explore/news_info.csv')"
   ]
  },
  {
   "cell_type": "code",
   "execution_count": 56,
   "metadata": {},
   "outputs": [
    {
     "output_type": "execute_result",
     "data": {
      "text/plain": [
       "                                                    id positive_negtive  \\\n",
       "1540  d8071a739aa75a3bb574df9edeb7d152892dc454f3195d2f               中立   \n",
       "3887  f000950527a6feb6b1cedd99a67ea0c20a3ce2ca11761489               消极   \n",
       "2650  d8071a739aa75a3ba99a596dc0205f927299cb05923e1c47               中立   \n",
       "8824  f000950527a6feb674725f9f9f10e1e248caae28c793b606               中立   \n",
       "8823  f000950527a6feb674725f9f9f10e1e248caae28c793b606               积极   \n",
       "...                                                ...              ...   \n",
       "1157  47645761dc56bb8ccd2ea9ad513cc24944f45fd4617f1962               积极   \n",
       "2173  f000950527a6feb60a1c44d64d8bc8d99a38b6614080ef0f               中立   \n",
       "4556  e9f7b28ec10e047014fe828fdb7abdda95e44ba69de67315               积极   \n",
       "108   59b38c56de38368316087c2ad693bc4b485f695d231f7fa4               中立   \n",
       "1033  f000950527a6feb6bc5d81f4b5b017d5a93a9096d0245eb1               消极   \n",
       "\n",
       "     public_date  \n",
       "1540       14小时前  \n",
       "3887        1小时前  \n",
       "2650  2002-08-24  \n",
       "8824  2003-03-08  \n",
       "8823  2003-03-27  \n",
       "...          ...  \n",
       "1157  2020-09-08  \n",
       "2173  2020-09-08  \n",
       "4556  2020-09-08  \n",
       "108   2020-09-08  \n",
       "1033        4小时前  \n",
       "\n",
       "[3519 rows x 3 columns]"
      ],
      "text/html": "<div>\n<style scoped>\n    .dataframe tbody tr th:only-of-type {\n        vertical-align: middle;\n    }\n\n    .dataframe tbody tr th {\n        vertical-align: top;\n    }\n\n    .dataframe thead th {\n        text-align: right;\n    }\n</style>\n<table border=\"1\" class=\"dataframe\">\n  <thead>\n    <tr style=\"text-align: right;\">\n      <th></th>\n      <th>id</th>\n      <th>positive_negtive</th>\n      <th>public_date</th>\n    </tr>\n  </thead>\n  <tbody>\n    <tr>\n      <th>1540</th>\n      <td>d8071a739aa75a3bb574df9edeb7d152892dc454f3195d2f</td>\n      <td>中立</td>\n      <td>14小时前</td>\n    </tr>\n    <tr>\n      <th>3887</th>\n      <td>f000950527a6feb6b1cedd99a67ea0c20a3ce2ca11761489</td>\n      <td>消极</td>\n      <td>1小时前</td>\n    </tr>\n    <tr>\n      <th>2650</th>\n      <td>d8071a739aa75a3ba99a596dc0205f927299cb05923e1c47</td>\n      <td>中立</td>\n      <td>2002-08-24</td>\n    </tr>\n    <tr>\n      <th>8824</th>\n      <td>f000950527a6feb674725f9f9f10e1e248caae28c793b606</td>\n      <td>中立</td>\n      <td>2003-03-08</td>\n    </tr>\n    <tr>\n      <th>8823</th>\n      <td>f000950527a6feb674725f9f9f10e1e248caae28c793b606</td>\n      <td>积极</td>\n      <td>2003-03-27</td>\n    </tr>\n    <tr>\n      <th>...</th>\n      <td>...</td>\n      <td>...</td>\n      <td>...</td>\n    </tr>\n    <tr>\n      <th>1157</th>\n      <td>47645761dc56bb8ccd2ea9ad513cc24944f45fd4617f1962</td>\n      <td>积极</td>\n      <td>2020-09-08</td>\n    </tr>\n    <tr>\n      <th>2173</th>\n      <td>f000950527a6feb60a1c44d64d8bc8d99a38b6614080ef0f</td>\n      <td>中立</td>\n      <td>2020-09-08</td>\n    </tr>\n    <tr>\n      <th>4556</th>\n      <td>e9f7b28ec10e047014fe828fdb7abdda95e44ba69de67315</td>\n      <td>积极</td>\n      <td>2020-09-08</td>\n    </tr>\n    <tr>\n      <th>108</th>\n      <td>59b38c56de38368316087c2ad693bc4b485f695d231f7fa4</td>\n      <td>中立</td>\n      <td>2020-09-08</td>\n    </tr>\n    <tr>\n      <th>1033</th>\n      <td>f000950527a6feb6bc5d81f4b5b017d5a93a9096d0245eb1</td>\n      <td>消极</td>\n      <td>4小时前</td>\n    </tr>\n  </tbody>\n</table>\n<p>3519 rows × 3 columns</p>\n</div>"
     },
     "metadata": {},
     "execution_count": 56
    }
   ],
   "source": [
    "news_info.sort_values('public_date', ascending=True).groupby('id').head(10)"
   ]
  },
  {
   "source": [
    "## change info"
   ],
   "cell_type": "markdown",
   "metadata": {}
  },
  {
   "cell_type": "code",
   "execution_count": 57,
   "metadata": {},
   "outputs": [],
   "source": [
    "change_info = load_csv('../ccf_data/change_info.csv', converters={'id': str, 'bgxmdm': str})"
   ]
  },
  {
   "cell_type": "code",
   "execution_count": 58,
   "metadata": {},
   "outputs": [
    {
     "output_type": "execute_result",
     "data": {
      "text/plain": [
       "Index(['id', 'bgxmdm', 'bgq', 'bgh', 'bgrq'], dtype='object')"
      ]
     },
     "metadata": {},
     "execution_count": 58
    }
   ],
   "source": [
    "change_info.columns"
   ]
  },
  {
   "cell_type": "code",
   "execution_count": 59,
   "metadata": {},
   "outputs": [
    {
     "output_type": "execute_result",
     "data": {
      "text/plain": [
       "                                                 id bgxmdm  \\\n",
       "0  9c7fa510616a683058ce97d0bc768a621cd85ab1e87da2a3  939.0   \n",
       "1  9c7fa510616a683058ce97d0bc768a621cd85ab1e87da2a3  112.0   \n",
       "2  e9f7b28ec10e047000d16ab79e1b5e6da434a1697cce7818  111.0   \n",
       "3  e9f7b28ec10e047000d16ab79e1b5e6da434a1697cce7818  128.0   \n",
       "4  e9f7b28ec10e047000d16ab79e1b5e6da434a1697cce7818  925.0   \n",
       "\n",
       "                                                 bgq  \\\n",
       "0   9dec12da51cdb672a91b4a8ae0e0895f7bfeb243dfa3e0c8   \n",
       "1  31487d8f256f16bd6244b7251be2ebb27b17bdfd95c8f3...   \n",
       "2                   54ca436ffb87f24c820178b45fcc3a7b   \n",
       "3                   f1fdb1c866dc96638cbfb8b788b91393   \n",
       "4                   54ca436ffb87f24c820178b45fcc3a7b   \n",
       "\n",
       "                                                 bgh          bgrq  \n",
       "0  9dec12da51cdb672a91b4a8ae0e0895f4a56cbe3deca98...  2.019060e+13  \n",
       "1  31487d8f256f16bd6244b7251be2ebb27b17bdfd95c8f3...  2.019060e+13  \n",
       "2                   f80e3376abcf81ad2a279d6d99046153  2.017013e+13  \n",
       "3                   1eca8a0d8beca58d988f7dccab5dc868  2.017013e+13  \n",
       "4                   f80e3376abcf81ad2a279d6d99046153  2.017013e+13  "
      ],
      "text/html": "<div>\n<style scoped>\n    .dataframe tbody tr th:only-of-type {\n        vertical-align: middle;\n    }\n\n    .dataframe tbody tr th {\n        vertical-align: top;\n    }\n\n    .dataframe thead th {\n        text-align: right;\n    }\n</style>\n<table border=\"1\" class=\"dataframe\">\n  <thead>\n    <tr style=\"text-align: right;\">\n      <th></th>\n      <th>id</th>\n      <th>bgxmdm</th>\n      <th>bgq</th>\n      <th>bgh</th>\n      <th>bgrq</th>\n    </tr>\n  </thead>\n  <tbody>\n    <tr>\n      <th>0</th>\n      <td>9c7fa510616a683058ce97d0bc768a621cd85ab1e87da2a3</td>\n      <td>939.0</td>\n      <td>9dec12da51cdb672a91b4a8ae0e0895f7bfeb243dfa3e0c8</td>\n      <td>9dec12da51cdb672a91b4a8ae0e0895f4a56cbe3deca98...</td>\n      <td>2.019060e+13</td>\n    </tr>\n    <tr>\n      <th>1</th>\n      <td>9c7fa510616a683058ce97d0bc768a621cd85ab1e87da2a3</td>\n      <td>112.0</td>\n      <td>31487d8f256f16bd6244b7251be2ebb27b17bdfd95c8f3...</td>\n      <td>31487d8f256f16bd6244b7251be2ebb27b17bdfd95c8f3...</td>\n      <td>2.019060e+13</td>\n    </tr>\n    <tr>\n      <th>2</th>\n      <td>e9f7b28ec10e047000d16ab79e1b5e6da434a1697cce7818</td>\n      <td>111.0</td>\n      <td>54ca436ffb87f24c820178b45fcc3a7b</td>\n      <td>f80e3376abcf81ad2a279d6d99046153</td>\n      <td>2.017013e+13</td>\n    </tr>\n    <tr>\n      <th>3</th>\n      <td>e9f7b28ec10e047000d16ab79e1b5e6da434a1697cce7818</td>\n      <td>128.0</td>\n      <td>f1fdb1c866dc96638cbfb8b788b91393</td>\n      <td>1eca8a0d8beca58d988f7dccab5dc868</td>\n      <td>2.017013e+13</td>\n    </tr>\n    <tr>\n      <th>4</th>\n      <td>e9f7b28ec10e047000d16ab79e1b5e6da434a1697cce7818</td>\n      <td>925.0</td>\n      <td>54ca436ffb87f24c820178b45fcc3a7b</td>\n      <td>f80e3376abcf81ad2a279d6d99046153</td>\n      <td>2.017013e+13</td>\n    </tr>\n  </tbody>\n</table>\n</div>"
     },
     "metadata": {},
     "execution_count": 59
    }
   ],
   "source": [
    "change_info.head()"
   ]
  },
  {
   "cell_type": "code",
   "execution_count": 60,
   "metadata": {},
   "outputs": [
    {
     "output_type": "execute_result",
     "data": {
      "text/plain": [
       "                                                  bgxmdm  bgq  bgh  bgrq\n",
       "id                                                                      \n",
       "09912c34159b1720558a419983a989f1dd2e0ed69a044ca3       9    9    9     9\n",
       "0ba26b418aa50d3c35e3d01d414b2c9f07efa6997fbf4394       5    5    5     5\n",
       "175ebe5f059ec05007223e9af0a48b885f4cbfa833d93eed      11   11   11    11\n",
       "175ebe5f059ec05036d901021be6da41057ae3ee1fe6b8bb      15   15   15    15\n",
       "175ebe5f059ec0503eb86987a7b6da7c40c6e69d5b54736f       2    2    2     2\n",
       "...                                                  ...  ...  ...   ...\n",
       "f1c1045b13d18329fff6b6c261a696a54cc111b991a55a72       1    1    1     1\n",
       "f6eb47aa168d4141ebdc3e35a7b37a3cb15baa8608f730a0       2    2    2     2\n",
       "ff2c78b9022767a53da2e5a811e4aa9583e32efc9899f9f3       2    2    2     2\n",
       "ff2c78b9022767a5439dae566c7603a03a6178241dacf5c9      13   13   13    13\n",
       "ff2c78b9022767a583c0800a3f450666162ea0e4566cfd19      22   22   22    22\n",
       "\n",
       "[8726 rows x 4 columns]"
      ],
      "text/html": "<div>\n<style scoped>\n    .dataframe tbody tr th:only-of-type {\n        vertical-align: middle;\n    }\n\n    .dataframe tbody tr th {\n        vertical-align: top;\n    }\n\n    .dataframe thead th {\n        text-align: right;\n    }\n</style>\n<table border=\"1\" class=\"dataframe\">\n  <thead>\n    <tr style=\"text-align: right;\">\n      <th></th>\n      <th>bgxmdm</th>\n      <th>bgq</th>\n      <th>bgh</th>\n      <th>bgrq</th>\n    </tr>\n    <tr>\n      <th>id</th>\n      <th></th>\n      <th></th>\n      <th></th>\n      <th></th>\n    </tr>\n  </thead>\n  <tbody>\n    <tr>\n      <th>09912c34159b1720558a419983a989f1dd2e0ed69a044ca3</th>\n      <td>9</td>\n      <td>9</td>\n      <td>9</td>\n      <td>9</td>\n    </tr>\n    <tr>\n      <th>0ba26b418aa50d3c35e3d01d414b2c9f07efa6997fbf4394</th>\n      <td>5</td>\n      <td>5</td>\n      <td>5</td>\n      <td>5</td>\n    </tr>\n    <tr>\n      <th>175ebe5f059ec05007223e9af0a48b885f4cbfa833d93eed</th>\n      <td>11</td>\n      <td>11</td>\n      <td>11</td>\n      <td>11</td>\n    </tr>\n    <tr>\n      <th>175ebe5f059ec05036d901021be6da41057ae3ee1fe6b8bb</th>\n      <td>15</td>\n      <td>15</td>\n      <td>15</td>\n      <td>15</td>\n    </tr>\n    <tr>\n      <th>175ebe5f059ec0503eb86987a7b6da7c40c6e69d5b54736f</th>\n      <td>2</td>\n      <td>2</td>\n      <td>2</td>\n      <td>2</td>\n    </tr>\n    <tr>\n      <th>...</th>\n      <td>...</td>\n      <td>...</td>\n      <td>...</td>\n      <td>...</td>\n    </tr>\n    <tr>\n      <th>f1c1045b13d18329fff6b6c261a696a54cc111b991a55a72</th>\n      <td>1</td>\n      <td>1</td>\n      <td>1</td>\n      <td>1</td>\n    </tr>\n    <tr>\n      <th>f6eb47aa168d4141ebdc3e35a7b37a3cb15baa8608f730a0</th>\n      <td>2</td>\n      <td>2</td>\n      <td>2</td>\n      <td>2</td>\n    </tr>\n    <tr>\n      <th>ff2c78b9022767a53da2e5a811e4aa9583e32efc9899f9f3</th>\n      <td>2</td>\n      <td>2</td>\n      <td>2</td>\n      <td>2</td>\n    </tr>\n    <tr>\n      <th>ff2c78b9022767a5439dae566c7603a03a6178241dacf5c9</th>\n      <td>13</td>\n      <td>13</td>\n      <td>13</td>\n      <td>13</td>\n    </tr>\n    <tr>\n      <th>ff2c78b9022767a583c0800a3f450666162ea0e4566cfd19</th>\n      <td>22</td>\n      <td>22</td>\n      <td>22</td>\n      <td>22</td>\n    </tr>\n  </tbody>\n</table>\n<p>8726 rows × 4 columns</p>\n</div>"
     },
     "metadata": {},
     "execution_count": 60
    }
   ],
   "source": [
    "change_info.groupby('id').count()"
   ]
  },
  {
   "cell_type": "code",
   "execution_count": 61,
   "metadata": {},
   "outputs": [],
   "source": [
    "df = pd.DataFrame(change_info.groupby('id').count())"
   ]
  },
  {
   "cell_type": "code",
   "execution_count": 62,
   "metadata": {},
   "outputs": [],
   "source": [
    "df = df['bgxmdm'].reset_index()"
   ]
  },
  {
   "cell_type": "code",
   "execution_count": 63,
   "metadata": {},
   "outputs": [],
   "source": [
    "df.columns = ['id', 'bgsum']"
   ]
  },
  {
   "cell_type": "code",
   "execution_count": 64,
   "metadata": {},
   "outputs": [],
   "source": [
    "df.to_csv('../code/fea_explore/change_info.csv', index=False)"
   ]
  },
  {
   "source": [
    "## annual_report_info"
   ],
   "cell_type": "markdown",
   "metadata": {}
  },
  {
   "cell_type": "code",
   "execution_count": 92,
   "metadata": {},
   "outputs": [],
   "source": [
    "annual_report_info = load_csv('../ccf_data/annual_report_info.csv', converters={'id': str})"
   ]
  },
  {
   "cell_type": "code",
   "execution_count": 93,
   "metadata": {},
   "outputs": [
    {
     "output_type": "execute_result",
     "data": {
      "text/plain": [
       "Index(['id', 'ANCHEYEAR', 'STATE', 'FUNDAM', 'MEMNUM', 'FARNUM',\n",
       "       'ANNNEWMEMNUM', 'ANNREDMEMNUM', 'EMPNUM', 'EMPNUMSIGN', 'BUSSTNAME',\n",
       "       'COLGRANUM', 'RETSOLNUM', 'DISPERNUM', 'UNENUM', 'COLEMPLNUM',\n",
       "       'RETEMPLNUM', 'DISEMPLNUM', 'UNEEMPLNUM', 'WEBSITSIGN', 'FORINVESTSIGN',\n",
       "       'STOCKTRANSIGN', 'PUBSTATE'],\n",
       "      dtype='object')"
      ]
     },
     "metadata": {},
     "execution_count": 93
    }
   ],
   "source": [
    "annual_report_info.columns"
   ]
  },
  {
   "cell_type": "code",
   "execution_count": 94,
   "metadata": {},
   "outputs": [
    {
     "output_type": "execute_result",
     "data": {
      "text/plain": [
       "                                                  id  ANCHEYEAR  STATE  \\\n",
       "0   9c7fa510616a683058ce97d0bc768a621cd85ab1e87da2a3     2017.0    2.0   \n",
       "1   9c7fa510616a683058ce97d0bc768a621cd85ab1e87da2a3     2018.0    2.0   \n",
       "2   f000950527a6feb63ee1ce82bb22ddd1ab8b8fdffa3b91fb     2017.0    2.0   \n",
       "3   f000950527a6feb63ee1ce82bb22ddd1ab8b8fdffa3b91fb     2018.0    2.0   \n",
       "4   9c7fa510616a68309e4badf2a7a3123c0462fb85bf28ef17     2017.0    2.0   \n",
       "5   9c7fa510616a68309e4badf2a7a3123c0462fb85bf28ef17     2018.0    2.0   \n",
       "6   755db3b5c5f74eb48564a8be9d4a9d7038ed96bc2eea645c     2018.0    2.0   \n",
       "7   e9f7b28ec10e0470287f274dd5a327519e74d2eb9506faad     2016.0    2.0   \n",
       "8   e9f7b28ec10e0470287f274dd5a327519e74d2eb9506faad     2017.0    2.0   \n",
       "9   e9f7b28ec10e0470287f274dd5a327519e74d2eb9506faad     2018.0    2.0   \n",
       "10  f000950527a6feb6253f50f16bd8640f3bc1fa52d1fdbe29     2016.0    2.0   \n",
       "11  f000950527a6feb6253f50f16bd8640f3bc1fa52d1fdbe29     2017.0    2.0   \n",
       "12  f000950527a6feb6253f50f16bd8640f3bc1fa52d1fdbe29     2018.0    2.0   \n",
       "13  da8691b210adb3f6334a7abb56fbae858620b23304f160b5     2015.0    2.0   \n",
       "14  da8691b210adb3f6334a7abb56fbae858620b23304f160b5     2016.0    2.0   \n",
       "15  da8691b210adb3f6334a7abb56fbae858620b23304f160b5     2017.0    2.0   \n",
       "16  da8691b210adb3f6334a7abb56fbae858620b23304f160b5     2018.0    2.0   \n",
       "17  47645761dc56bb8c9cf4307e6927e265abd90cc69d8a52f4     2018.0    2.0   \n",
       "18  755db3b5c5f74eb46a9abdca3e43a99d07c4aacee3d2cb0d     2017.0    2.0   \n",
       "19  755db3b5c5f74eb46a9abdca3e43a99d07c4aacee3d2cb0d     2018.0    2.0   \n",
       "\n",
       "    FUNDAM  MEMNUM  FARNUM  ANNNEWMEMNUM  ANNREDMEMNUM  EMPNUM  EMPNUMSIGN  \\\n",
       "0      5.0     NaN     NaN           NaN           NaN    10.0         NaN   \n",
       "1      2.0     NaN     NaN           NaN           NaN     2.0         NaN   \n",
       "2      NaN     NaN     NaN           NaN           NaN     4.0         2.0   \n",
       "3      NaN     NaN     NaN           NaN           NaN     3.0         2.0   \n",
       "4      5.0     NaN     NaN           NaN           NaN    10.0         NaN   \n",
       "5     22.0     NaN     NaN           NaN           NaN    22.0         NaN   \n",
       "6      2.0     NaN     NaN           NaN           NaN     1.0         NaN   \n",
       "7      NaN     NaN     NaN           NaN           NaN     8.0         2.0   \n",
       "8      NaN     NaN     NaN           NaN           NaN     8.0         2.0   \n",
       "9      NaN     NaN     NaN           NaN           NaN     1.0         2.0   \n",
       "10     NaN     NaN     NaN           NaN           NaN     1.0         2.0   \n",
       "11     NaN     NaN     NaN           NaN           NaN     0.0         2.0   \n",
       "12     NaN     NaN     NaN           NaN           NaN     1.0         2.0   \n",
       "13    30.0     NaN     NaN           NaN           NaN     2.0         NaN   \n",
       "14     3.5     NaN     NaN           NaN           NaN     1.0         NaN   \n",
       "15     5.0     NaN     NaN           NaN           NaN     3.0         NaN   \n",
       "16     6.1     NaN     NaN           NaN           NaN     1.0         NaN   \n",
       "17     NaN     NaN     NaN           NaN           NaN     7.0         2.0   \n",
       "18     2.0     NaN     NaN           NaN           NaN     1.0         NaN   \n",
       "19     2.0     NaN     NaN           NaN           NaN     1.0         NaN   \n",
       "\n",
       "    ... DISPERNUM  UNENUM  COLEMPLNUM  RETEMPLNUM  DISEMPLNUM  UNEEMPLNUM  \\\n",
       "0   ...       0.0     0.0         0.0         0.0         0.0         0.0   \n",
       "1   ...       0.0     0.0         0.0         0.0         0.0         0.0   \n",
       "2   ...       0.0     0.0         1.0         0.0         0.0         0.0   \n",
       "3   ...       0.0     0.0         2.0         0.0         0.0         0.0   \n",
       "4   ...       0.0     0.0         0.0         0.0         0.0         0.0   \n",
       "5   ...       0.0     0.0         0.0         0.0         0.0         0.0   \n",
       "6   ...       0.0     0.0         0.0         0.0         0.0         0.0   \n",
       "7   ...       NaN     NaN         NaN         NaN         NaN         NaN   \n",
       "8   ...       NaN     NaN         NaN         NaN         NaN         NaN   \n",
       "9   ...       NaN     NaN         NaN         NaN         NaN         NaN   \n",
       "10  ...       0.0     0.0         0.0         0.0         0.0         0.0   \n",
       "11  ...       0.0     0.0         0.0         0.0         0.0         0.0   \n",
       "12  ...       0.0     0.0         0.0         0.0         0.0         0.0   \n",
       "13  ...       0.0     1.0         0.0         0.0         0.0         1.0   \n",
       "14  ...       0.0     0.0         0.0         0.0         0.0         0.0   \n",
       "15  ...       0.0     1.0         0.0         0.0         0.0         2.0   \n",
       "16  ...       0.0     0.0         0.0         0.0         0.0         0.0   \n",
       "17  ...       0.0     0.0         0.0         0.0         0.0         0.0   \n",
       "18  ...       0.0     0.0         0.0         0.0         0.0         0.0   \n",
       "19  ...       0.0     0.0         0.0         0.0         0.0         0.0   \n",
       "\n",
       "    WEBSITSIGN  FORINVESTSIGN  STOCKTRANSIGN  PUBSTATE  \n",
       "0          2.0            NaN            NaN       3.0  \n",
       "1          2.0            NaN            NaN       3.0  \n",
       "2          2.0            2.0            2.0       3.0  \n",
       "3          2.0            2.0            2.0       3.0  \n",
       "4          2.0            NaN            NaN       3.0  \n",
       "5          2.0            NaN            NaN       3.0  \n",
       "6          2.0            NaN            NaN       3.0  \n",
       "7          2.0            2.0            2.0       3.0  \n",
       "8          2.0            2.0            2.0       3.0  \n",
       "9          2.0            2.0            2.0       3.0  \n",
       "10         2.0            2.0            NaN       3.0  \n",
       "11         2.0            2.0            NaN       3.0  \n",
       "12         2.0            2.0            NaN       3.0  \n",
       "13         2.0            NaN            NaN       3.0  \n",
       "14         2.0            NaN            NaN       3.0  \n",
       "15         2.0            NaN            NaN       3.0  \n",
       "16         2.0            NaN            NaN       3.0  \n",
       "17         2.0            2.0            2.0       3.0  \n",
       "18         2.0            NaN            NaN       3.0  \n",
       "19         2.0            NaN            NaN       3.0  \n",
       "\n",
       "[20 rows x 23 columns]"
      ],
      "text/html": "<div>\n<style scoped>\n    .dataframe tbody tr th:only-of-type {\n        vertical-align: middle;\n    }\n\n    .dataframe tbody tr th {\n        vertical-align: top;\n    }\n\n    .dataframe thead th {\n        text-align: right;\n    }\n</style>\n<table border=\"1\" class=\"dataframe\">\n  <thead>\n    <tr style=\"text-align: right;\">\n      <th></th>\n      <th>id</th>\n      <th>ANCHEYEAR</th>\n      <th>STATE</th>\n      <th>FUNDAM</th>\n      <th>MEMNUM</th>\n      <th>FARNUM</th>\n      <th>ANNNEWMEMNUM</th>\n      <th>ANNREDMEMNUM</th>\n      <th>EMPNUM</th>\n      <th>EMPNUMSIGN</th>\n      <th>...</th>\n      <th>DISPERNUM</th>\n      <th>UNENUM</th>\n      <th>COLEMPLNUM</th>\n      <th>RETEMPLNUM</th>\n      <th>DISEMPLNUM</th>\n      <th>UNEEMPLNUM</th>\n      <th>WEBSITSIGN</th>\n      <th>FORINVESTSIGN</th>\n      <th>STOCKTRANSIGN</th>\n      <th>PUBSTATE</th>\n    </tr>\n  </thead>\n  <tbody>\n    <tr>\n      <th>0</th>\n      <td>9c7fa510616a683058ce97d0bc768a621cd85ab1e87da2a3</td>\n      <td>2017.0</td>\n      <td>2.0</td>\n      <td>5.0</td>\n      <td>NaN</td>\n      <td>NaN</td>\n      <td>NaN</td>\n      <td>NaN</td>\n      <td>10.0</td>\n      <td>NaN</td>\n      <td>...</td>\n      <td>0.0</td>\n      <td>0.0</td>\n      <td>0.0</td>\n      <td>0.0</td>\n      <td>0.0</td>\n      <td>0.0</td>\n      <td>2.0</td>\n      <td>NaN</td>\n      <td>NaN</td>\n      <td>3.0</td>\n    </tr>\n    <tr>\n      <th>1</th>\n      <td>9c7fa510616a683058ce97d0bc768a621cd85ab1e87da2a3</td>\n      <td>2018.0</td>\n      <td>2.0</td>\n      <td>2.0</td>\n      <td>NaN</td>\n      <td>NaN</td>\n      <td>NaN</td>\n      <td>NaN</td>\n      <td>2.0</td>\n      <td>NaN</td>\n      <td>...</td>\n      <td>0.0</td>\n      <td>0.0</td>\n      <td>0.0</td>\n      <td>0.0</td>\n      <td>0.0</td>\n      <td>0.0</td>\n      <td>2.0</td>\n      <td>NaN</td>\n      <td>NaN</td>\n      <td>3.0</td>\n    </tr>\n    <tr>\n      <th>2</th>\n      <td>f000950527a6feb63ee1ce82bb22ddd1ab8b8fdffa3b91fb</td>\n      <td>2017.0</td>\n      <td>2.0</td>\n      <td>NaN</td>\n      <td>NaN</td>\n      <td>NaN</td>\n      <td>NaN</td>\n      <td>NaN</td>\n      <td>4.0</td>\n      <td>2.0</td>\n      <td>...</td>\n      <td>0.0</td>\n      <td>0.0</td>\n      <td>1.0</td>\n      <td>0.0</td>\n      <td>0.0</td>\n      <td>0.0</td>\n      <td>2.0</td>\n      <td>2.0</td>\n      <td>2.0</td>\n      <td>3.0</td>\n    </tr>\n    <tr>\n      <th>3</th>\n      <td>f000950527a6feb63ee1ce82bb22ddd1ab8b8fdffa3b91fb</td>\n      <td>2018.0</td>\n      <td>2.0</td>\n      <td>NaN</td>\n      <td>NaN</td>\n      <td>NaN</td>\n      <td>NaN</td>\n      <td>NaN</td>\n      <td>3.0</td>\n      <td>2.0</td>\n      <td>...</td>\n      <td>0.0</td>\n      <td>0.0</td>\n      <td>2.0</td>\n      <td>0.0</td>\n      <td>0.0</td>\n      <td>0.0</td>\n      <td>2.0</td>\n      <td>2.0</td>\n      <td>2.0</td>\n      <td>3.0</td>\n    </tr>\n    <tr>\n      <th>4</th>\n      <td>9c7fa510616a68309e4badf2a7a3123c0462fb85bf28ef17</td>\n      <td>2017.0</td>\n      <td>2.0</td>\n      <td>5.0</td>\n      <td>NaN</td>\n      <td>NaN</td>\n      <td>NaN</td>\n      <td>NaN</td>\n      <td>10.0</td>\n      <td>NaN</td>\n      <td>...</td>\n      <td>0.0</td>\n      <td>0.0</td>\n      <td>0.0</td>\n      <td>0.0</td>\n      <td>0.0</td>\n      <td>0.0</td>\n      <td>2.0</td>\n      <td>NaN</td>\n      <td>NaN</td>\n      <td>3.0</td>\n    </tr>\n    <tr>\n      <th>5</th>\n      <td>9c7fa510616a68309e4badf2a7a3123c0462fb85bf28ef17</td>\n      <td>2018.0</td>\n      <td>2.0</td>\n      <td>22.0</td>\n      <td>NaN</td>\n      <td>NaN</td>\n      <td>NaN</td>\n      <td>NaN</td>\n      <td>22.0</td>\n      <td>NaN</td>\n      <td>...</td>\n      <td>0.0</td>\n      <td>0.0</td>\n      <td>0.0</td>\n      <td>0.0</td>\n      <td>0.0</td>\n      <td>0.0</td>\n      <td>2.0</td>\n      <td>NaN</td>\n      <td>NaN</td>\n      <td>3.0</td>\n    </tr>\n    <tr>\n      <th>6</th>\n      <td>755db3b5c5f74eb48564a8be9d4a9d7038ed96bc2eea645c</td>\n      <td>2018.0</td>\n      <td>2.0</td>\n      <td>2.0</td>\n      <td>NaN</td>\n      <td>NaN</td>\n      <td>NaN</td>\n      <td>NaN</td>\n      <td>1.0</td>\n      <td>NaN</td>\n      <td>...</td>\n      <td>0.0</td>\n      <td>0.0</td>\n      <td>0.0</td>\n      <td>0.0</td>\n      <td>0.0</td>\n      <td>0.0</td>\n      <td>2.0</td>\n      <td>NaN</td>\n      <td>NaN</td>\n      <td>3.0</td>\n    </tr>\n    <tr>\n      <th>7</th>\n      <td>e9f7b28ec10e0470287f274dd5a327519e74d2eb9506faad</td>\n      <td>2016.0</td>\n      <td>2.0</td>\n      <td>NaN</td>\n      <td>NaN</td>\n      <td>NaN</td>\n      <td>NaN</td>\n      <td>NaN</td>\n      <td>8.0</td>\n      <td>2.0</td>\n      <td>...</td>\n      <td>NaN</td>\n      <td>NaN</td>\n      <td>NaN</td>\n      <td>NaN</td>\n      <td>NaN</td>\n      <td>NaN</td>\n      <td>2.0</td>\n      <td>2.0</td>\n      <td>2.0</td>\n      <td>3.0</td>\n    </tr>\n    <tr>\n      <th>8</th>\n      <td>e9f7b28ec10e0470287f274dd5a327519e74d2eb9506faad</td>\n      <td>2017.0</td>\n      <td>2.0</td>\n      <td>NaN</td>\n      <td>NaN</td>\n      <td>NaN</td>\n      <td>NaN</td>\n      <td>NaN</td>\n      <td>8.0</td>\n      <td>2.0</td>\n      <td>...</td>\n      <td>NaN</td>\n      <td>NaN</td>\n      <td>NaN</td>\n      <td>NaN</td>\n      <td>NaN</td>\n      <td>NaN</td>\n      <td>2.0</td>\n      <td>2.0</td>\n      <td>2.0</td>\n      <td>3.0</td>\n    </tr>\n    <tr>\n      <th>9</th>\n      <td>e9f7b28ec10e0470287f274dd5a327519e74d2eb9506faad</td>\n      <td>2018.0</td>\n      <td>2.0</td>\n      <td>NaN</td>\n      <td>NaN</td>\n      <td>NaN</td>\n      <td>NaN</td>\n      <td>NaN</td>\n      <td>1.0</td>\n      <td>2.0</td>\n      <td>...</td>\n      <td>NaN</td>\n      <td>NaN</td>\n      <td>NaN</td>\n      <td>NaN</td>\n      <td>NaN</td>\n      <td>NaN</td>\n      <td>2.0</td>\n      <td>2.0</td>\n      <td>2.0</td>\n      <td>3.0</td>\n    </tr>\n    <tr>\n      <th>10</th>\n      <td>f000950527a6feb6253f50f16bd8640f3bc1fa52d1fdbe29</td>\n      <td>2016.0</td>\n      <td>2.0</td>\n      <td>NaN</td>\n      <td>NaN</td>\n      <td>NaN</td>\n      <td>NaN</td>\n      <td>NaN</td>\n      <td>1.0</td>\n      <td>2.0</td>\n      <td>...</td>\n      <td>0.0</td>\n      <td>0.0</td>\n      <td>0.0</td>\n      <td>0.0</td>\n      <td>0.0</td>\n      <td>0.0</td>\n      <td>2.0</td>\n      <td>2.0</td>\n      <td>NaN</td>\n      <td>3.0</td>\n    </tr>\n    <tr>\n      <th>11</th>\n      <td>f000950527a6feb6253f50f16bd8640f3bc1fa52d1fdbe29</td>\n      <td>2017.0</td>\n      <td>2.0</td>\n      <td>NaN</td>\n      <td>NaN</td>\n      <td>NaN</td>\n      <td>NaN</td>\n      <td>NaN</td>\n      <td>0.0</td>\n      <td>2.0</td>\n      <td>...</td>\n      <td>0.0</td>\n      <td>0.0</td>\n      <td>0.0</td>\n      <td>0.0</td>\n      <td>0.0</td>\n      <td>0.0</td>\n      <td>2.0</td>\n      <td>2.0</td>\n      <td>NaN</td>\n      <td>3.0</td>\n    </tr>\n    <tr>\n      <th>12</th>\n      <td>f000950527a6feb6253f50f16bd8640f3bc1fa52d1fdbe29</td>\n      <td>2018.0</td>\n      <td>2.0</td>\n      <td>NaN</td>\n      <td>NaN</td>\n      <td>NaN</td>\n      <td>NaN</td>\n      <td>NaN</td>\n      <td>1.0</td>\n      <td>2.0</td>\n      <td>...</td>\n      <td>0.0</td>\n      <td>0.0</td>\n      <td>0.0</td>\n      <td>0.0</td>\n      <td>0.0</td>\n      <td>0.0</td>\n      <td>2.0</td>\n      <td>2.0</td>\n      <td>NaN</td>\n      <td>3.0</td>\n    </tr>\n    <tr>\n      <th>13</th>\n      <td>da8691b210adb3f6334a7abb56fbae858620b23304f160b5</td>\n      <td>2015.0</td>\n      <td>2.0</td>\n      <td>30.0</td>\n      <td>NaN</td>\n      <td>NaN</td>\n      <td>NaN</td>\n      <td>NaN</td>\n      <td>2.0</td>\n      <td>NaN</td>\n      <td>...</td>\n      <td>0.0</td>\n      <td>1.0</td>\n      <td>0.0</td>\n      <td>0.0</td>\n      <td>0.0</td>\n      <td>1.0</td>\n      <td>2.0</td>\n      <td>NaN</td>\n      <td>NaN</td>\n      <td>3.0</td>\n    </tr>\n    <tr>\n      <th>14</th>\n      <td>da8691b210adb3f6334a7abb56fbae858620b23304f160b5</td>\n      <td>2016.0</td>\n      <td>2.0</td>\n      <td>3.5</td>\n      <td>NaN</td>\n      <td>NaN</td>\n      <td>NaN</td>\n      <td>NaN</td>\n      <td>1.0</td>\n      <td>NaN</td>\n      <td>...</td>\n      <td>0.0</td>\n      <td>0.0</td>\n      <td>0.0</td>\n      <td>0.0</td>\n      <td>0.0</td>\n      <td>0.0</td>\n      <td>2.0</td>\n      <td>NaN</td>\n      <td>NaN</td>\n      <td>3.0</td>\n    </tr>\n    <tr>\n      <th>15</th>\n      <td>da8691b210adb3f6334a7abb56fbae858620b23304f160b5</td>\n      <td>2017.0</td>\n      <td>2.0</td>\n      <td>5.0</td>\n      <td>NaN</td>\n      <td>NaN</td>\n      <td>NaN</td>\n      <td>NaN</td>\n      <td>3.0</td>\n      <td>NaN</td>\n      <td>...</td>\n      <td>0.0</td>\n      <td>1.0</td>\n      <td>0.0</td>\n      <td>0.0</td>\n      <td>0.0</td>\n      <td>2.0</td>\n      <td>2.0</td>\n      <td>NaN</td>\n      <td>NaN</td>\n      <td>3.0</td>\n    </tr>\n    <tr>\n      <th>16</th>\n      <td>da8691b210adb3f6334a7abb56fbae858620b23304f160b5</td>\n      <td>2018.0</td>\n      <td>2.0</td>\n      <td>6.1</td>\n      <td>NaN</td>\n      <td>NaN</td>\n      <td>NaN</td>\n      <td>NaN</td>\n      <td>1.0</td>\n      <td>NaN</td>\n      <td>...</td>\n      <td>0.0</td>\n      <td>0.0</td>\n      <td>0.0</td>\n      <td>0.0</td>\n      <td>0.0</td>\n      <td>0.0</td>\n      <td>2.0</td>\n      <td>NaN</td>\n      <td>NaN</td>\n      <td>3.0</td>\n    </tr>\n    <tr>\n      <th>17</th>\n      <td>47645761dc56bb8c9cf4307e6927e265abd90cc69d8a52f4</td>\n      <td>2018.0</td>\n      <td>2.0</td>\n      <td>NaN</td>\n      <td>NaN</td>\n      <td>NaN</td>\n      <td>NaN</td>\n      <td>NaN</td>\n      <td>7.0</td>\n      <td>2.0</td>\n      <td>...</td>\n      <td>0.0</td>\n      <td>0.0</td>\n      <td>0.0</td>\n      <td>0.0</td>\n      <td>0.0</td>\n      <td>0.0</td>\n      <td>2.0</td>\n      <td>2.0</td>\n      <td>2.0</td>\n      <td>3.0</td>\n    </tr>\n    <tr>\n      <th>18</th>\n      <td>755db3b5c5f74eb46a9abdca3e43a99d07c4aacee3d2cb0d</td>\n      <td>2017.0</td>\n      <td>2.0</td>\n      <td>2.0</td>\n      <td>NaN</td>\n      <td>NaN</td>\n      <td>NaN</td>\n      <td>NaN</td>\n      <td>1.0</td>\n      <td>NaN</td>\n      <td>...</td>\n      <td>0.0</td>\n      <td>0.0</td>\n      <td>0.0</td>\n      <td>0.0</td>\n      <td>0.0</td>\n      <td>0.0</td>\n      <td>2.0</td>\n      <td>NaN</td>\n      <td>NaN</td>\n      <td>3.0</td>\n    </tr>\n    <tr>\n      <th>19</th>\n      <td>755db3b5c5f74eb46a9abdca3e43a99d07c4aacee3d2cb0d</td>\n      <td>2018.0</td>\n      <td>2.0</td>\n      <td>2.0</td>\n      <td>NaN</td>\n      <td>NaN</td>\n      <td>NaN</td>\n      <td>NaN</td>\n      <td>1.0</td>\n      <td>NaN</td>\n      <td>...</td>\n      <td>0.0</td>\n      <td>0.0</td>\n      <td>0.0</td>\n      <td>0.0</td>\n      <td>0.0</td>\n      <td>0.0</td>\n      <td>2.0</td>\n      <td>NaN</td>\n      <td>NaN</td>\n      <td>3.0</td>\n    </tr>\n  </tbody>\n</table>\n<p>20 rows × 23 columns</p>\n</div>"
     },
     "metadata": {},
     "execution_count": 94
    }
   ],
   "source": [
    "annual_report_info.head(20)"
   ]
  },
  {
   "cell_type": "code",
   "execution_count": 95,
   "metadata": {},
   "outputs": [
    {
     "output_type": "execute_result",
     "data": {
      "text/plain": [
       "id                object\n",
       "ANCHEYEAR        float64\n",
       "STATE            float64\n",
       "FUNDAM           float64\n",
       "MEMNUM           float64\n",
       "FARNUM           float64\n",
       "ANNNEWMEMNUM     float64\n",
       "ANNREDMEMNUM     float64\n",
       "EMPNUM           float64\n",
       "EMPNUMSIGN       float64\n",
       "BUSSTNAME         object\n",
       "COLGRANUM        float64\n",
       "RETSOLNUM        float64\n",
       "DISPERNUM        float64\n",
       "UNENUM           float64\n",
       "COLEMPLNUM       float64\n",
       "RETEMPLNUM       float64\n",
       "DISEMPLNUM       float64\n",
       "UNEEMPLNUM       float64\n",
       "WEBSITSIGN       float64\n",
       "FORINVESTSIGN    float64\n",
       "STOCKTRANSIGN    float64\n",
       "PUBSTATE         float64\n",
       "dtype: object"
      ]
     },
     "metadata": {},
     "execution_count": 95
    }
   ],
   "source": [
    "annual_report_info.dtypes"
   ]
  },
  {
   "cell_type": "code",
   "execution_count": 96,
   "metadata": {},
   "outputs": [],
   "source": [
    "convert2str = ['ANCHEYEAR', 'STATE', 'EMPNUMSIGN', 'WEBSITSIGN', 'FORINVESTSIGN', 'STOCKTRANSIGN', 'PUBSTATE']\n",
    "for col in convert2str:\n",
    "    annual_report_info[col].fillna(-1, inplace=True)\n",
    "    annual_report_info[col] = annual_report_info[col].astype('int')\n",
    "    annual_report_info[col] = annual_report_info[col].astype('str')"
   ]
  },
  {
   "cell_type": "code",
   "execution_count": 97,
   "metadata": {},
   "outputs": [],
   "source": [
    "drop_list = ['MEMNUM', 'FARNUM', 'ANNNEWMEMNUM', 'ANNREDMEMNUM']\n",
    "for col in drop_list:\n",
    "    del annual_report_info[col]"
   ]
  },
  {
   "cell_type": "code",
   "execution_count": 98,
   "metadata": {},
   "outputs": [],
   "source": [
    "convert2int = ['EMPNUM', 'COLGRANUM', 'RETSOLNUM', 'DISPERNUM', 'UNENUM', 'COLEMPLNUM', 'RETEMPLNUM', 'DISEMPLNUM', 'UNEEMPLNUM']\n",
    "for col in convert2int:\n",
    "    annual_report_info[col].fillna(0, inplace=True)\n",
    "    annual_report_info[col] = annual_report_info[col].astype('int')"
   ]
  },
  {
   "cell_type": "code",
   "execution_count": 99,
   "metadata": {},
   "outputs": [],
   "source": [
    "fill_0 = ['FUNDAM']\n",
    "for col in fill_0:\n",
    "    annual_report_info[col].fillna(0, inplace=True)"
   ]
  },
  {
   "cell_type": "code",
   "execution_count": 100,
   "metadata": {},
   "outputs": [],
   "source": [
    "fill_1 = ['BUSSTNAME']\n",
    "for col in fill_1:\n",
    "    annual_report_info[col].fillna(-1, inplace=True)"
   ]
  },
  {
   "cell_type": "code",
   "execution_count": 101,
   "metadata": {},
   "outputs": [],
   "source": [
    "for index, i in enumerate(list(set(annual_report_info['BUSSTNAME'].tolist()))):\n",
    "    if i != -1:\n",
    "        annual_report_info.BUSSTNAME[annual_report_info['BUSSTNAME'] == i] = index + 1"
   ]
  },
  {
   "cell_type": "code",
   "execution_count": 102,
   "metadata": {},
   "outputs": [
    {
     "output_type": "execute_result",
     "data": {
      "text/plain": [
       "                                                 id ANCHEYEAR STATE  FUNDAM  \\\n",
       "0  9c7fa510616a683058ce97d0bc768a621cd85ab1e87da2a3      2017     2     5.0   \n",
       "1  9c7fa510616a683058ce97d0bc768a621cd85ab1e87da2a3      2018     2     2.0   \n",
       "2  f000950527a6feb63ee1ce82bb22ddd1ab8b8fdffa3b91fb      2017     2     0.0   \n",
       "3  f000950527a6feb63ee1ce82bb22ddd1ab8b8fdffa3b91fb      2018     2     0.0   \n",
       "4  9c7fa510616a68309e4badf2a7a3123c0462fb85bf28ef17      2017     2     5.0   \n",
       "\n",
       "   EMPNUM EMPNUMSIGN BUSSTNAME  COLGRANUM  RETSOLNUM  DISPERNUM  UNENUM  \\\n",
       "0      10         -1        -1          0          0          0       0   \n",
       "1       2         -1        -1          0          0          0       0   \n",
       "2       4          2         2          3          0          0       0   \n",
       "3       3          2         2          1          0          0       0   \n",
       "4      10         -1        -1          0          0          0       0   \n",
       "\n",
       "   COLEMPLNUM  RETEMPLNUM  DISEMPLNUM  UNEEMPLNUM WEBSITSIGN FORINVESTSIGN  \\\n",
       "0           0           0           0           0          2            -1   \n",
       "1           0           0           0           0          2            -1   \n",
       "2           1           0           0           0          2             2   \n",
       "3           2           0           0           0          2             2   \n",
       "4           0           0           0           0          2            -1   \n",
       "\n",
       "  STOCKTRANSIGN PUBSTATE  \n",
       "0            -1        3  \n",
       "1            -1        3  \n",
       "2             2        3  \n",
       "3             2        3  \n",
       "4            -1        3  "
      ],
      "text/html": "<div>\n<style scoped>\n    .dataframe tbody tr th:only-of-type {\n        vertical-align: middle;\n    }\n\n    .dataframe tbody tr th {\n        vertical-align: top;\n    }\n\n    .dataframe thead th {\n        text-align: right;\n    }\n</style>\n<table border=\"1\" class=\"dataframe\">\n  <thead>\n    <tr style=\"text-align: right;\">\n      <th></th>\n      <th>id</th>\n      <th>ANCHEYEAR</th>\n      <th>STATE</th>\n      <th>FUNDAM</th>\n      <th>EMPNUM</th>\n      <th>EMPNUMSIGN</th>\n      <th>BUSSTNAME</th>\n      <th>COLGRANUM</th>\n      <th>RETSOLNUM</th>\n      <th>DISPERNUM</th>\n      <th>UNENUM</th>\n      <th>COLEMPLNUM</th>\n      <th>RETEMPLNUM</th>\n      <th>DISEMPLNUM</th>\n      <th>UNEEMPLNUM</th>\n      <th>WEBSITSIGN</th>\n      <th>FORINVESTSIGN</th>\n      <th>STOCKTRANSIGN</th>\n      <th>PUBSTATE</th>\n    </tr>\n  </thead>\n  <tbody>\n    <tr>\n      <th>0</th>\n      <td>9c7fa510616a683058ce97d0bc768a621cd85ab1e87da2a3</td>\n      <td>2017</td>\n      <td>2</td>\n      <td>5.0</td>\n      <td>10</td>\n      <td>-1</td>\n      <td>-1</td>\n      <td>0</td>\n      <td>0</td>\n      <td>0</td>\n      <td>0</td>\n      <td>0</td>\n      <td>0</td>\n      <td>0</td>\n      <td>0</td>\n      <td>2</td>\n      <td>-1</td>\n      <td>-1</td>\n      <td>3</td>\n    </tr>\n    <tr>\n      <th>1</th>\n      <td>9c7fa510616a683058ce97d0bc768a621cd85ab1e87da2a3</td>\n      <td>2018</td>\n      <td>2</td>\n      <td>2.0</td>\n      <td>2</td>\n      <td>-1</td>\n      <td>-1</td>\n      <td>0</td>\n      <td>0</td>\n      <td>0</td>\n      <td>0</td>\n      <td>0</td>\n      <td>0</td>\n      <td>0</td>\n      <td>0</td>\n      <td>2</td>\n      <td>-1</td>\n      <td>-1</td>\n      <td>3</td>\n    </tr>\n    <tr>\n      <th>2</th>\n      <td>f000950527a6feb63ee1ce82bb22ddd1ab8b8fdffa3b91fb</td>\n      <td>2017</td>\n      <td>2</td>\n      <td>0.0</td>\n      <td>4</td>\n      <td>2</td>\n      <td>2</td>\n      <td>3</td>\n      <td>0</td>\n      <td>0</td>\n      <td>0</td>\n      <td>1</td>\n      <td>0</td>\n      <td>0</td>\n      <td>0</td>\n      <td>2</td>\n      <td>2</td>\n      <td>2</td>\n      <td>3</td>\n    </tr>\n    <tr>\n      <th>3</th>\n      <td>f000950527a6feb63ee1ce82bb22ddd1ab8b8fdffa3b91fb</td>\n      <td>2018</td>\n      <td>2</td>\n      <td>0.0</td>\n      <td>3</td>\n      <td>2</td>\n      <td>2</td>\n      <td>1</td>\n      <td>0</td>\n      <td>0</td>\n      <td>0</td>\n      <td>2</td>\n      <td>0</td>\n      <td>0</td>\n      <td>0</td>\n      <td>2</td>\n      <td>2</td>\n      <td>2</td>\n      <td>3</td>\n    </tr>\n    <tr>\n      <th>4</th>\n      <td>9c7fa510616a68309e4badf2a7a3123c0462fb85bf28ef17</td>\n      <td>2017</td>\n      <td>2</td>\n      <td>5.0</td>\n      <td>10</td>\n      <td>-1</td>\n      <td>-1</td>\n      <td>0</td>\n      <td>0</td>\n      <td>0</td>\n      <td>0</td>\n      <td>0</td>\n      <td>0</td>\n      <td>0</td>\n      <td>0</td>\n      <td>2</td>\n      <td>-1</td>\n      <td>-1</td>\n      <td>3</td>\n    </tr>\n  </tbody>\n</table>\n</div>"
     },
     "metadata": {},
     "execution_count": 102
    }
   ],
   "source": [
    "annual_report_info.head()"
   ]
  },
  {
   "cell_type": "code",
   "execution_count": 104,
   "metadata": {},
   "outputs": [
    {
     "output_type": "execute_result",
     "data": {
      "text/plain": [
       "id                                                ANCHEYEAR\n",
       "175ebe5f059ec05007223e9af0a48b885f4cbfa833d93eed  2015         1\n",
       "                                                  2016         1\n",
       "                                                  2017         1\n",
       "                                                  2018         1\n",
       "175ebe5f059ec05036d901021be6da41057ae3ee1fe6b8bb  2015         1\n",
       "                                                              ..\n",
       "f1c1045b13d18329ff3fc0c5b0bb11919c9e966a0b0c0781  2018         1\n",
       "f1c1045b13d18329ff712679aeb2de2622ebd54670ae90d3  2018         1\n",
       "f1c1045b13d18329fff6b6c261a696a54cc111b991a55a72  2016         1\n",
       "                                                  2017         1\n",
       "                                                  2018         1\n",
       "Name: ANCHEYEAR, Length: 22430, dtype: int64"
      ]
     },
     "metadata": {},
     "execution_count": 104
    }
   ],
   "source": [
    "annual_report_info.groupby('id')['ANCHEYEAR'].value_counts()"
   ]
  },
  {
   "cell_type": "code",
   "execution_count": 106,
   "metadata": {},
   "outputs": [
    {
     "output_type": "execute_result",
     "data": {
      "text/plain": [
       "                                                    id ANCHEYEAR STATE  \\\n",
       "5160  175ebe5f059ec05007223e9af0a48b885f4cbfa833d93eed      2017     2   \n",
       "5161  175ebe5f059ec05007223e9af0a48b885f4cbfa833d93eed      2018     2   \n",
       "5162  175ebe5f059ec05007223e9af0a48b885f4cbfa833d93eed      2016     2   \n",
       "5163  175ebe5f059ec05007223e9af0a48b885f4cbfa833d93eed      2015     2   \n",
       "\n",
       "      FUNDAM  EMPNUM EMPNUMSIGN BUSSTNAME  COLGRANUM  RETSOLNUM  DISPERNUM  \\\n",
       "5160     0.0      10          2         2          0          0          0   \n",
       "5161     0.0      10          2         2          0          0          0   \n",
       "5162     0.0      18          2         2          0          0          0   \n",
       "5163     0.0      27          2         2          0          0          0   \n",
       "\n",
       "      UNENUM  COLEMPLNUM  RETEMPLNUM  DISEMPLNUM  UNEEMPLNUM WEBSITSIGN  \\\n",
       "5160       0           0           0           0           0          2   \n",
       "5161       0           0           0           0           0          2   \n",
       "5162       0           0           0           0           0          2   \n",
       "5163       0           0           0           0           0          2   \n",
       "\n",
       "     FORINVESTSIGN STOCKTRANSIGN PUBSTATE  \n",
       "5160             2             1        3  \n",
       "5161             2             2        3  \n",
       "5162             2             2        3  \n",
       "5163             2             2        2  "
      ],
      "text/html": "<div>\n<style scoped>\n    .dataframe tbody tr th:only-of-type {\n        vertical-align: middle;\n    }\n\n    .dataframe tbody tr th {\n        vertical-align: top;\n    }\n\n    .dataframe thead th {\n        text-align: right;\n    }\n</style>\n<table border=\"1\" class=\"dataframe\">\n  <thead>\n    <tr style=\"text-align: right;\">\n      <th></th>\n      <th>id</th>\n      <th>ANCHEYEAR</th>\n      <th>STATE</th>\n      <th>FUNDAM</th>\n      <th>EMPNUM</th>\n      <th>EMPNUMSIGN</th>\n      <th>BUSSTNAME</th>\n      <th>COLGRANUM</th>\n      <th>RETSOLNUM</th>\n      <th>DISPERNUM</th>\n      <th>UNENUM</th>\n      <th>COLEMPLNUM</th>\n      <th>RETEMPLNUM</th>\n      <th>DISEMPLNUM</th>\n      <th>UNEEMPLNUM</th>\n      <th>WEBSITSIGN</th>\n      <th>FORINVESTSIGN</th>\n      <th>STOCKTRANSIGN</th>\n      <th>PUBSTATE</th>\n    </tr>\n  </thead>\n  <tbody>\n    <tr>\n      <th>5160</th>\n      <td>175ebe5f059ec05007223e9af0a48b885f4cbfa833d93eed</td>\n      <td>2017</td>\n      <td>2</td>\n      <td>0.0</td>\n      <td>10</td>\n      <td>2</td>\n      <td>2</td>\n      <td>0</td>\n      <td>0</td>\n      <td>0</td>\n      <td>0</td>\n      <td>0</td>\n      <td>0</td>\n      <td>0</td>\n      <td>0</td>\n      <td>2</td>\n      <td>2</td>\n      <td>1</td>\n      <td>3</td>\n    </tr>\n    <tr>\n      <th>5161</th>\n      <td>175ebe5f059ec05007223e9af0a48b885f4cbfa833d93eed</td>\n      <td>2018</td>\n      <td>2</td>\n      <td>0.0</td>\n      <td>10</td>\n      <td>2</td>\n      <td>2</td>\n      <td>0</td>\n      <td>0</td>\n      <td>0</td>\n      <td>0</td>\n      <td>0</td>\n      <td>0</td>\n      <td>0</td>\n      <td>0</td>\n      <td>2</td>\n      <td>2</td>\n      <td>2</td>\n      <td>3</td>\n    </tr>\n    <tr>\n      <th>5162</th>\n      <td>175ebe5f059ec05007223e9af0a48b885f4cbfa833d93eed</td>\n      <td>2016</td>\n      <td>2</td>\n      <td>0.0</td>\n      <td>18</td>\n      <td>2</td>\n      <td>2</td>\n      <td>0</td>\n      <td>0</td>\n      <td>0</td>\n      <td>0</td>\n      <td>0</td>\n      <td>0</td>\n      <td>0</td>\n      <td>0</td>\n      <td>2</td>\n      <td>2</td>\n      <td>2</td>\n      <td>3</td>\n    </tr>\n    <tr>\n      <th>5163</th>\n      <td>175ebe5f059ec05007223e9af0a48b885f4cbfa833d93eed</td>\n      <td>2015</td>\n      <td>2</td>\n      <td>0.0</td>\n      <td>27</td>\n      <td>2</td>\n      <td>2</td>\n      <td>0</td>\n      <td>0</td>\n      <td>0</td>\n      <td>0</td>\n      <td>0</td>\n      <td>0</td>\n      <td>0</td>\n      <td>0</td>\n      <td>2</td>\n      <td>2</td>\n      <td>2</td>\n      <td>2</td>\n    </tr>\n  </tbody>\n</table>\n</div>"
     },
     "metadata": {},
     "execution_count": 106
    }
   ],
   "source": [
    "annual_report_info[annual_report_info['id'].isin(['175ebe5f059ec05007223e9af0a48b885f4cbfa833d93eed'])]"
   ]
  },
  {
   "cell_type": "code",
   "execution_count": 112,
   "metadata": {},
   "outputs": [],
   "source": [
    "# 先以id为主键排序，并且根据ANCHEYEAR排序\n",
    "# 连续变量取平均 离散变量取最新\n",
    "annual_report_info = annual_report_info.sort_values('ANCHEYEAR', ascending=True)"
   ]
  },
  {
   "cell_type": "code",
   "execution_count": 114,
   "metadata": {},
   "outputs": [
    {
     "output_type": "execute_result",
     "data": {
      "text/plain": [
       "Index(['id', 'ANCHEYEAR', 'STATE', 'FUNDAM', 'EMPNUM', 'EMPNUMSIGN',\n",
       "       'BUSSTNAME', 'COLGRANUM', 'RETSOLNUM', 'DISPERNUM', 'UNENUM',\n",
       "       'COLEMPLNUM', 'RETEMPLNUM', 'DISEMPLNUM', 'UNEEMPLNUM', 'WEBSITSIGN',\n",
       "       'FORINVESTSIGN', 'STOCKTRANSIGN', 'PUBSTATE'],\n",
       "      dtype='object')"
      ]
     },
     "metadata": {},
     "execution_count": 114
    }
   ],
   "source": [
    "annual_report_info.columns"
   ]
  },
  {
   "cell_type": "code",
   "execution_count": 115,
   "metadata": {},
   "outputs": [
    {
     "output_type": "execute_result",
     "data": {
      "text/plain": [
       "id                object\n",
       "ANCHEYEAR         object\n",
       "STATE             object\n",
       "FUNDAM           float64\n",
       "EMPNUM             int32\n",
       "EMPNUMSIGN        object\n",
       "BUSSTNAME         object\n",
       "COLGRANUM          int32\n",
       "RETSOLNUM          int32\n",
       "DISPERNUM          int32\n",
       "UNENUM             int32\n",
       "COLEMPLNUM         int32\n",
       "RETEMPLNUM         int32\n",
       "DISEMPLNUM         int32\n",
       "UNEEMPLNUM         int32\n",
       "WEBSITSIGN        object\n",
       "FORINVESTSIGN     object\n",
       "STOCKTRANSIGN     object\n",
       "PUBSTATE          object\n",
       "dtype: object"
      ]
     },
     "metadata": {},
     "execution_count": 115
    }
   ],
   "source": [
    "annual_report_info.dtypes"
   ]
  },
  {
   "cell_type": "code",
   "execution_count": 133,
   "metadata": {},
   "outputs": [],
   "source": [
    "num_col = ['id', 'FUNDAM', 'EMPNUM', 'COLGRANUM', 'RETSOLNUM', 'DISPERNUM', 'UNENUM', 'COLEMPLNUM', 'RETEMPLNUM', 'DISEMPLNUM', 'UNEEMPLNUM']\n",
    "cata_col = ['id', 'STATE', 'EMPNUMSIGN', 'BUSSTNAME', 'WEBSITSIGN', 'FORINVESTSIGN', 'STOCKTRANSIGN', 'PUBSTATE']\n",
    "annual_report_info_num = annual_report_info[num_col]\n",
    "annual_report_info_cata = annual_report_info[cata_col]"
   ]
  },
  {
   "cell_type": "code",
   "execution_count": 134,
   "metadata": {},
   "outputs": [],
   "source": [
    "annual_report_info_num_mean = pd.DataFrame(annual_report_info_num.groupby('id').mean()).reset_index()"
   ]
  },
  {
   "cell_type": "code",
   "execution_count": 135,
   "metadata": {},
   "outputs": [
    {
     "output_type": "execute_result",
     "data": {
      "text/plain": [
       "                                                    id     FUNDAM     EMPNUM  \\\n",
       "0     175ebe5f059ec05007223e9af0a48b885f4cbfa833d93eed   0.000000  16.250000   \n",
       "1     175ebe5f059ec05036d901021be6da41057ae3ee1fe6b8bb   0.000000  19.000000   \n",
       "2     175ebe5f059ec050efe07058fc35890a2b8858a6795a2e24   0.000000  32.666667   \n",
       "3     216bd2aaf4d0792406c041069b786b3bcb5baa4cf80d5987   0.000000   4.000000   \n",
       "4     216bd2aaf4d079240c2b8f7bbf3177618ad289f21af0221e   0.000000   0.000000   \n",
       "...                                                ...        ...        ...   \n",
       "8932  f1c1045b13d18329ff27ab52ea9416ef1edff1f3e121cc83   9.000000   1.666667   \n",
       "8933  f1c1045b13d18329ff3e1a9e01037a061fab2d1ae99d6cea  10.000000   1.000000   \n",
       "8934  f1c1045b13d18329ff3fc0c5b0bb11919c9e966a0b0c0781  20.000000   2.000000   \n",
       "8935  f1c1045b13d18329ff712679aeb2de2622ebd54670ae90d3   4.700000   1.000000   \n",
       "8936  f1c1045b13d18329fff6b6c261a696a54cc111b991a55a72   5.933333   2.666667   \n",
       "\n",
       "      COLGRANUM  RETSOLNUM  DISPERNUM    UNENUM  COLEMPLNUM  RETEMPLNUM  \\\n",
       "0      0.000000        0.0        0.0  0.000000    0.000000         0.0   \n",
       "1      2.500000        0.0        0.0  0.000000   12.000000         0.0   \n",
       "2      1.333333        0.0        0.0  0.000000    9.666667         0.0   \n",
       "3      2.000000        0.0        0.0  0.000000    2.000000         0.0   \n",
       "4      0.000000        0.0        0.0  0.000000    0.000000         0.0   \n",
       "...         ...        ...        ...       ...         ...         ...   \n",
       "8932   0.000000        0.0        0.0  0.000000    0.000000         0.0   \n",
       "8933   0.000000        0.0        0.0  1.000000    0.000000         0.0   \n",
       "8934   0.000000        0.0        0.0  0.000000    0.000000         0.0   \n",
       "8935   0.000000        0.0        0.0  0.000000    0.000000         0.0   \n",
       "8936   0.000000        0.0        0.0  0.333333    0.000000         0.0   \n",
       "\n",
       "      DISEMPLNUM  UNEEMPLNUM  \n",
       "0            0.0    0.000000  \n",
       "1            0.0    0.000000  \n",
       "2            0.0    8.000000  \n",
       "3            0.0    0.000000  \n",
       "4            0.0    0.000000  \n",
       "...          ...         ...  \n",
       "8932         0.0    0.000000  \n",
       "8933         0.0    0.000000  \n",
       "8934         0.0    0.000000  \n",
       "8935         0.0    0.000000  \n",
       "8936         0.0    1.666667  \n",
       "\n",
       "[8937 rows x 11 columns]"
      ],
      "text/html": "<div>\n<style scoped>\n    .dataframe tbody tr th:only-of-type {\n        vertical-align: middle;\n    }\n\n    .dataframe tbody tr th {\n        vertical-align: top;\n    }\n\n    .dataframe thead th {\n        text-align: right;\n    }\n</style>\n<table border=\"1\" class=\"dataframe\">\n  <thead>\n    <tr style=\"text-align: right;\">\n      <th></th>\n      <th>id</th>\n      <th>FUNDAM</th>\n      <th>EMPNUM</th>\n      <th>COLGRANUM</th>\n      <th>RETSOLNUM</th>\n      <th>DISPERNUM</th>\n      <th>UNENUM</th>\n      <th>COLEMPLNUM</th>\n      <th>RETEMPLNUM</th>\n      <th>DISEMPLNUM</th>\n      <th>UNEEMPLNUM</th>\n    </tr>\n  </thead>\n  <tbody>\n    <tr>\n      <th>0</th>\n      <td>175ebe5f059ec05007223e9af0a48b885f4cbfa833d93eed</td>\n      <td>0.000000</td>\n      <td>16.250000</td>\n      <td>0.000000</td>\n      <td>0.0</td>\n      <td>0.0</td>\n      <td>0.000000</td>\n      <td>0.000000</td>\n      <td>0.0</td>\n      <td>0.0</td>\n      <td>0.000000</td>\n    </tr>\n    <tr>\n      <th>1</th>\n      <td>175ebe5f059ec05036d901021be6da41057ae3ee1fe6b8bb</td>\n      <td>0.000000</td>\n      <td>19.000000</td>\n      <td>2.500000</td>\n      <td>0.0</td>\n      <td>0.0</td>\n      <td>0.000000</td>\n      <td>12.000000</td>\n      <td>0.0</td>\n      <td>0.0</td>\n      <td>0.000000</td>\n    </tr>\n    <tr>\n      <th>2</th>\n      <td>175ebe5f059ec050efe07058fc35890a2b8858a6795a2e24</td>\n      <td>0.000000</td>\n      <td>32.666667</td>\n      <td>1.333333</td>\n      <td>0.0</td>\n      <td>0.0</td>\n      <td>0.000000</td>\n      <td>9.666667</td>\n      <td>0.0</td>\n      <td>0.0</td>\n      <td>8.000000</td>\n    </tr>\n    <tr>\n      <th>3</th>\n      <td>216bd2aaf4d0792406c041069b786b3bcb5baa4cf80d5987</td>\n      <td>0.000000</td>\n      <td>4.000000</td>\n      <td>2.000000</td>\n      <td>0.0</td>\n      <td>0.0</td>\n      <td>0.000000</td>\n      <td>2.000000</td>\n      <td>0.0</td>\n      <td>0.0</td>\n      <td>0.000000</td>\n    </tr>\n    <tr>\n      <th>4</th>\n      <td>216bd2aaf4d079240c2b8f7bbf3177618ad289f21af0221e</td>\n      <td>0.000000</td>\n      <td>0.000000</td>\n      <td>0.000000</td>\n      <td>0.0</td>\n      <td>0.0</td>\n      <td>0.000000</td>\n      <td>0.000000</td>\n      <td>0.0</td>\n      <td>0.0</td>\n      <td>0.000000</td>\n    </tr>\n    <tr>\n      <th>...</th>\n      <td>...</td>\n      <td>...</td>\n      <td>...</td>\n      <td>...</td>\n      <td>...</td>\n      <td>...</td>\n      <td>...</td>\n      <td>...</td>\n      <td>...</td>\n      <td>...</td>\n      <td>...</td>\n    </tr>\n    <tr>\n      <th>8932</th>\n      <td>f1c1045b13d18329ff27ab52ea9416ef1edff1f3e121cc83</td>\n      <td>9.000000</td>\n      <td>1.666667</td>\n      <td>0.000000</td>\n      <td>0.0</td>\n      <td>0.0</td>\n      <td>0.000000</td>\n      <td>0.000000</td>\n      <td>0.0</td>\n      <td>0.0</td>\n      <td>0.000000</td>\n    </tr>\n    <tr>\n      <th>8933</th>\n      <td>f1c1045b13d18329ff3e1a9e01037a061fab2d1ae99d6cea</td>\n      <td>10.000000</td>\n      <td>1.000000</td>\n      <td>0.000000</td>\n      <td>0.0</td>\n      <td>0.0</td>\n      <td>1.000000</td>\n      <td>0.000000</td>\n      <td>0.0</td>\n      <td>0.0</td>\n      <td>0.000000</td>\n    </tr>\n    <tr>\n      <th>8934</th>\n      <td>f1c1045b13d18329ff3fc0c5b0bb11919c9e966a0b0c0781</td>\n      <td>20.000000</td>\n      <td>2.000000</td>\n      <td>0.000000</td>\n      <td>0.0</td>\n      <td>0.0</td>\n      <td>0.000000</td>\n      <td>0.000000</td>\n      <td>0.0</td>\n      <td>0.0</td>\n      <td>0.000000</td>\n    </tr>\n    <tr>\n      <th>8935</th>\n      <td>f1c1045b13d18329ff712679aeb2de2622ebd54670ae90d3</td>\n      <td>4.700000</td>\n      <td>1.000000</td>\n      <td>0.000000</td>\n      <td>0.0</td>\n      <td>0.0</td>\n      <td>0.000000</td>\n      <td>0.000000</td>\n      <td>0.0</td>\n      <td>0.0</td>\n      <td>0.000000</td>\n    </tr>\n    <tr>\n      <th>8936</th>\n      <td>f1c1045b13d18329fff6b6c261a696a54cc111b991a55a72</td>\n      <td>5.933333</td>\n      <td>2.666667</td>\n      <td>0.000000</td>\n      <td>0.0</td>\n      <td>0.0</td>\n      <td>0.333333</td>\n      <td>0.000000</td>\n      <td>0.0</td>\n      <td>0.0</td>\n      <td>1.666667</td>\n    </tr>\n  </tbody>\n</table>\n<p>8937 rows × 11 columns</p>\n</div>"
     },
     "metadata": {},
     "execution_count": 135
    }
   ],
   "source": [
    "annual_report_info_num_mean"
   ]
  },
  {
   "cell_type": "code",
   "execution_count": 136,
   "metadata": {},
   "outputs": [],
   "source": [
    "annual_report_info_cata.drop_duplicates('id', keep='last', inplace=True)"
   ]
  },
  {
   "cell_type": "code",
   "execution_count": 137,
   "metadata": {},
   "outputs": [
    {
     "output_type": "execute_result",
     "data": {
      "text/plain": [
       "                                                     id STATE EMPNUMSIGN  \\\n",
       "14942  47e3664e12f3ce748ec9615d96fe2efef690fac1c1038f6f     2          2   \n",
       "3538   f000950527a6feb6ce8fa4c72e0767a64089b20a703eedfb     2          2   \n",
       "14931  47645761dc56bb8c954dd5f8db6ae4ae596f1f26d971fc4a     2          2   \n",
       "19251  d8071a739aa75a3be19559686bdd5331851a439baad1571c     2          1   \n",
       "14902  d8071a739aa75a3b81ee34f560edc8535565ec22e123fe08     2          2   \n",
       "...                                                 ...   ...        ...   \n",
       "15695  516ab81418ed215d633d4122df8170e20468440e1c50938d     2          2   \n",
       "7247   755db3b5c5f74eb405416739487558d5e37e9b61d8fc2466     2         -1   \n",
       "7246   beb4aaaa89e0a0ae15b6b24963d195868cc2e09d68fd139b     2         -1   \n",
       "15403  8f19388cfd6e2b9c908c2afac599a89f2cf8743005df282f     2         -1   \n",
       "22549  516ab81418ed215dcbbf0614a7b929e691f8eed153d7bb31     2          2   \n",
       "\n",
       "      BUSSTNAME WEBSITSIGN FORINVESTSIGN STOCKTRANSIGN PUBSTATE  \n",
       "14942         2          2             2             2        3  \n",
       "3538          2          2             2             2        3  \n",
       "14931         2          2             2             2        3  \n",
       "19251         1          2             2             2        2  \n",
       "14902         1          2             2            -1        3  \n",
       "...         ...        ...           ...           ...      ...  \n",
       "15695         2          2             2             2        3  \n",
       "7247         -1          2            -1            -1        3  \n",
       "7246         -1          2            -1            -1        3  \n",
       "15403        -1          2            -1            -1        3  \n",
       "22549         1          2             2             2        3  \n",
       "\n",
       "[8937 rows x 8 columns]"
      ],
      "text/html": "<div>\n<style scoped>\n    .dataframe tbody tr th:only-of-type {\n        vertical-align: middle;\n    }\n\n    .dataframe tbody tr th {\n        vertical-align: top;\n    }\n\n    .dataframe thead th {\n        text-align: right;\n    }\n</style>\n<table border=\"1\" class=\"dataframe\">\n  <thead>\n    <tr style=\"text-align: right;\">\n      <th></th>\n      <th>id</th>\n      <th>STATE</th>\n      <th>EMPNUMSIGN</th>\n      <th>BUSSTNAME</th>\n      <th>WEBSITSIGN</th>\n      <th>FORINVESTSIGN</th>\n      <th>STOCKTRANSIGN</th>\n      <th>PUBSTATE</th>\n    </tr>\n  </thead>\n  <tbody>\n    <tr>\n      <th>14942</th>\n      <td>47e3664e12f3ce748ec9615d96fe2efef690fac1c1038f6f</td>\n      <td>2</td>\n      <td>2</td>\n      <td>2</td>\n      <td>2</td>\n      <td>2</td>\n      <td>2</td>\n      <td>3</td>\n    </tr>\n    <tr>\n      <th>3538</th>\n      <td>f000950527a6feb6ce8fa4c72e0767a64089b20a703eedfb</td>\n      <td>2</td>\n      <td>2</td>\n      <td>2</td>\n      <td>2</td>\n      <td>2</td>\n      <td>2</td>\n      <td>3</td>\n    </tr>\n    <tr>\n      <th>14931</th>\n      <td>47645761dc56bb8c954dd5f8db6ae4ae596f1f26d971fc4a</td>\n      <td>2</td>\n      <td>2</td>\n      <td>2</td>\n      <td>2</td>\n      <td>2</td>\n      <td>2</td>\n      <td>3</td>\n    </tr>\n    <tr>\n      <th>19251</th>\n      <td>d8071a739aa75a3be19559686bdd5331851a439baad1571c</td>\n      <td>2</td>\n      <td>1</td>\n      <td>1</td>\n      <td>2</td>\n      <td>2</td>\n      <td>2</td>\n      <td>2</td>\n    </tr>\n    <tr>\n      <th>14902</th>\n      <td>d8071a739aa75a3b81ee34f560edc8535565ec22e123fe08</td>\n      <td>2</td>\n      <td>2</td>\n      <td>1</td>\n      <td>2</td>\n      <td>2</td>\n      <td>-1</td>\n      <td>3</td>\n    </tr>\n    <tr>\n      <th>...</th>\n      <td>...</td>\n      <td>...</td>\n      <td>...</td>\n      <td>...</td>\n      <td>...</td>\n      <td>...</td>\n      <td>...</td>\n      <td>...</td>\n    </tr>\n    <tr>\n      <th>15695</th>\n      <td>516ab81418ed215d633d4122df8170e20468440e1c50938d</td>\n      <td>2</td>\n      <td>2</td>\n      <td>2</td>\n      <td>2</td>\n      <td>2</td>\n      <td>2</td>\n      <td>3</td>\n    </tr>\n    <tr>\n      <th>7247</th>\n      <td>755db3b5c5f74eb405416739487558d5e37e9b61d8fc2466</td>\n      <td>2</td>\n      <td>-1</td>\n      <td>-1</td>\n      <td>2</td>\n      <td>-1</td>\n      <td>-1</td>\n      <td>3</td>\n    </tr>\n    <tr>\n      <th>7246</th>\n      <td>beb4aaaa89e0a0ae15b6b24963d195868cc2e09d68fd139b</td>\n      <td>2</td>\n      <td>-1</td>\n      <td>-1</td>\n      <td>2</td>\n      <td>-1</td>\n      <td>-1</td>\n      <td>3</td>\n    </tr>\n    <tr>\n      <th>15403</th>\n      <td>8f19388cfd6e2b9c908c2afac599a89f2cf8743005df282f</td>\n      <td>2</td>\n      <td>-1</td>\n      <td>-1</td>\n      <td>2</td>\n      <td>-1</td>\n      <td>-1</td>\n      <td>3</td>\n    </tr>\n    <tr>\n      <th>22549</th>\n      <td>516ab81418ed215dcbbf0614a7b929e691f8eed153d7bb31</td>\n      <td>2</td>\n      <td>2</td>\n      <td>1</td>\n      <td>2</td>\n      <td>2</td>\n      <td>2</td>\n      <td>3</td>\n    </tr>\n  </tbody>\n</table>\n<p>8937 rows × 8 columns</p>\n</div>"
     },
     "metadata": {},
     "execution_count": 137
    }
   ],
   "source": [
    "annual_report_info_cata"
   ]
  },
  {
   "cell_type": "code",
   "execution_count": null,
   "metadata": {},
   "outputs": [],
   "source": []
  }
 ]
}