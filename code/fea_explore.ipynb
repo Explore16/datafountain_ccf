{
 "metadata": {
  "language_info": {
   "codemirror_mode": {
    "name": "ipython",
    "version": 3
   },
   "file_extension": ".py",
   "mimetype": "text/x-python",
   "name": "python",
   "nbconvert_exporter": "python",
   "pygments_lexer": "ipython3",
   "version": "3.6.5-final"
  },
  "orig_nbformat": 2,
  "kernelspec": {
   "name": "python36564bitcfff20060bb645bdb92d4cc90ccd3db9",
   "display_name": "Python 3.6.5 64-bit"
  }
 },
 "nbformat": 4,
 "nbformat_minor": 2,
 "cells": [
  {
   "cell_type": "code",
   "execution_count": 1,
   "metadata": {},
   "outputs": [],
   "source": [
    "import pandas as pd\n",
    "import numpy as np"
   ]
  },
  {
   "cell_type": "code",
   "execution_count": 2,
   "metadata": {},
   "outputs": [],
   "source": [
    "def load_csv(file_path, converters):\n",
    "    df = pd.read_csv(file_path, converters=converters, index_col=False, encoding='utf-8')\n",
    "    return df"
   ]
  },
  {
   "cell_type": "code",
   "execution_count": 3,
   "metadata": {},
   "outputs": [],
   "source": [
    "train_id = load_csv('../ccf_data/entprise_info.csv', converters={})"
   ]
  },
  {
   "cell_type": "code",
   "execution_count": 4,
   "metadata": {},
   "outputs": [],
   "source": [
    "base_info = load_csv('../ccf_data/base_info.csv', converters={'oplocdistrict': str, 'enttype': str, 'enttypegb': str,\n",
    "                                                              'state': str, 'orgid': str, 'jobid': str, 'adbusign': str,\n",
    "                                                              'townsign': str, 'regtype': str})"
   ]
  },
  {
   "source": [
    "## base info"
   ],
   "cell_type": "markdown",
   "metadata": {}
  },
  {
   "cell_type": "code",
   "execution_count": 5,
   "metadata": {},
   "outputs": [],
   "source": [
    "# 行业细类代码 规范化成离散型变量\n",
    "base_info['industryco'].fillna(-1, inplace=True)\n",
    "base_info['industryco'] = base_info['industryco'].astype('int')\n",
    "base_info['industryco'] = base_info['industryco'].astype('str')"
   ]
  },
  {
   "cell_type": "code",
   "execution_count": 6,
   "metadata": {},
   "outputs": [],
   "source": [
    "# 企业类型小类 规范化成离散型变量\n",
    "base_info['enttypeitem'].fillna(-1, inplace=True)\n",
    "base_info['enttypeitem'] = base_info['enttypeitem'].astype('int')\n",
    "base_info['enttypeitem'] = base_info['enttypeitem'].astype('str')"
   ]
  },
  {
   "cell_type": "code",
   "execution_count": 7,
   "metadata": {},
   "outputs": [],
   "source": [
    "# 从业人数 规范化连续变量\n",
    "base_info['empnum'].fillna(-1, inplace=True)\n",
    "base_info['empnum'] = base_info['empnum'].astype('int')"
   ]
  },
  {
   "cell_type": "code",
   "execution_count": 8,
   "metadata": {},
   "outputs": [],
   "source": [
    "# 组织形式 规范化成离散型变量\n",
    "base_info['compform'].fillna(-1, inplace=True)\n",
    "base_info['compform'] = base_info['compform'].astype('int')\n",
    "base_info['compform'] = base_info['compform'].astype('str')"
   ]
  },
  {
   "cell_type": "code",
   "execution_count": 9,
   "metadata": {},
   "outputs": [],
   "source": [
    "# 合伙人人数 规范化连续变量\n",
    "base_info['parnum'].fillna(-1, inplace=True)\n",
    "base_info['parnum'] = base_info['parnum'].astype('int')"
   ]
  },
  {
   "cell_type": "code",
   "execution_count": 10,
   "metadata": {},
   "outputs": [],
   "source": [
    "# 执行人数人数 规范化连续变量\n",
    "base_info['exenum'].fillna(-1, inplace=True)\n",
    "base_info['exenum'] = base_info['exenum'].astype('int')"
   ]
  },
  {
   "cell_type": "code",
   "execution_count": 11,
   "metadata": {},
   "outputs": [],
   "source": [
    "# 风险行业 规范化成离散型变量\n",
    "base_info['venind'].fillna(-1, inplace=True)\n",
    "base_info['venind'] = base_info['venind'].astype('int')\n",
    "base_info['venind'] = base_info['venind'].astype('str')"
   ]
  },
  {
   "cell_type": "code",
   "execution_count": 12,
   "metadata": {},
   "outputs": [],
   "source": [
    "# 企业类型细类 规范化成离散型变量\n",
    "base_info['enttypeminu'].fillna(-1, inplace=True)\n",
    "base_info['enttypeminu'] = base_info['enttypeminu'].astype('int')\n",
    "base_info['enttypeminu'] = base_info['enttypeminu'].astype('str')"
   ]
  },
  {
   "cell_type": "code",
   "execution_count": 13,
   "metadata": {},
   "outputs": [],
   "source": [
    "# 项目类型 规范化成离散型变量\n",
    "base_info['protype'].fillna(-1, inplace=True)\n",
    "base_info['protype'] = base_info['protype'].astype('int')\n",
    "base_info['protype'] = base_info['protype'].astype('str')"
   ]
  },
  {
   "cell_type": "code",
   "execution_count": null,
   "metadata": {},
   "outputs": [],
   "source": [
    "# 多种注册资本金额赋值为-1\n"
   ]
  },
  {
   "cell_type": "code",
   "execution_count": 14,
   "metadata": {},
   "outputs": [
    {
     "output_type": "execute_result",
     "data": {
      "text/plain": [
       "id                object\n",
       "oplocdistrict     object\n",
       "industryphy       object\n",
       "industryco        object\n",
       "dom               object\n",
       "opscope           object\n",
       "enttype           object\n",
       "enttypeitem       object\n",
       "opfrom            object\n",
       "opto              object\n",
       "state             object\n",
       "orgid             object\n",
       "jobid             object\n",
       "adbusign          object\n",
       "townsign          object\n",
       "regtype           object\n",
       "empnum             int32\n",
       "compform          object\n",
       "parnum             int32\n",
       "exenum             int32\n",
       "opform            object\n",
       "ptbusscope       float64\n",
       "venind            object\n",
       "enttypeminu       object\n",
       "midpreindcode    float64\n",
       "protype           object\n",
       "oploc             object\n",
       "regcap           float64\n",
       "reccap           float64\n",
       "forreccap        float64\n",
       "forregcap        float64\n",
       "congro           float64\n",
       "enttypegb         object\n",
       "dtype: object"
      ]
     },
     "metadata": {},
     "execution_count": 14
    }
   ],
   "source": [
    "base_info.dtypes"
   ]
  },
  {
   "cell_type": "code",
   "execution_count": 15,
   "metadata": {},
   "outputs": [],
   "source": [
    "# 去除空值列\n",
    "drop_list = ['opform','ptbusscope','midpreindcode']\n",
    "\n",
    "for col in drop_list:\n",
    "    del base_info[col]"
   ]
  },
  {
   "cell_type": "code",
   "execution_count": 16,
   "metadata": {},
   "outputs": [
    {
     "output_type": "execute_result",
     "data": {
      "text/plain": [
       "Index(['id', 'oplocdistrict', 'industryphy', 'industryco', 'dom', 'opscope',\n",
       "       'enttype', 'enttypeitem', 'opfrom', 'opto', 'state', 'orgid', 'jobid',\n",
       "       'adbusign', 'townsign', 'regtype', 'empnum', 'compform', 'parnum',\n",
       "       'exenum', 'venind', 'enttypeminu', 'protype', 'oploc', 'regcap',\n",
       "       'reccap', 'forreccap', 'forregcap', 'congro', 'enttypegb'],\n",
       "      dtype='object')"
      ]
     },
     "metadata": {},
     "execution_count": 16
    }
   ],
   "source": [
    "base_info.columns"
   ]
  },
  {
   "cell_type": "code",
   "execution_count": 17,
   "metadata": {},
   "outputs": [],
   "source": [
    "base_info.to_csv('../code/fea_explore/base_info.csv', index=False)"
   ]
  },
  {
   "cell_type": "code",
   "execution_count": null,
   "metadata": {},
   "outputs": [],
   "source": []
  }
 ]
}