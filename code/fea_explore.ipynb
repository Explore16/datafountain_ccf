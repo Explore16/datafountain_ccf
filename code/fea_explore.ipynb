{
 "metadata": {
  "language_info": {
   "codemirror_mode": {
    "name": "ipython",
    "version": 3
   },
   "file_extension": ".py",
   "mimetype": "text/x-python",
   "name": "python",
   "nbconvert_exporter": "python",
   "pygments_lexer": "ipython3",
   "version": "3.6.5-final"
  },
  "orig_nbformat": 2,
  "kernelspec": {
   "name": "python36564bitcfff20060bb645bdb92d4cc90ccd3db9",
   "display_name": "Python 3.6.5 64-bit"
  }
 },
 "nbformat": 4,
 "nbformat_minor": 2,
 "cells": [
  {
   "cell_type": "code",
   "execution_count": 1,
   "metadata": {},
   "outputs": [],
   "source": [
    "import pandas as pd\n",
    "import numpy as np"
   ]
  },
  {
   "cell_type": "code",
   "execution_count": 2,
   "metadata": {},
   "outputs": [],
   "source": [
    "def load_csv(file_path, converters):\n",
    "    df = pd.read_csv(file_path, converters=converters, index_col=False, encoding='utf-8')\n",
    "    return df"
   ]
  },
  {
   "cell_type": "code",
   "execution_count": 3,
   "metadata": {},
   "outputs": [],
   "source": [
    "train_id = load_csv('../ccf_data/entprise_info.csv', converters={})"
   ]
  },
  {
   "cell_type": "code",
   "execution_count": 4,
   "metadata": {},
   "outputs": [],
   "source": [
    "base_info = load_csv('../ccf_data/base_info.csv', converters={'oplocdistrict': str, 'enttype': str, 'enttypegb': str,\n",
    "                                                              'state': str, 'orgid': str, 'jobid': str, 'adbusign': str,\n",
    "                                                              'townsign': str, 'regtype': str})"
   ]
  },
  {
   "source": [
    "## base info"
   ],
   "cell_type": "markdown",
   "metadata": {}
  },
  {
   "cell_type": "code",
   "execution_count": 5,
   "metadata": {},
   "outputs": [],
   "source": [
    "# 行业细类代码 规范化成离散型变量\n",
    "base_info['industryco'].fillna(-1, inplace=True)\n",
    "base_info['industryco'] = base_info['industryco'].astype('int')\n",
    "base_info['industryco'] = base_info['industryco'].astype('str')"
   ]
  },
  {
   "cell_type": "code",
   "execution_count": 6,
   "metadata": {},
   "outputs": [],
   "source": [
    "# 企业类型小类 规范化成离散型变量\n",
    "base_info['enttypeitem'].fillna(-1, inplace=True)\n",
    "base_info['enttypeitem'] = base_info['enttypeitem'].astype('int')\n",
    "base_info['enttypeitem'] = base_info['enttypeitem'].astype('str')"
   ]
  },
  {
   "cell_type": "code",
   "execution_count": 7,
   "metadata": {},
   "outputs": [],
   "source": [
    "# 从业人数 规范化连续变量\n",
    "base_info['empnum'].fillna(-1, inplace=True)\n",
    "base_info['empnum'] = base_info['empnum'].astype('int')"
   ]
  },
  {
   "cell_type": "code",
   "execution_count": 8,
   "metadata": {},
   "outputs": [],
   "source": [
    "# 组织形式 规范化成离散型变量\n",
    "base_info['compform'].fillna(-1, inplace=True)\n",
    "base_info['compform'] = base_info['compform'].astype('int')\n",
    "base_info['compform'] = base_info['compform'].astype('str')"
   ]
  },
  {
   "cell_type": "code",
   "execution_count": 9,
   "metadata": {},
   "outputs": [],
   "source": [
    "# 合伙人人数 规范化连续变量\n",
    "base_info['parnum'].fillna(-1, inplace=True)\n",
    "base_info['parnum'] = base_info['parnum'].astype('int')"
   ]
  },
  {
   "cell_type": "code",
   "execution_count": 10,
   "metadata": {},
   "outputs": [],
   "source": [
    "# 执行人数人数 规范化连续变量\n",
    "base_info['exenum'].fillna(-1, inplace=True)\n",
    "base_info['exenum'] = base_info['exenum'].astype('int')"
   ]
  },
  {
   "cell_type": "code",
   "execution_count": 11,
   "metadata": {},
   "outputs": [],
   "source": [
    "# 风险行业 规范化成离散型变量\n",
    "base_info['venind'].fillna(-1, inplace=True)\n",
    "base_info['venind'] = base_info['venind'].astype('int')\n",
    "base_info['venind'] = base_info['venind'].astype('str')"
   ]
  },
  {
   "cell_type": "code",
   "execution_count": 12,
   "metadata": {},
   "outputs": [],
   "source": [
    "# 企业类型细类 规范化成离散型变量\n",
    "base_info['enttypeminu'].fillna(-1, inplace=True)\n",
    "base_info['enttypeminu'] = base_info['enttypeminu'].astype('int')\n",
    "base_info['enttypeminu'] = base_info['enttypeminu'].astype('str')"
   ]
  },
  {
   "cell_type": "code",
   "execution_count": 13,
   "metadata": {},
   "outputs": [],
   "source": [
    "# 项目类型 规范化成离散型变量\n",
    "base_info['protype'].fillna(-1, inplace=True)\n",
    "base_info['protype'] = base_info['protype'].astype('int')\n",
    "base_info['protype'] = base_info['protype'].astype('str')"
   ]
  },
  {
   "cell_type": "code",
   "execution_count": 14,
   "metadata": {},
   "outputs": [],
   "source": [
    "# 多种注册资本金额赋值为-1\n",
    "cols = ['regcap', 'reccap', 'forreccap', 'forregcap', 'congro']\n",
    "for col in cols:\n",
    "    base_info[col].fillna(-1, inplace=True)"
   ]
  },
  {
   "cell_type": "code",
   "execution_count": 15,
   "metadata": {},
   "outputs": [
    {
     "output_type": "execute_result",
     "data": {
      "text/plain": [
       "id                object\n",
       "oplocdistrict     object\n",
       "industryphy       object\n",
       "industryco        object\n",
       "dom               object\n",
       "opscope           object\n",
       "enttype           object\n",
       "enttypeitem       object\n",
       "opfrom            object\n",
       "opto              object\n",
       "state             object\n",
       "orgid             object\n",
       "jobid             object\n",
       "adbusign          object\n",
       "townsign          object\n",
       "regtype           object\n",
       "empnum             int32\n",
       "compform          object\n",
       "parnum             int32\n",
       "exenum             int32\n",
       "opform            object\n",
       "ptbusscope       float64\n",
       "venind            object\n",
       "enttypeminu       object\n",
       "midpreindcode    float64\n",
       "protype           object\n",
       "oploc             object\n",
       "regcap           float64\n",
       "reccap           float64\n",
       "forreccap        float64\n",
       "forregcap        float64\n",
       "congro           float64\n",
       "enttypegb         object\n",
       "dtype: object"
      ]
     },
     "metadata": {},
     "execution_count": 15
    }
   ],
   "source": [
    "base_info.dtypes"
   ]
  },
  {
   "cell_type": "code",
   "execution_count": 16,
   "metadata": {},
   "outputs": [],
   "source": [
    "# 去除空值列\n",
    "drop_list = ['opform','ptbusscope','midpreindcode']\n",
    "\n",
    "for col in drop_list:\n",
    "    del base_info[col]"
   ]
  },
  {
   "cell_type": "code",
   "execution_count": 17,
   "metadata": {},
   "outputs": [
    {
     "output_type": "execute_result",
     "data": {
      "text/plain": [
       "Index(['id', 'oplocdistrict', 'industryphy', 'industryco', 'dom', 'opscope',\n",
       "       'enttype', 'enttypeitem', 'opfrom', 'opto', 'state', 'orgid', 'jobid',\n",
       "       'adbusign', 'townsign', 'regtype', 'empnum', 'compform', 'parnum',\n",
       "       'exenum', 'venind', 'enttypeminu', 'protype', 'oploc', 'regcap',\n",
       "       'reccap', 'forreccap', 'forregcap', 'congro', 'enttypegb'],\n",
       "      dtype='object')"
      ]
     },
     "metadata": {},
     "execution_count": 17
    }
   ],
   "source": [
    "base_info.columns"
   ]
  },
  {
   "cell_type": "code",
   "execution_count": 18,
   "metadata": {},
   "outputs": [],
   "source": [
    "base_info.to_csv('../code/fea_explore/base_info.csv', index=False)"
   ]
  },
  {
   "source": [
    "## 根据标签探索非法集资风险特征"
   ],
   "cell_type": "markdown",
   "metadata": {}
  },
  {
   "cell_type": "code",
   "execution_count": 21,
   "metadata": {},
   "outputs": [
    {
     "output_type": "execute_result",
     "data": {
      "text/plain": [
       "Index(['id', 'oplocdistrict', 'industryphy', 'industryco', 'dom', 'opscope',\n",
       "       'enttype', 'enttypeitem', 'opfrom', 'opto', 'state', 'orgid', 'jobid',\n",
       "       'adbusign', 'townsign', 'regtype', 'empnum', 'compform', 'parnum',\n",
       "       'exenum', 'venind', 'enttypeminu', 'protype', 'oploc', 'regcap',\n",
       "       'reccap', 'forreccap', 'forregcap', 'congro', 'enttypegb'],\n",
       "      dtype='object')"
      ]
     },
     "metadata": {},
     "execution_count": 21
    }
   ],
   "source": [
    "base_info.columns"
   ]
  },
  {
   "cell_type": "code",
   "execution_count": 22,
   "metadata": {},
   "outputs": [],
   "source": [
    "train_dataset = pd.merge(train_id, base_info, on=['id'], how='left')"
   ]
  },
  {
   "cell_type": "code",
   "execution_count": 24,
   "metadata": {},
   "outputs": [
    {
     "output_type": "execute_result",
     "data": {
      "text/plain": [
       "Index(['id', 'label', 'oplocdistrict', 'industryphy', 'industryco', 'dom',\n",
       "       'opscope', 'enttype', 'enttypeitem', 'opfrom', 'opto', 'state', 'orgid',\n",
       "       'jobid', 'adbusign', 'townsign', 'regtype', 'empnum', 'compform',\n",
       "       'parnum', 'exenum', 'venind', 'enttypeminu', 'protype', 'oploc',\n",
       "       'regcap', 'reccap', 'forreccap', 'forregcap', 'congro', 'enttypegb'],\n",
       "      dtype='object')"
      ]
     },
     "metadata": {},
     "execution_count": 24
    }
   ],
   "source": [
    "train_dataset.columns"
   ]
  },
  {
   "cell_type": "code",
   "execution_count": 49,
   "metadata": {},
   "outputs": [
    {
     "output_type": "execute_result",
     "data": {
      "text/plain": [
       "label  parnum\n",
       "0      -1        12758\n",
       "        2          549\n",
       "        1          399\n",
       "        3          108\n",
       "        4           28\n",
       "        5           16\n",
       "        6            3\n",
       "        7            2\n",
       "        8            2\n",
       "        9            2\n",
       "        13           2\n",
       "        27           2\n",
       "        46           2\n",
       "        10           1\n",
       "        12           1\n",
       "        14           1\n",
       "        22           1\n",
       "        23           1\n",
       "        25           1\n",
       "        33           1\n",
       "        37           1\n",
       "        41           1\n",
       "        44           1\n",
       "        49           1\n",
       "1      -1          437\n",
       "        2          292\n",
       "        3           86\n",
       "        4           37\n",
       "        5           13\n",
       "        6           11\n",
       "                 ...  \n",
       "        10           4\n",
       "        12           4\n",
       "        19           4\n",
       "        9            3\n",
       "        20           3\n",
       "        21           3\n",
       "        24           3\n",
       "        30           3\n",
       "        32           3\n",
       "        38           3\n",
       "        40           3\n",
       "        41           3\n",
       "        50           3\n",
       "        11           2\n",
       "        18           2\n",
       "        22           2\n",
       "        26           2\n",
       "        31           2\n",
       "        33           2\n",
       "        36           2\n",
       "        42           2\n",
       "        47           2\n",
       "        48           2\n",
       "        14           1\n",
       "        16           1\n",
       "        25           1\n",
       "        35           1\n",
       "        43           1\n",
       "        45           1\n",
       "        46           1\n",
       "Name: parnum, Length: 66, dtype: int64"
      ]
     },
     "metadata": {},
     "execution_count": 49
    }
   ],
   "source": [
    "train_dataset.groupby('label')['parnum'].value_counts()"
   ]
  },
  {
   "source": [
    "## other info\n"
   ],
   "cell_type": "markdown",
   "metadata": {}
  },
  {
   "cell_type": "code",
   "execution_count": 68,
   "metadata": {},
   "outputs": [],
   "source": [
    "other_info = load_csv('../ccf_data/other_info.csv', converters={'id': str})"
   ]
  },
  {
   "cell_type": "code",
   "execution_count": 69,
   "metadata": {},
   "outputs": [
    {
     "output_type": "execute_result",
     "data": {
      "text/plain": [
       "                                                    id  legal_judgment_num  \\\n",
       "0     f000950527a6feb6d340f91da09e61347d8200cd2f0d1602                 4.0   \n",
       "1     f000950527a6feb608dd9322b74a99f60851207f36a3c94c                 1.0   \n",
       "2     d8071a739aa75a3b9f23966f8dae78fd226c272515b9c255                 2.0   \n",
       "3     216bd2aaf4d079242209b1496f81a36c7abed9dd0bb65ed3                 NaN   \n",
       "4     e9f7b28ec10e0470de9631c789f49acdd4e7cf9ed6db094b                 NaN   \n",
       "5     d8071a739aa75a3bcf6fb0041ee883243251d30025ab9d45                 1.0   \n",
       "6     f000950527a6feb6f97af739bb95531db891a11df80bdb8b                 3.0   \n",
       "7     f000950527a6feb65929509d9be855bf75b7337d4465843e                47.0   \n",
       "8     f000950527a6feb6a81704c38a21ae17f4f09eaa9aa77bea                 NaN   \n",
       "9     f000950527a6feb6c0ab37e6eb4a4bf25ee20f0ff9ff070d                 NaN   \n",
       "10    82750f1b9d1223506c304585e5f7ad7928810dc983b86b31                 NaN   \n",
       "11    d8071a739aa75a3bc42a2c5242f2397861fa33d6cc700d1c                 NaN   \n",
       "12    e9f7b28ec10e0470bbec8c542b9ade3c665dbfa616e7a0d6                 NaN   \n",
       "13    f000950527a6feb6b018bff1819a0605429820fa2072b0d6                 1.0   \n",
       "14    59b38c56de38368391bec049f23801f60e875733011c2a1b                 6.0   \n",
       "15    f000950527a6feb6abf416594bb1f7470a2dfc05306efac3                 NaN   \n",
       "16    f000950527a6feb68b2de1c0fb54cf2919d4029742a7a1c4                 1.0   \n",
       "17    216bd2aaf4d0792477d874113d0a23613888ba52f31dfe2a                 NaN   \n",
       "18    e9f7b28ec10e047039ef2e92c4f75351547372521e95141c                 NaN   \n",
       "19    e9f7b28ec10e0470d21aa86436d886023637b37d4b3e94a2                 NaN   \n",
       "20    f000950527a6feb68f92f714638e43b8c7bb85f2a1fcc631                 NaN   \n",
       "21    f000950527a6feb6a910c086edfe43b53c469ce19f24bc1f                 2.0   \n",
       "22    f000950527a6feb60d98fe51cf38846ebf074c561a7b5d28                 2.0   \n",
       "23    216bd2aaf4d0792496791f99c798fdad2b3b441701be03c2                 NaN   \n",
       "24    f000950527a6feb641366f1b7ea19bf0ece362eab11326e9                 NaN   \n",
       "25    f000950527a6feb63837cba9eb06ef53fcb936ace7e8526a                 NaN   \n",
       "26    4a8fc4f3fb4d8a0f65bf8522bf08d5403c0ce06237afee58                 1.0   \n",
       "27    e9f7b28ec10e04708cf1cc7451ba3008f9232249d39aaa3f                23.0   \n",
       "28    f000950527a6feb6a3e5db12921603ab7f44bcfd265bd5b1                 6.0   \n",
       "29    f000950527a6feb680b60037d9fe53ff85b087616391ea25                 NaN   \n",
       "...                                                ...                 ...   \n",
       "1860  d8071a739aa75a3be4f977d97abd9ff39d9fd71561a6d86c                 1.0   \n",
       "1861  f000950527a6feb689ec4f826034df0d2ba3a16bf3515af7                 7.0   \n",
       "1862  f000950527a6feb66f557a19f8dd3226391ff0b99562dd3a                 1.0   \n",
       "1863  47645761dc56bb8c9725b5fe67e2158845c581243d09eb73                 NaN   \n",
       "1864  59b38c56de383683e3c66b76dd006b0cd84517525aae3029                 2.0   \n",
       "1865  f000950527a6feb6a005c09bbd2e2696880df8cd9b350ae2                 1.0   \n",
       "1866  e9f7b28ec10e04701757daedad00dbbec9b223aba3e634b5                 1.0   \n",
       "1867  f000950527a6feb6525a8a33b149815c168ac689b6f76769                 1.0   \n",
       "1868  f000950527a6feb62a5282157a73151e3bd5c1de90cc8252                 8.0   \n",
       "1869  82750f1b9d122350ab63f19538a8ca77f31a4b97e4a99108                 5.0   \n",
       "1870  d8071a739aa75a3b358079b549a933d65bb60390040a1b9b                 1.0   \n",
       "1871  82750f1b9d122350e1482666eb9d5e3b94a2aa40d74f0a17                 3.0   \n",
       "1872  f000950527a6feb6fcdaac2d3cf415a43454863d6b29c21f                 NaN   \n",
       "1873  d8071a739aa75a3b1e6499c92dae4042d5585ced15b75e85                 2.0   \n",
       "1874  f000950527a6feb6db4240bbef2e9513873ad872c18ec85c                 3.0   \n",
       "1875  f000950527a6feb6741975df339ab5b7580ab64c0e959ab5                32.0   \n",
       "1876  f000950527a6feb6acae98cc7f681e7711581b7b86131cb6                 1.0   \n",
       "1877  f000950527a6feb6c1ba8f3cbd5014a898fafb303f87daf3                 NaN   \n",
       "1878  59b38c56de3836838c6429dad3142f27fdbf1862bc09f634                 3.0   \n",
       "1879  f000950527a6feb6e91a9a71b5d19773a34d74b497fa5eee                 2.0   \n",
       "1880  f000950527a6feb6b7050822f4ff222856c430eab47a5bc5                 8.0   \n",
       "1881  f000950527a6feb6ba87e96d0f0eaf14b8abe9ba6b0e6d35                 NaN   \n",
       "1882  f000950527a6feb6fed905dd851e5cbb2c0cf6b2f95922c4                 NaN   \n",
       "1883  47e3664e12f3ce74664b3af9d2c4cb13d301b992e7d32102                80.0   \n",
       "1884  f000950527a6feb61524c21e0226f9e37842f263a2eec7ab                 1.0   \n",
       "1885  47645761dc56bb8cf147c0f51d60cfe28fd995aaca7693d9                 6.0   \n",
       "1886  f000950527a6feb69ea351e48351a711fb09bf1b83f04dfc                 1.0   \n",
       "1887  d8071a739aa75a3b39130af3718b2f261b57833a6a58ba55                 2.0   \n",
       "1888  d8071a739aa75a3b6860158ec0cc8ba7972fb14ba37b9e0a                 1.0   \n",
       "1889  f000950527a6feb6de489447885cd6d18f593ec2674174ac                40.0   \n",
       "\n",
       "      brand_num  patent_num  \n",
       "0           NaN         NaN  \n",
       "1           NaN         NaN  \n",
       "2           NaN         NaN  \n",
       "3           1.0         NaN  \n",
       "4           2.0         NaN  \n",
       "5           NaN         NaN  \n",
       "6           NaN         NaN  \n",
       "7           NaN         NaN  \n",
       "8           3.0         NaN  \n",
       "9           1.0         NaN  \n",
       "10          1.0         NaN  \n",
       "11          3.0         NaN  \n",
       "12          6.0         NaN  \n",
       "13          NaN         NaN  \n",
       "14          NaN         NaN  \n",
       "15          3.0         NaN  \n",
       "16          NaN         NaN  \n",
       "17          1.0         NaN  \n",
       "18          1.0         NaN  \n",
       "19         23.0         NaN  \n",
       "20         16.0         NaN  \n",
       "21          1.0         NaN  \n",
       "22          2.0         NaN  \n",
       "23          1.0         NaN  \n",
       "24          NaN        21.0  \n",
       "25          1.0         NaN  \n",
       "26          NaN         NaN  \n",
       "27          NaN         NaN  \n",
       "28          NaN        13.0  \n",
       "29          1.0       101.0  \n",
       "...         ...         ...  \n",
       "1860        NaN         NaN  \n",
       "1861        NaN         NaN  \n",
       "1862        2.0         NaN  \n",
       "1863        1.0         NaN  \n",
       "1864        NaN         NaN  \n",
       "1865        NaN         NaN  \n",
       "1866        NaN         NaN  \n",
       "1867        NaN         NaN  \n",
       "1868        NaN         NaN  \n",
       "1869        NaN         NaN  \n",
       "1870        NaN         NaN  \n",
       "1871        NaN         NaN  \n",
       "1872        1.0         NaN  \n",
       "1873        NaN         NaN  \n",
       "1874        NaN         NaN  \n",
       "1875        NaN         NaN  \n",
       "1876        NaN         NaN  \n",
       "1877        2.0         3.0  \n",
       "1878        NaN         NaN  \n",
       "1879        NaN         NaN  \n",
       "1880        NaN         NaN  \n",
       "1881        1.0         NaN  \n",
       "1882        2.0        21.0  \n",
       "1883        NaN         NaN  \n",
       "1884        NaN         NaN  \n",
       "1885        NaN         NaN  \n",
       "1886        NaN         NaN  \n",
       "1887        1.0         NaN  \n",
       "1888        NaN         NaN  \n",
       "1889        NaN         NaN  \n",
       "\n",
       "[1890 rows x 4 columns]"
      ],
      "text/html": "<div>\n<style scoped>\n    .dataframe tbody tr th:only-of-type {\n        vertical-align: middle;\n    }\n\n    .dataframe tbody tr th {\n        vertical-align: top;\n    }\n\n    .dataframe thead th {\n        text-align: right;\n    }\n</style>\n<table border=\"1\" class=\"dataframe\">\n  <thead>\n    <tr style=\"text-align: right;\">\n      <th></th>\n      <th>id</th>\n      <th>legal_judgment_num</th>\n      <th>brand_num</th>\n      <th>patent_num</th>\n    </tr>\n  </thead>\n  <tbody>\n    <tr>\n      <th>0</th>\n      <td>f000950527a6feb6d340f91da09e61347d8200cd2f0d1602</td>\n      <td>4.0</td>\n      <td>NaN</td>\n      <td>NaN</td>\n    </tr>\n    <tr>\n      <th>1</th>\n      <td>f000950527a6feb608dd9322b74a99f60851207f36a3c94c</td>\n      <td>1.0</td>\n      <td>NaN</td>\n      <td>NaN</td>\n    </tr>\n    <tr>\n      <th>2</th>\n      <td>d8071a739aa75a3b9f23966f8dae78fd226c272515b9c255</td>\n      <td>2.0</td>\n      <td>NaN</td>\n      <td>NaN</td>\n    </tr>\n    <tr>\n      <th>3</th>\n      <td>216bd2aaf4d079242209b1496f81a36c7abed9dd0bb65ed3</td>\n      <td>NaN</td>\n      <td>1.0</td>\n      <td>NaN</td>\n    </tr>\n    <tr>\n      <th>4</th>\n      <td>e9f7b28ec10e0470de9631c789f49acdd4e7cf9ed6db094b</td>\n      <td>NaN</td>\n      <td>2.0</td>\n      <td>NaN</td>\n    </tr>\n    <tr>\n      <th>5</th>\n      <td>d8071a739aa75a3bcf6fb0041ee883243251d30025ab9d45</td>\n      <td>1.0</td>\n      <td>NaN</td>\n      <td>NaN</td>\n    </tr>\n    <tr>\n      <th>6</th>\n      <td>f000950527a6feb6f97af739bb95531db891a11df80bdb8b</td>\n      <td>3.0</td>\n      <td>NaN</td>\n      <td>NaN</td>\n    </tr>\n    <tr>\n      <th>7</th>\n      <td>f000950527a6feb65929509d9be855bf75b7337d4465843e</td>\n      <td>47.0</td>\n      <td>NaN</td>\n      <td>NaN</td>\n    </tr>\n    <tr>\n      <th>8</th>\n      <td>f000950527a6feb6a81704c38a21ae17f4f09eaa9aa77bea</td>\n      <td>NaN</td>\n      <td>3.0</td>\n      <td>NaN</td>\n    </tr>\n    <tr>\n      <th>9</th>\n      <td>f000950527a6feb6c0ab37e6eb4a4bf25ee20f0ff9ff070d</td>\n      <td>NaN</td>\n      <td>1.0</td>\n      <td>NaN</td>\n    </tr>\n    <tr>\n      <th>10</th>\n      <td>82750f1b9d1223506c304585e5f7ad7928810dc983b86b31</td>\n      <td>NaN</td>\n      <td>1.0</td>\n      <td>NaN</td>\n    </tr>\n    <tr>\n      <th>11</th>\n      <td>d8071a739aa75a3bc42a2c5242f2397861fa33d6cc700d1c</td>\n      <td>NaN</td>\n      <td>3.0</td>\n      <td>NaN</td>\n    </tr>\n    <tr>\n      <th>12</th>\n      <td>e9f7b28ec10e0470bbec8c542b9ade3c665dbfa616e7a0d6</td>\n      <td>NaN</td>\n      <td>6.0</td>\n      <td>NaN</td>\n    </tr>\n    <tr>\n      <th>13</th>\n      <td>f000950527a6feb6b018bff1819a0605429820fa2072b0d6</td>\n      <td>1.0</td>\n      <td>NaN</td>\n      <td>NaN</td>\n    </tr>\n    <tr>\n      <th>14</th>\n      <td>59b38c56de38368391bec049f23801f60e875733011c2a1b</td>\n      <td>6.0</td>\n      <td>NaN</td>\n      <td>NaN</td>\n    </tr>\n    <tr>\n      <th>15</th>\n      <td>f000950527a6feb6abf416594bb1f7470a2dfc05306efac3</td>\n      <td>NaN</td>\n      <td>3.0</td>\n      <td>NaN</td>\n    </tr>\n    <tr>\n      <th>16</th>\n      <td>f000950527a6feb68b2de1c0fb54cf2919d4029742a7a1c4</td>\n      <td>1.0</td>\n      <td>NaN</td>\n      <td>NaN</td>\n    </tr>\n    <tr>\n      <th>17</th>\n      <td>216bd2aaf4d0792477d874113d0a23613888ba52f31dfe2a</td>\n      <td>NaN</td>\n      <td>1.0</td>\n      <td>NaN</td>\n    </tr>\n    <tr>\n      <th>18</th>\n      <td>e9f7b28ec10e047039ef2e92c4f75351547372521e95141c</td>\n      <td>NaN</td>\n      <td>1.0</td>\n      <td>NaN</td>\n    </tr>\n    <tr>\n      <th>19</th>\n      <td>e9f7b28ec10e0470d21aa86436d886023637b37d4b3e94a2</td>\n      <td>NaN</td>\n      <td>23.0</td>\n      <td>NaN</td>\n    </tr>\n    <tr>\n      <th>20</th>\n      <td>f000950527a6feb68f92f714638e43b8c7bb85f2a1fcc631</td>\n      <td>NaN</td>\n      <td>16.0</td>\n      <td>NaN</td>\n    </tr>\n    <tr>\n      <th>21</th>\n      <td>f000950527a6feb6a910c086edfe43b53c469ce19f24bc1f</td>\n      <td>2.0</td>\n      <td>1.0</td>\n      <td>NaN</td>\n    </tr>\n    <tr>\n      <th>22</th>\n      <td>f000950527a6feb60d98fe51cf38846ebf074c561a7b5d28</td>\n      <td>2.0</td>\n      <td>2.0</td>\n      <td>NaN</td>\n    </tr>\n    <tr>\n      <th>23</th>\n      <td>216bd2aaf4d0792496791f99c798fdad2b3b441701be03c2</td>\n      <td>NaN</td>\n      <td>1.0</td>\n      <td>NaN</td>\n    </tr>\n    <tr>\n      <th>24</th>\n      <td>f000950527a6feb641366f1b7ea19bf0ece362eab11326e9</td>\n      <td>NaN</td>\n      <td>NaN</td>\n      <td>21.0</td>\n    </tr>\n    <tr>\n      <th>25</th>\n      <td>f000950527a6feb63837cba9eb06ef53fcb936ace7e8526a</td>\n      <td>NaN</td>\n      <td>1.0</td>\n      <td>NaN</td>\n    </tr>\n    <tr>\n      <th>26</th>\n      <td>4a8fc4f3fb4d8a0f65bf8522bf08d5403c0ce06237afee58</td>\n      <td>1.0</td>\n      <td>NaN</td>\n      <td>NaN</td>\n    </tr>\n    <tr>\n      <th>27</th>\n      <td>e9f7b28ec10e04708cf1cc7451ba3008f9232249d39aaa3f</td>\n      <td>23.0</td>\n      <td>NaN</td>\n      <td>NaN</td>\n    </tr>\n    <tr>\n      <th>28</th>\n      <td>f000950527a6feb6a3e5db12921603ab7f44bcfd265bd5b1</td>\n      <td>6.0</td>\n      <td>NaN</td>\n      <td>13.0</td>\n    </tr>\n    <tr>\n      <th>29</th>\n      <td>f000950527a6feb680b60037d9fe53ff85b087616391ea25</td>\n      <td>NaN</td>\n      <td>1.0</td>\n      <td>101.0</td>\n    </tr>\n    <tr>\n      <th>...</th>\n      <td>...</td>\n      <td>...</td>\n      <td>...</td>\n      <td>...</td>\n    </tr>\n    <tr>\n      <th>1860</th>\n      <td>d8071a739aa75a3be4f977d97abd9ff39d9fd71561a6d86c</td>\n      <td>1.0</td>\n      <td>NaN</td>\n      <td>NaN</td>\n    </tr>\n    <tr>\n      <th>1861</th>\n      <td>f000950527a6feb689ec4f826034df0d2ba3a16bf3515af7</td>\n      <td>7.0</td>\n      <td>NaN</td>\n      <td>NaN</td>\n    </tr>\n    <tr>\n      <th>1862</th>\n      <td>f000950527a6feb66f557a19f8dd3226391ff0b99562dd3a</td>\n      <td>1.0</td>\n      <td>2.0</td>\n      <td>NaN</td>\n    </tr>\n    <tr>\n      <th>1863</th>\n      <td>47645761dc56bb8c9725b5fe67e2158845c581243d09eb73</td>\n      <td>NaN</td>\n      <td>1.0</td>\n      <td>NaN</td>\n    </tr>\n    <tr>\n      <th>1864</th>\n      <td>59b38c56de383683e3c66b76dd006b0cd84517525aae3029</td>\n      <td>2.0</td>\n      <td>NaN</td>\n      <td>NaN</td>\n    </tr>\n    <tr>\n      <th>1865</th>\n      <td>f000950527a6feb6a005c09bbd2e2696880df8cd9b350ae2</td>\n      <td>1.0</td>\n      <td>NaN</td>\n      <td>NaN</td>\n    </tr>\n    <tr>\n      <th>1866</th>\n      <td>e9f7b28ec10e04701757daedad00dbbec9b223aba3e634b5</td>\n      <td>1.0</td>\n      <td>NaN</td>\n      <td>NaN</td>\n    </tr>\n    <tr>\n      <th>1867</th>\n      <td>f000950527a6feb6525a8a33b149815c168ac689b6f76769</td>\n      <td>1.0</td>\n      <td>NaN</td>\n      <td>NaN</td>\n    </tr>\n    <tr>\n      <th>1868</th>\n      <td>f000950527a6feb62a5282157a73151e3bd5c1de90cc8252</td>\n      <td>8.0</td>\n      <td>NaN</td>\n      <td>NaN</td>\n    </tr>\n    <tr>\n      <th>1869</th>\n      <td>82750f1b9d122350ab63f19538a8ca77f31a4b97e4a99108</td>\n      <td>5.0</td>\n      <td>NaN</td>\n      <td>NaN</td>\n    </tr>\n    <tr>\n      <th>1870</th>\n      <td>d8071a739aa75a3b358079b549a933d65bb60390040a1b9b</td>\n      <td>1.0</td>\n      <td>NaN</td>\n      <td>NaN</td>\n    </tr>\n    <tr>\n      <th>1871</th>\n      <td>82750f1b9d122350e1482666eb9d5e3b94a2aa40d74f0a17</td>\n      <td>3.0</td>\n      <td>NaN</td>\n      <td>NaN</td>\n    </tr>\n    <tr>\n      <th>1872</th>\n      <td>f000950527a6feb6fcdaac2d3cf415a43454863d6b29c21f</td>\n      <td>NaN</td>\n      <td>1.0</td>\n      <td>NaN</td>\n    </tr>\n    <tr>\n      <th>1873</th>\n      <td>d8071a739aa75a3b1e6499c92dae4042d5585ced15b75e85</td>\n      <td>2.0</td>\n      <td>NaN</td>\n      <td>NaN</td>\n    </tr>\n    <tr>\n      <th>1874</th>\n      <td>f000950527a6feb6db4240bbef2e9513873ad872c18ec85c</td>\n      <td>3.0</td>\n      <td>NaN</td>\n      <td>NaN</td>\n    </tr>\n    <tr>\n      <th>1875</th>\n      <td>f000950527a6feb6741975df339ab5b7580ab64c0e959ab5</td>\n      <td>32.0</td>\n      <td>NaN</td>\n      <td>NaN</td>\n    </tr>\n    <tr>\n      <th>1876</th>\n      <td>f000950527a6feb6acae98cc7f681e7711581b7b86131cb6</td>\n      <td>1.0</td>\n      <td>NaN</td>\n      <td>NaN</td>\n    </tr>\n    <tr>\n      <th>1877</th>\n      <td>f000950527a6feb6c1ba8f3cbd5014a898fafb303f87daf3</td>\n      <td>NaN</td>\n      <td>2.0</td>\n      <td>3.0</td>\n    </tr>\n    <tr>\n      <th>1878</th>\n      <td>59b38c56de3836838c6429dad3142f27fdbf1862bc09f634</td>\n      <td>3.0</td>\n      <td>NaN</td>\n      <td>NaN</td>\n    </tr>\n    <tr>\n      <th>1879</th>\n      <td>f000950527a6feb6e91a9a71b5d19773a34d74b497fa5eee</td>\n      <td>2.0</td>\n      <td>NaN</td>\n      <td>NaN</td>\n    </tr>\n    <tr>\n      <th>1880</th>\n      <td>f000950527a6feb6b7050822f4ff222856c430eab47a5bc5</td>\n      <td>8.0</td>\n      <td>NaN</td>\n      <td>NaN</td>\n    </tr>\n    <tr>\n      <th>1881</th>\n      <td>f000950527a6feb6ba87e96d0f0eaf14b8abe9ba6b0e6d35</td>\n      <td>NaN</td>\n      <td>1.0</td>\n      <td>NaN</td>\n    </tr>\n    <tr>\n      <th>1882</th>\n      <td>f000950527a6feb6fed905dd851e5cbb2c0cf6b2f95922c4</td>\n      <td>NaN</td>\n      <td>2.0</td>\n      <td>21.0</td>\n    </tr>\n    <tr>\n      <th>1883</th>\n      <td>47e3664e12f3ce74664b3af9d2c4cb13d301b992e7d32102</td>\n      <td>80.0</td>\n      <td>NaN</td>\n      <td>NaN</td>\n    </tr>\n    <tr>\n      <th>1884</th>\n      <td>f000950527a6feb61524c21e0226f9e37842f263a2eec7ab</td>\n      <td>1.0</td>\n      <td>NaN</td>\n      <td>NaN</td>\n    </tr>\n    <tr>\n      <th>1885</th>\n      <td>47645761dc56bb8cf147c0f51d60cfe28fd995aaca7693d9</td>\n      <td>6.0</td>\n      <td>NaN</td>\n      <td>NaN</td>\n    </tr>\n    <tr>\n      <th>1886</th>\n      <td>f000950527a6feb69ea351e48351a711fb09bf1b83f04dfc</td>\n      <td>1.0</td>\n      <td>NaN</td>\n      <td>NaN</td>\n    </tr>\n    <tr>\n      <th>1887</th>\n      <td>d8071a739aa75a3b39130af3718b2f261b57833a6a58ba55</td>\n      <td>2.0</td>\n      <td>1.0</td>\n      <td>NaN</td>\n    </tr>\n    <tr>\n      <th>1888</th>\n      <td>d8071a739aa75a3b6860158ec0cc8ba7972fb14ba37b9e0a</td>\n      <td>1.0</td>\n      <td>NaN</td>\n      <td>NaN</td>\n    </tr>\n    <tr>\n      <th>1889</th>\n      <td>f000950527a6feb6de489447885cd6d18f593ec2674174ac</td>\n      <td>40.0</td>\n      <td>NaN</td>\n      <td>NaN</td>\n    </tr>\n  </tbody>\n</table>\n<p>1890 rows × 4 columns</p>\n</div>"
     },
     "metadata": {},
     "execution_count": 69
    }
   ],
   "source": [
    "other_info"
   ]
  },
  {
   "cell_type": "code",
   "execution_count": 70,
   "metadata": {},
   "outputs": [],
   "source": [
    "convert_col = ['legal_judgment_num', 'brand_num', 'patent_num' ]"
   ]
  },
  {
   "cell_type": "code",
   "execution_count": 71,
   "metadata": {},
   "outputs": [],
   "source": [
    "for col in convert_col:\n",
    "    other_info[col].fillna(-1, inplace=True)\n",
    "    other_info[col] = other_info[col].astype('float64')"
   ]
  },
  {
   "cell_type": "code",
   "execution_count": 72,
   "metadata": {},
   "outputs": [
    {
     "output_type": "execute_result",
     "data": {
      "text/plain": [
       "id                     object\n",
       "legal_judgment_num    float64\n",
       "brand_num             float64\n",
       "patent_num            float64\n",
       "dtype: object"
      ]
     },
     "metadata": {},
     "execution_count": 72
    }
   ],
   "source": [
    "other_info.dtypes"
   ]
  },
  {
   "source": [
    "#### 发现重复项"
   ],
   "cell_type": "markdown",
   "metadata": {}
  },
  {
   "cell_type": "code",
   "execution_count": 80,
   "metadata": {},
   "outputs": [
    {
     "output_type": "stream",
     "name": "stdout",
     "text": [
      "                                                    id  legal_judgment_num  \\\n836   e9f7b28ec10e04707ba878b89e6c2d362b107a817342f9c6                12.0   \n1120  f000950527a6feb63702b1f6c1dabe5ea196d320bbbff425                27.0   \n\n      brand_num  patent_num  \n836         9.0         8.0  \n1120       70.0        77.0  \n"
     ]
    }
   ],
   "source": [
    "isDuplicated = other_info.duplicated('id')\n",
    "print(other_info[other_info.duplicated('id')])"
   ]
  },
  {
   "cell_type": "code",
   "execution_count": 81,
   "metadata": {},
   "outputs": [
    {
     "output_type": "execute_result",
     "data": {
      "text/plain": [
       "                                                    id  legal_judgment_num  \\\n",
       "835   e9f7b28ec10e04707ba878b89e6c2d362b107a817342f9c6                 2.0   \n",
       "836   e9f7b28ec10e04707ba878b89e6c2d362b107a817342f9c6                12.0   \n",
       "1119  f000950527a6feb63702b1f6c1dabe5ea196d320bbbff425                27.0   \n",
       "1120  f000950527a6feb63702b1f6c1dabe5ea196d320bbbff425                27.0   \n",
       "\n",
       "      brand_num  patent_num  \n",
       "835         9.0         8.0  \n",
       "836         9.0         8.0  \n",
       "1119       68.0        77.0  \n",
       "1120       70.0        77.0  "
      ],
      "text/html": "<div>\n<style scoped>\n    .dataframe tbody tr th:only-of-type {\n        vertical-align: middle;\n    }\n\n    .dataframe tbody tr th {\n        vertical-align: top;\n    }\n\n    .dataframe thead th {\n        text-align: right;\n    }\n</style>\n<table border=\"1\" class=\"dataframe\">\n  <thead>\n    <tr style=\"text-align: right;\">\n      <th></th>\n      <th>id</th>\n      <th>legal_judgment_num</th>\n      <th>brand_num</th>\n      <th>patent_num</th>\n    </tr>\n  </thead>\n  <tbody>\n    <tr>\n      <th>835</th>\n      <td>e9f7b28ec10e04707ba878b89e6c2d362b107a817342f9c6</td>\n      <td>2.0</td>\n      <td>9.0</td>\n      <td>8.0</td>\n    </tr>\n    <tr>\n      <th>836</th>\n      <td>e9f7b28ec10e04707ba878b89e6c2d362b107a817342f9c6</td>\n      <td>12.0</td>\n      <td>9.0</td>\n      <td>8.0</td>\n    </tr>\n    <tr>\n      <th>1119</th>\n      <td>f000950527a6feb63702b1f6c1dabe5ea196d320bbbff425</td>\n      <td>27.0</td>\n      <td>68.0</td>\n      <td>77.0</td>\n    </tr>\n    <tr>\n      <th>1120</th>\n      <td>f000950527a6feb63702b1f6c1dabe5ea196d320bbbff425</td>\n      <td>27.0</td>\n      <td>70.0</td>\n      <td>77.0</td>\n    </tr>\n  </tbody>\n</table>\n</div>"
     },
     "metadata": {},
     "execution_count": 81
    }
   ],
   "source": [
    "other_info[other_info['id'].isin(['e9f7b28ec10e04707ba878b89e6c2d362b107a817342f9c6', 'f000950527a6feb63702b1f6c1dabe5ea196d320bbbff425'])]"
   ]
  },
  {
   "cell_type": "code",
   "execution_count": 82,
   "metadata": {},
   "outputs": [],
   "source": [
    "## 经观察，发现后一条的数据更可信\n",
    "other_info.drop_duplicates('id', keep='last', inplace=True)"
   ]
  },
  {
   "cell_type": "code",
   "execution_count": 83,
   "metadata": {},
   "outputs": [
    {
     "output_type": "execute_result",
     "data": {
      "text/plain": [
       "                                                    id  legal_judgment_num  \\\n",
       "836   e9f7b28ec10e04707ba878b89e6c2d362b107a817342f9c6                12.0   \n",
       "1120  f000950527a6feb63702b1f6c1dabe5ea196d320bbbff425                27.0   \n",
       "\n",
       "      brand_num  patent_num  \n",
       "836         9.0         8.0  \n",
       "1120       70.0        77.0  "
      ],
      "text/html": "<div>\n<style scoped>\n    .dataframe tbody tr th:only-of-type {\n        vertical-align: middle;\n    }\n\n    .dataframe tbody tr th {\n        vertical-align: top;\n    }\n\n    .dataframe thead th {\n        text-align: right;\n    }\n</style>\n<table border=\"1\" class=\"dataframe\">\n  <thead>\n    <tr style=\"text-align: right;\">\n      <th></th>\n      <th>id</th>\n      <th>legal_judgment_num</th>\n      <th>brand_num</th>\n      <th>patent_num</th>\n    </tr>\n  </thead>\n  <tbody>\n    <tr>\n      <th>836</th>\n      <td>e9f7b28ec10e04707ba878b89e6c2d362b107a817342f9c6</td>\n      <td>12.0</td>\n      <td>9.0</td>\n      <td>8.0</td>\n    </tr>\n    <tr>\n      <th>1120</th>\n      <td>f000950527a6feb63702b1f6c1dabe5ea196d320bbbff425</td>\n      <td>27.0</td>\n      <td>70.0</td>\n      <td>77.0</td>\n    </tr>\n  </tbody>\n</table>\n</div>"
     },
     "metadata": {},
     "execution_count": 83
    }
   ],
   "source": [
    "other_info[other_info['id'].isin(['e9f7b28ec10e04707ba878b89e6c2d362b107a817342f9c6', 'f000950527a6feb63702b1f6c1dabe5ea196d320bbbff425'])]"
   ]
  },
  {
   "cell_type": "code",
   "execution_count": 84,
   "metadata": {},
   "outputs": [],
   "source": [
    "other_info.to_csv('../code/fea_explore/other_info.csv', index=False)"
   ]
  },
  {
   "source": [
    "## news info"
   ],
   "cell_type": "markdown",
   "metadata": {}
  },
  {
   "cell_type": "code",
   "execution_count": 85,
   "metadata": {},
   "outputs": [],
   "source": [
    "news_info = load_csv('../ccf_data/news_info.csv', converters={'id': str})"
   ]
  },
  {
   "cell_type": "code",
   "execution_count": 86,
   "metadata": {},
   "outputs": [
    {
     "output_type": "execute_result",
     "data": {
      "text/plain": [
       "                                                     id positive_negtive  \\\n",
       "0      f000950527a6feb62669d6a175fe6fdccd1eb4f7ca8e5016               积极   \n",
       "1      f000950527a6feb6e8bd9919e2ca363359bcfa997a0f9de7               中立   \n",
       "2      f000950527a6feb6e8bd9919e2ca363359bcfa997a0f9de7               消极   \n",
       "3      d8071a739aa75a3bcf6fb0041ee883243251d30025ab9d45               中立   \n",
       "4      f000950527a6feb6d71de3382afa0bc5ff87bb65477f698a               积极   \n",
       "5      f000950527a6feb6d71de3382afa0bc5ff87bb65477f698a               积极   \n",
       "6      f000950527a6feb65929509d9be855bf75b7337d4465843e               积极   \n",
       "7      f000950527a6feb65929509d9be855bf75b7337d4465843e               积极   \n",
       "8      f000950527a6feb68b2de1c0fb54cf2919d4029742a7a1c4               中立   \n",
       "9      f000950527a6feb68b2de1c0fb54cf2919d4029742a7a1c4               中立   \n",
       "10     f000950527a6feb68b2de1c0fb54cf2919d4029742a7a1c4               中立   \n",
       "11     f000950527a6feb68b2de1c0fb54cf2919d4029742a7a1c4               中立   \n",
       "12     f000950527a6feb6501a4840649c985816c6be5d44f1a75a               积极   \n",
       "13     f000950527a6feb6501a4840649c985816c6be5d44f1a75a               积极   \n",
       "14     82750f1b9d12235035ad8f3632856b959e013d97f2170e2d               中立   \n",
       "15     f000950527a6feb64f2d2faa5a702172f4865679e49897c7               积极   \n",
       "16     f000950527a6feb63837cba9eb06ef53fcb936ace7e8526a               中立   \n",
       "17     f000950527a6feb63837cba9eb06ef53fcb936ace7e8526a               中立   \n",
       "18     e9f7b28ec10e04708cf1cc7451ba3008f9232249d39aaa3f               消极   \n",
       "19     e9f7b28ec10e04708cf1cc7451ba3008f9232249d39aaa3f               中立   \n",
       "20     f000950527a6feb6a3e5db12921603ab7f44bcfd265bd5b1               中立   \n",
       "21     f000950527a6feb6a3e5db12921603ab7f44bcfd265bd5b1               积极   \n",
       "22     f000950527a6feb6a3e5db12921603ab7f44bcfd265bd5b1               积极   \n",
       "23     f000950527a6feb6a3e5db12921603ab7f44bcfd265bd5b1               中立   \n",
       "24     f000950527a6feb6a3e5db12921603ab7f44bcfd265bd5b1               积极   \n",
       "25     f000950527a6feb6a3e5db12921603ab7f44bcfd265bd5b1               积极   \n",
       "26     f000950527a6feb6a3e5db12921603ab7f44bcfd265bd5b1               中立   \n",
       "27     f000950527a6feb6a3e5db12921603ab7f44bcfd265bd5b1               中立   \n",
       "28     f000950527a6feb6a3e5db12921603ab7f44bcfd265bd5b1               积极   \n",
       "29     f000950527a6feb6a3e5db12921603ab7f44bcfd265bd5b1               中立   \n",
       "...                                                 ...              ...   \n",
       "10488  f000950527a6feb6ba87e96d0f0eaf14b8abe9ba6b0e6d35               积极   \n",
       "10489  47e3664e12f3ce74664b3af9d2c4cb13d301b992e7d32102               中立   \n",
       "10490  47e3664e12f3ce74664b3af9d2c4cb13d301b992e7d32102               消极   \n",
       "10491  d8071a739aa75a3be6f3e200fd5532cb96764b8f4623c75a               中立   \n",
       "10492  f000950527a6feb69ea351e48351a711fb09bf1b83f04dfc               中立   \n",
       "10493  e9f7b28ec10e047005eec1a07b716d63fac8742cbdeacd46               中立   \n",
       "10494  d8071a739aa75a3b6860158ec0cc8ba7972fb14ba37b9e0a               积极   \n",
       "10495  d8071a739aa75a3b6860158ec0cc8ba7972fb14ba37b9e0a               中立   \n",
       "10496  d8071a739aa75a3b6860158ec0cc8ba7972fb14ba37b9e0a               积极   \n",
       "10497  d8071a739aa75a3b6860158ec0cc8ba7972fb14ba37b9e0a               积极   \n",
       "10498  d8071a739aa75a3b6860158ec0cc8ba7972fb14ba37b9e0a               积极   \n",
       "10499  d8071a739aa75a3b6860158ec0cc8ba7972fb14ba37b9e0a               积极   \n",
       "10500  d8071a739aa75a3b6860158ec0cc8ba7972fb14ba37b9e0a               积极   \n",
       "10501  d8071a739aa75a3b6860158ec0cc8ba7972fb14ba37b9e0a               中立   \n",
       "10502  d8071a739aa75a3b6860158ec0cc8ba7972fb14ba37b9e0a               积极   \n",
       "10503  d8071a739aa75a3b6860158ec0cc8ba7972fb14ba37b9e0a               积极   \n",
       "10504  d8071a739aa75a3b6860158ec0cc8ba7972fb14ba37b9e0a               积极   \n",
       "10505  d8071a739aa75a3b6860158ec0cc8ba7972fb14ba37b9e0a               积极   \n",
       "10506  d8071a739aa75a3b6860158ec0cc8ba7972fb14ba37b9e0a               积极   \n",
       "10507  d8071a739aa75a3b6860158ec0cc8ba7972fb14ba37b9e0a               积极   \n",
       "10508  d8071a739aa75a3b6860158ec0cc8ba7972fb14ba37b9e0a               积极   \n",
       "10509  d8071a739aa75a3b6860158ec0cc8ba7972fb14ba37b9e0a               积极   \n",
       "10510  d8071a739aa75a3b6860158ec0cc8ba7972fb14ba37b9e0a               积极   \n",
       "10511  d8071a739aa75a3b6860158ec0cc8ba7972fb14ba37b9e0a               积极   \n",
       "10512  d8071a739aa75a3b6860158ec0cc8ba7972fb14ba37b9e0a               积极   \n",
       "10513  d8071a739aa75a3b6860158ec0cc8ba7972fb14ba37b9e0a               中立   \n",
       "10514  d8071a739aa75a3b6860158ec0cc8ba7972fb14ba37b9e0a               积极   \n",
       "10515  f000950527a6feb6de489447885cd6d18f593ec2674174ac               中立   \n",
       "10516  f000950527a6feb6de489447885cd6d18f593ec2674174ac               中立   \n",
       "10517  f000950527a6feb6de489447885cd6d18f593ec2674174ac               消极   \n",
       "\n",
       "      public_date  \n",
       "0      2016-12-30  \n",
       "1      2017-08-09  \n",
       "2      2016-02-29  \n",
       "3      2018-06-08  \n",
       "4      2015-06-29  \n",
       "5      2015-06-15  \n",
       "6      2019-10-26  \n",
       "7      2017-11-01  \n",
       "8      2018-04-20  \n",
       "9      2018-01-08  \n",
       "10     2017-12-14  \n",
       "11     2015-05-12  \n",
       "12     2017-11-28  \n",
       "13     2016-10-17  \n",
       "14     2019-03-29  \n",
       "15     2019-04-18  \n",
       "16     2018-04-11  \n",
       "17     2016-07-14  \n",
       "18     2018-04-02  \n",
       "19     2016-07-20  \n",
       "20     2020-09-10  \n",
       "21     2020-03-24  \n",
       "22     2020-03-23  \n",
       "23     2020-03-09  \n",
       "24     2020-02-29  \n",
       "25     2020-02-27  \n",
       "26     2020-02-09  \n",
       "27     2020-02-05  \n",
       "28     2020-01-15  \n",
       "29     2020-01-15  \n",
       "...           ...  \n",
       "10488  2016-02-19  \n",
       "10489  2020-06-01  \n",
       "10490  2020-05-25  \n",
       "10491  2017-01-25  \n",
       "10492  2015-08-15  \n",
       "10493  2020-04-03  \n",
       "10494  2016-03-07  \n",
       "10495  2013-12-16  \n",
       "10496  2013-09-10  \n",
       "10497  2013-07-09  \n",
       "10498  2013-05-27  \n",
       "10499  2013-05-10  \n",
       "10500  2013-05-02  \n",
       "10501  2013-01-08  \n",
       "10502  2012-08-23  \n",
       "10503  2012-08-02  \n",
       "10504  2012-07-16  \n",
       "10505  2015-12-26  \n",
       "10506  2012-07-13  \n",
       "10507  2012-06-20  \n",
       "10508  2015-12-26  \n",
       "10509  2015-12-23  \n",
       "10510  2015-11-28  \n",
       "10511  2015-10-24  \n",
       "10512  2015-10-09  \n",
       "10513  2013-12-25  \n",
       "10514  2013-12-23  \n",
       "10515  2020-04-07  \n",
       "10516  2020-02-21  \n",
       "10517  2018-12-13  \n",
       "\n",
       "[10518 rows x 3 columns]"
      ],
      "text/html": "<div>\n<style scoped>\n    .dataframe tbody tr th:only-of-type {\n        vertical-align: middle;\n    }\n\n    .dataframe tbody tr th {\n        vertical-align: top;\n    }\n\n    .dataframe thead th {\n        text-align: right;\n    }\n</style>\n<table border=\"1\" class=\"dataframe\">\n  <thead>\n    <tr style=\"text-align: right;\">\n      <th></th>\n      <th>id</th>\n      <th>positive_negtive</th>\n      <th>public_date</th>\n    </tr>\n  </thead>\n  <tbody>\n    <tr>\n      <th>0</th>\n      <td>f000950527a6feb62669d6a175fe6fdccd1eb4f7ca8e5016</td>\n      <td>积极</td>\n      <td>2016-12-30</td>\n    </tr>\n    <tr>\n      <th>1</th>\n      <td>f000950527a6feb6e8bd9919e2ca363359bcfa997a0f9de7</td>\n      <td>中立</td>\n      <td>2017-08-09</td>\n    </tr>\n    <tr>\n      <th>2</th>\n      <td>f000950527a6feb6e8bd9919e2ca363359bcfa997a0f9de7</td>\n      <td>消极</td>\n      <td>2016-02-29</td>\n    </tr>\n    <tr>\n      <th>3</th>\n      <td>d8071a739aa75a3bcf6fb0041ee883243251d30025ab9d45</td>\n      <td>中立</td>\n      <td>2018-06-08</td>\n    </tr>\n    <tr>\n      <th>4</th>\n      <td>f000950527a6feb6d71de3382afa0bc5ff87bb65477f698a</td>\n      <td>积极</td>\n      <td>2015-06-29</td>\n    </tr>\n    <tr>\n      <th>5</th>\n      <td>f000950527a6feb6d71de3382afa0bc5ff87bb65477f698a</td>\n      <td>积极</td>\n      <td>2015-06-15</td>\n    </tr>\n    <tr>\n      <th>6</th>\n      <td>f000950527a6feb65929509d9be855bf75b7337d4465843e</td>\n      <td>积极</td>\n      <td>2019-10-26</td>\n    </tr>\n    <tr>\n      <th>7</th>\n      <td>f000950527a6feb65929509d9be855bf75b7337d4465843e</td>\n      <td>积极</td>\n      <td>2017-11-01</td>\n    </tr>\n    <tr>\n      <th>8</th>\n      <td>f000950527a6feb68b2de1c0fb54cf2919d4029742a7a1c4</td>\n      <td>中立</td>\n      <td>2018-04-20</td>\n    </tr>\n    <tr>\n      <th>9</th>\n      <td>f000950527a6feb68b2de1c0fb54cf2919d4029742a7a1c4</td>\n      <td>中立</td>\n      <td>2018-01-08</td>\n    </tr>\n    <tr>\n      <th>10</th>\n      <td>f000950527a6feb68b2de1c0fb54cf2919d4029742a7a1c4</td>\n      <td>中立</td>\n      <td>2017-12-14</td>\n    </tr>\n    <tr>\n      <th>11</th>\n      <td>f000950527a6feb68b2de1c0fb54cf2919d4029742a7a1c4</td>\n      <td>中立</td>\n      <td>2015-05-12</td>\n    </tr>\n    <tr>\n      <th>12</th>\n      <td>f000950527a6feb6501a4840649c985816c6be5d44f1a75a</td>\n      <td>积极</td>\n      <td>2017-11-28</td>\n    </tr>\n    <tr>\n      <th>13</th>\n      <td>f000950527a6feb6501a4840649c985816c6be5d44f1a75a</td>\n      <td>积极</td>\n      <td>2016-10-17</td>\n    </tr>\n    <tr>\n      <th>14</th>\n      <td>82750f1b9d12235035ad8f3632856b959e013d97f2170e2d</td>\n      <td>中立</td>\n      <td>2019-03-29</td>\n    </tr>\n    <tr>\n      <th>15</th>\n      <td>f000950527a6feb64f2d2faa5a702172f4865679e49897c7</td>\n      <td>积极</td>\n      <td>2019-04-18</td>\n    </tr>\n    <tr>\n      <th>16</th>\n      <td>f000950527a6feb63837cba9eb06ef53fcb936ace7e8526a</td>\n      <td>中立</td>\n      <td>2018-04-11</td>\n    </tr>\n    <tr>\n      <th>17</th>\n      <td>f000950527a6feb63837cba9eb06ef53fcb936ace7e8526a</td>\n      <td>中立</td>\n      <td>2016-07-14</td>\n    </tr>\n    <tr>\n      <th>18</th>\n      <td>e9f7b28ec10e04708cf1cc7451ba3008f9232249d39aaa3f</td>\n      <td>消极</td>\n      <td>2018-04-02</td>\n    </tr>\n    <tr>\n      <th>19</th>\n      <td>e9f7b28ec10e04708cf1cc7451ba3008f9232249d39aaa3f</td>\n      <td>中立</td>\n      <td>2016-07-20</td>\n    </tr>\n    <tr>\n      <th>20</th>\n      <td>f000950527a6feb6a3e5db12921603ab7f44bcfd265bd5b1</td>\n      <td>中立</td>\n      <td>2020-09-10</td>\n    </tr>\n    <tr>\n      <th>21</th>\n      <td>f000950527a6feb6a3e5db12921603ab7f44bcfd265bd5b1</td>\n      <td>积极</td>\n      <td>2020-03-24</td>\n    </tr>\n    <tr>\n      <th>22</th>\n      <td>f000950527a6feb6a3e5db12921603ab7f44bcfd265bd5b1</td>\n      <td>积极</td>\n      <td>2020-03-23</td>\n    </tr>\n    <tr>\n      <th>23</th>\n      <td>f000950527a6feb6a3e5db12921603ab7f44bcfd265bd5b1</td>\n      <td>中立</td>\n      <td>2020-03-09</td>\n    </tr>\n    <tr>\n      <th>24</th>\n      <td>f000950527a6feb6a3e5db12921603ab7f44bcfd265bd5b1</td>\n      <td>积极</td>\n      <td>2020-02-29</td>\n    </tr>\n    <tr>\n      <th>25</th>\n      <td>f000950527a6feb6a3e5db12921603ab7f44bcfd265bd5b1</td>\n      <td>积极</td>\n      <td>2020-02-27</td>\n    </tr>\n    <tr>\n      <th>26</th>\n      <td>f000950527a6feb6a3e5db12921603ab7f44bcfd265bd5b1</td>\n      <td>中立</td>\n      <td>2020-02-09</td>\n    </tr>\n    <tr>\n      <th>27</th>\n      <td>f000950527a6feb6a3e5db12921603ab7f44bcfd265bd5b1</td>\n      <td>中立</td>\n      <td>2020-02-05</td>\n    </tr>\n    <tr>\n      <th>28</th>\n      <td>f000950527a6feb6a3e5db12921603ab7f44bcfd265bd5b1</td>\n      <td>积极</td>\n      <td>2020-01-15</td>\n    </tr>\n    <tr>\n      <th>29</th>\n      <td>f000950527a6feb6a3e5db12921603ab7f44bcfd265bd5b1</td>\n      <td>中立</td>\n      <td>2020-01-15</td>\n    </tr>\n    <tr>\n      <th>...</th>\n      <td>...</td>\n      <td>...</td>\n      <td>...</td>\n    </tr>\n    <tr>\n      <th>10488</th>\n      <td>f000950527a6feb6ba87e96d0f0eaf14b8abe9ba6b0e6d35</td>\n      <td>积极</td>\n      <td>2016-02-19</td>\n    </tr>\n    <tr>\n      <th>10489</th>\n      <td>47e3664e12f3ce74664b3af9d2c4cb13d301b992e7d32102</td>\n      <td>中立</td>\n      <td>2020-06-01</td>\n    </tr>\n    <tr>\n      <th>10490</th>\n      <td>47e3664e12f3ce74664b3af9d2c4cb13d301b992e7d32102</td>\n      <td>消极</td>\n      <td>2020-05-25</td>\n    </tr>\n    <tr>\n      <th>10491</th>\n      <td>d8071a739aa75a3be6f3e200fd5532cb96764b8f4623c75a</td>\n      <td>中立</td>\n      <td>2017-01-25</td>\n    </tr>\n    <tr>\n      <th>10492</th>\n      <td>f000950527a6feb69ea351e48351a711fb09bf1b83f04dfc</td>\n      <td>中立</td>\n      <td>2015-08-15</td>\n    </tr>\n    <tr>\n      <th>10493</th>\n      <td>e9f7b28ec10e047005eec1a07b716d63fac8742cbdeacd46</td>\n      <td>中立</td>\n      <td>2020-04-03</td>\n    </tr>\n    <tr>\n      <th>10494</th>\n      <td>d8071a739aa75a3b6860158ec0cc8ba7972fb14ba37b9e0a</td>\n      <td>积极</td>\n      <td>2016-03-07</td>\n    </tr>\n    <tr>\n      <th>10495</th>\n      <td>d8071a739aa75a3b6860158ec0cc8ba7972fb14ba37b9e0a</td>\n      <td>中立</td>\n      <td>2013-12-16</td>\n    </tr>\n    <tr>\n      <th>10496</th>\n      <td>d8071a739aa75a3b6860158ec0cc8ba7972fb14ba37b9e0a</td>\n      <td>积极</td>\n      <td>2013-09-10</td>\n    </tr>\n    <tr>\n      <th>10497</th>\n      <td>d8071a739aa75a3b6860158ec0cc8ba7972fb14ba37b9e0a</td>\n      <td>积极</td>\n      <td>2013-07-09</td>\n    </tr>\n    <tr>\n      <th>10498</th>\n      <td>d8071a739aa75a3b6860158ec0cc8ba7972fb14ba37b9e0a</td>\n      <td>积极</td>\n      <td>2013-05-27</td>\n    </tr>\n    <tr>\n      <th>10499</th>\n      <td>d8071a739aa75a3b6860158ec0cc8ba7972fb14ba37b9e0a</td>\n      <td>积极</td>\n      <td>2013-05-10</td>\n    </tr>\n    <tr>\n      <th>10500</th>\n      <td>d8071a739aa75a3b6860158ec0cc8ba7972fb14ba37b9e0a</td>\n      <td>积极</td>\n      <td>2013-05-02</td>\n    </tr>\n    <tr>\n      <th>10501</th>\n      <td>d8071a739aa75a3b6860158ec0cc8ba7972fb14ba37b9e0a</td>\n      <td>中立</td>\n      <td>2013-01-08</td>\n    </tr>\n    <tr>\n      <th>10502</th>\n      <td>d8071a739aa75a3b6860158ec0cc8ba7972fb14ba37b9e0a</td>\n      <td>积极</td>\n      <td>2012-08-23</td>\n    </tr>\n    <tr>\n      <th>10503</th>\n      <td>d8071a739aa75a3b6860158ec0cc8ba7972fb14ba37b9e0a</td>\n      <td>积极</td>\n      <td>2012-08-02</td>\n    </tr>\n    <tr>\n      <th>10504</th>\n      <td>d8071a739aa75a3b6860158ec0cc8ba7972fb14ba37b9e0a</td>\n      <td>积极</td>\n      <td>2012-07-16</td>\n    </tr>\n    <tr>\n      <th>10505</th>\n      <td>d8071a739aa75a3b6860158ec0cc8ba7972fb14ba37b9e0a</td>\n      <td>积极</td>\n      <td>2015-12-26</td>\n    </tr>\n    <tr>\n      <th>10506</th>\n      <td>d8071a739aa75a3b6860158ec0cc8ba7972fb14ba37b9e0a</td>\n      <td>积极</td>\n      <td>2012-07-13</td>\n    </tr>\n    <tr>\n      <th>10507</th>\n      <td>d8071a739aa75a3b6860158ec0cc8ba7972fb14ba37b9e0a</td>\n      <td>积极</td>\n      <td>2012-06-20</td>\n    </tr>\n    <tr>\n      <th>10508</th>\n      <td>d8071a739aa75a3b6860158ec0cc8ba7972fb14ba37b9e0a</td>\n      <td>积极</td>\n      <td>2015-12-26</td>\n    </tr>\n    <tr>\n      <th>10509</th>\n      <td>d8071a739aa75a3b6860158ec0cc8ba7972fb14ba37b9e0a</td>\n      <td>积极</td>\n      <td>2015-12-23</td>\n    </tr>\n    <tr>\n      <th>10510</th>\n      <td>d8071a739aa75a3b6860158ec0cc8ba7972fb14ba37b9e0a</td>\n      <td>积极</td>\n      <td>2015-11-28</td>\n    </tr>\n    <tr>\n      <th>10511</th>\n      <td>d8071a739aa75a3b6860158ec0cc8ba7972fb14ba37b9e0a</td>\n      <td>积极</td>\n      <td>2015-10-24</td>\n    </tr>\n    <tr>\n      <th>10512</th>\n      <td>d8071a739aa75a3b6860158ec0cc8ba7972fb14ba37b9e0a</td>\n      <td>积极</td>\n      <td>2015-10-09</td>\n    </tr>\n    <tr>\n      <th>10513</th>\n      <td>d8071a739aa75a3b6860158ec0cc8ba7972fb14ba37b9e0a</td>\n      <td>中立</td>\n      <td>2013-12-25</td>\n    </tr>\n    <tr>\n      <th>10514</th>\n      <td>d8071a739aa75a3b6860158ec0cc8ba7972fb14ba37b9e0a</td>\n      <td>积极</td>\n      <td>2013-12-23</td>\n    </tr>\n    <tr>\n      <th>10515</th>\n      <td>f000950527a6feb6de489447885cd6d18f593ec2674174ac</td>\n      <td>中立</td>\n      <td>2020-04-07</td>\n    </tr>\n    <tr>\n      <th>10516</th>\n      <td>f000950527a6feb6de489447885cd6d18f593ec2674174ac</td>\n      <td>中立</td>\n      <td>2020-02-21</td>\n    </tr>\n    <tr>\n      <th>10517</th>\n      <td>f000950527a6feb6de489447885cd6d18f593ec2674174ac</td>\n      <td>消极</td>\n      <td>2018-12-13</td>\n    </tr>\n  </tbody>\n</table>\n<p>10518 rows × 3 columns</p>\n</div>"
     },
     "metadata": {},
     "execution_count": 86
    }
   ],
   "source": [
    "news_info"
   ]
  },
  {
   "cell_type": "code",
   "execution_count": 88,
   "metadata": {},
   "outputs": [
    {
     "output_type": "execute_result",
     "data": {
      "text/plain": [
       "积极    5350\n",
       "中立    4133\n",
       "消极    1035\n",
       "Name: positive_negtive, dtype: int64"
      ]
     },
     "metadata": {},
     "execution_count": 88
    }
   ],
   "source": [
    "news_info['positive_negtive'].value_counts()"
   ]
  },
  {
   "cell_type": "code",
   "execution_count": 89,
   "metadata": {},
   "outputs": [],
   "source": [
    "# 新闻的积极与消极是有时间序列的 可以间接反映是否有逐渐变好或者逐渐变坏的趋势\n",
    "# 有几点思路 1. 某个企业的新闻数量 2. 某个企业的新闻态度变化趋势"
   ]
  },
  {
   "source": [
    "### 计算新闻总数量"
   ],
   "cell_type": "markdown",
   "metadata": {}
  },
  {
   "cell_type": "code",
   "execution_count": 133,
   "metadata": {},
   "outputs": [],
   "source": [
    "df = pd.DataFrame(news_info.groupby('id')['positive_negtive'].count())"
   ]
  },
  {
   "cell_type": "code",
   "execution_count": 134,
   "metadata": {},
   "outputs": [],
   "source": [
    "df_sum = df.reset_index()\n",
    "df_sum = df.rename(columns={'positive_negtive':'news_sum'})"
   ]
  },
  {
   "source": [
    "### 计算积极新闻数量"
   ],
   "cell_type": "markdown",
   "metadata": {}
  },
  {
   "cell_type": "code",
   "execution_count": 142,
   "metadata": {},
   "outputs": [],
   "source": [
    "df = news_info[news_info['positive_negtive'].isin(['积极'])]"
   ]
  },
  {
   "cell_type": "code",
   "execution_count": 143,
   "metadata": {},
   "outputs": [],
   "source": [
    "df = pd.DataFrame(df.groupby('id')['positive_negtive'].count())"
   ]
  },
  {
   "cell_type": "code",
   "execution_count": 144,
   "metadata": {},
   "outputs": [],
   "source": [
    "df_pos = df.reset_index()\n",
    "df_pos = df.rename(columns={'positive_negtive':'news_pos_sum'})"
   ]
  },
  {
   "source": [
    "### 计算中立新闻数量"
   ],
   "cell_type": "markdown",
   "metadata": {}
  },
  {
   "cell_type": "code",
   "execution_count": 150,
   "metadata": {},
   "outputs": [],
   "source": [
    "df = news_info[news_info['positive_negtive'].isin(['中立'])]"
   ]
  },
  {
   "cell_type": "code",
   "execution_count": 151,
   "metadata": {},
   "outputs": [],
   "source": [
    "df = pd.DataFrame(df.groupby('id')['positive_negtive'].count())"
   ]
  },
  {
   "cell_type": "code",
   "execution_count": 153,
   "metadata": {},
   "outputs": [],
   "source": [
    "df_mid = df.reset_index()\n",
    "df_mid = df.rename(columns={'positive_negtive':'news_mid_sum'})"
   ]
  },
  {
   "source": [
    "### 计算消极新闻数量"
   ],
   "cell_type": "markdown",
   "metadata": {}
  },
  {
   "cell_type": "code",
   "execution_count": 159,
   "metadata": {},
   "outputs": [],
   "source": [
    "df = news_info[news_info['positive_negtive'].isin(['消极'])]"
   ]
  },
  {
   "cell_type": "code",
   "execution_count": 160,
   "metadata": {},
   "outputs": [],
   "source": [
    "df = pd.DataFrame(df.groupby('id')['positive_negtive'].count())"
   ]
  },
  {
   "cell_type": "code",
   "execution_count": 161,
   "metadata": {},
   "outputs": [],
   "source": [
    "df_neg = df.reset_index()\n",
    "df_neg = df.rename(columns={'positive_negtive':'news_neg_sum'})"
   ]
  },
  {
   "source": [
    "### 合并新闻数量特征"
   ],
   "cell_type": "markdown",
   "metadata": {}
  },
  {
   "cell_type": "code",
   "execution_count": 170,
   "metadata": {},
   "outputs": [],
   "source": [
    "from functools import reduce\n",
    "dfs = [df_sum, df_pos, df_mid, df_neg]\n",
    "df_new_info = reduce(lambda left, right: pd.merge(left, right, on=['id'], how='left'), dfs)"
   ]
  },
  {
   "cell_type": "code",
   "execution_count": 171,
   "metadata": {},
   "outputs": [],
   "source": [
    "df_new_info.fillna(0, inplace=True)"
   ]
  },
  {
   "cell_type": "code",
   "execution_count": 175,
   "metadata": {},
   "outputs": [
    {
     "output_type": "execute_result",
     "data": {
      "text/plain": [
       "                                                   id  news_sum  news_pos_sum  \\\n",
       "0    09912c34159b1720558a419983a989f1dd2e0ed69a044ca3         6           0.0   \n",
       "1    175ebe5f059ec050afbd65251ecdd3b512bfbe5e62d041b0         7           4.0   \n",
       "2    216bd2aaf4d079240c3ac0b76f0ef4aa355d443880ba78db         3           2.0   \n",
       "3    216bd2aaf4d079240f5823e63d24b44dd2c58e3281b822f6         2           0.0   \n",
       "4    216bd2aaf4d0792410725ba5e7ca1dc32ce55767372f2030         1           0.0   \n",
       "5    216bd2aaf4d0792441e3b7277b9cefa0291c793d81a3c0d6         1           0.0   \n",
       "6    216bd2aaf4d07924429c35aadfa374ad5c993210e02e7b7e         1           0.0   \n",
       "7    216bd2aaf4d0792458ca0011e529060363ac177eae61e131         1           0.0   \n",
       "8    216bd2aaf4d07924595c1b1041acae96b2a283d5c4acc607         1           1.0   \n",
       "9    216bd2aaf4d079245e336a1cb6e6c79784b82025f2256136         1           1.0   \n",
       "10   216bd2aaf4d07924644a576172186cf53ce2a223f024a8d4         1           1.0   \n",
       "11   216bd2aaf4d0792484fc64abae4bc73b556eacaa153e78c7         1           1.0   \n",
       "12   216bd2aaf4d079248a1cb9c41425810a25d29c1fc1d1c15a         2           0.0   \n",
       "13   216bd2aaf4d0792498a6b2cdcc529cd2ad9e309070133338         1           1.0   \n",
       "14   216bd2aaf4d07924fe2675c2035c548778f9a0293ca7bfb7         1           0.0   \n",
       "15   47645761dc56bb8c228e3ac2adc0352fecf6632feb4208d6         1           0.0   \n",
       "16   47645761dc56bb8c22a3d787cc419c37bd748cb9630e098e         1           0.0   \n",
       "17   47645761dc56bb8c270e08c5030041b1849d06cb34dddd3e         1           0.0   \n",
       "18   47645761dc56bb8c2cd5efe8d1318679dff070a0f7045f8c         3           3.0   \n",
       "19   47645761dc56bb8c34321bedbdd12d58049eb0bd7a9263d8         1           0.0   \n",
       "20   47645761dc56bb8c3593d574d325d27f439fd4a8f5d4c93b         2           0.0   \n",
       "21   47645761dc56bb8c547e989c4e10ca1cffb30978eb872a42         2           2.0   \n",
       "22   47645761dc56bb8c590fc14d10b6b0baf8d325050768b166         1           0.0   \n",
       "23   47645761dc56bb8c5ac7fb1c413f73ab0b240b23b42a09bc         1           0.0   \n",
       "24   47645761dc56bb8c6216e4fc602dfd5f4da3af1dd5a3c3d3         1           0.0   \n",
       "25   47645761dc56bb8c71185b60943e1c1c13155dbbe362c893         1           1.0   \n",
       "26   47645761dc56bb8c74c9b73a98ab54507c4eed22fc606217         3           0.0   \n",
       "27   47645761dc56bb8c77af894de38bfe23e16fd6f8e8f86f1d         2           0.0   \n",
       "28   47645761dc56bb8c79dd5dc18863f7f0612fe1430acbbbfe         3           0.0   \n",
       "29   47645761dc56bb8c85cc35fddd52574ab1cde0999e9acf53        25          10.0   \n",
       "..                                                ...       ...           ...   \n",
       "897  f000950527a6feb6f0f1ded7dd04ca27d489aeb325b0ed43        66          28.0   \n",
       "898  f000950527a6feb6f16d34b2a6b30955cf157698694adc20       190          42.0   \n",
       "899  f000950527a6feb6f18ec4e08e15d8229b464af40b93972c         1           0.0   \n",
       "900  f000950527a6feb6f1a38b78fb916d5ea3ec4b3839accaff         2           0.0   \n",
       "901  f000950527a6feb6f1cca41a86a6258c5ace85749c13c65e        17           9.0   \n",
       "902  f000950527a6feb6f24a4e647957e3e455370d1e6a5f424c         6           5.0   \n",
       "903  f000950527a6feb6f35e294da3b7f481b27501ae8ec8a9ef         6           0.0   \n",
       "904  f000950527a6feb6f462492459ae2d737bdc86a2a91eb99f         2           0.0   \n",
       "905  f000950527a6feb6f68d973959758e932569499a2abea1bc         1           1.0   \n",
       "906  f000950527a6feb6f693b2fc993c5c0a02d773544c24b5b3         1           0.0   \n",
       "907  f000950527a6feb6f6c0ce27ee45cf9a21d8d05931dc256e        28           0.0   \n",
       "908  f000950527a6feb6f700b7902169db7d6969d3bf1a445902        23          17.0   \n",
       "909  f000950527a6feb6f71bdf8b9fdcf94fd8d52b807a155b59        18          14.0   \n",
       "910  f000950527a6feb6f80b8eb55a984fe6c571366080e364bb         1           0.0   \n",
       "911  f000950527a6feb6f932a61474069fc8e6328cd9099bdc49         3           2.0   \n",
       "912  f000950527a6feb6f93927f1936d9c27c5049f677c790499        32          21.0   \n",
       "913  f000950527a6feb6f9da71a4aac6df8fdfba8f03b4511d01         6           4.0   \n",
       "914  f000950527a6feb6fa6bfc4fe01a9ae5dc3880b78f177c88        92          69.0   \n",
       "915  f000950527a6feb6faa17dab8315e5aa11ef885a6f76ce0f         2           2.0   \n",
       "916  f000950527a6feb6fafe1984a35fff77ae30159542ec8e5d         2           0.0   \n",
       "917  f000950527a6feb6fbb0e97494afde3b8d43254abcd25359         5           2.0   \n",
       "918  f000950527a6feb6fc1e448084f3078b1342fa52a4b2ff30        35          31.0   \n",
       "919  f000950527a6feb6fd127171a15f772bd4f135cfc783824c         1           0.0   \n",
       "920  f000950527a6feb6fd2d6dcc24a3644398fed3033c06d7bd        19          18.0   \n",
       "921  f000950527a6feb6fd978de5c7f13afc9473089a63c1d3fc         3           2.0   \n",
       "922  f000950527a6feb6fddefb42e3c3dc1932fc8c5fae14afbb         1           0.0   \n",
       "923  f000950527a6feb6fe8f4850e9eb04e8ba3fa3b409725ef3         9           7.0   \n",
       "924  f000950527a6feb6ff749dc50c7bf46b37b74e36ce38d1a4         1           0.0   \n",
       "925  f000950527a6feb6ff7cdb55f5e64a477c499dd75137ae6b         2           2.0   \n",
       "926  f000950527a6feb6ff839cdf509ebb7631857e6e363fedd6         2           0.0   \n",
       "\n",
       "     news_mid_sum  news_neg_sum  \n",
       "0             6.0           0.0  \n",
       "1             3.0           0.0  \n",
       "2             1.0           0.0  \n",
       "3             2.0           0.0  \n",
       "4             0.0           1.0  \n",
       "5             0.0           1.0  \n",
       "6             1.0           0.0  \n",
       "7             1.0           0.0  \n",
       "8             0.0           0.0  \n",
       "9             0.0           0.0  \n",
       "10            0.0           0.0  \n",
       "11            0.0           0.0  \n",
       "12            2.0           0.0  \n",
       "13            0.0           0.0  \n",
       "14            1.0           0.0  \n",
       "15            1.0           0.0  \n",
       "16            1.0           0.0  \n",
       "17            1.0           0.0  \n",
       "18            0.0           0.0  \n",
       "19            1.0           0.0  \n",
       "20            1.0           1.0  \n",
       "21            0.0           0.0  \n",
       "22            1.0           0.0  \n",
       "23            1.0           0.0  \n",
       "24            1.0           0.0  \n",
       "25            0.0           0.0  \n",
       "26            1.0           2.0  \n",
       "27            2.0           0.0  \n",
       "28            0.0           3.0  \n",
       "29            7.0           8.0  \n",
       "..            ...           ...  \n",
       "897          34.0           4.0  \n",
       "898          89.0          59.0  \n",
       "899           1.0           0.0  \n",
       "900           2.0           0.0  \n",
       "901           7.0           1.0  \n",
       "902           1.0           0.0  \n",
       "903           4.0           2.0  \n",
       "904           2.0           0.0  \n",
       "905           0.0           0.0  \n",
       "906           1.0           0.0  \n",
       "907           0.0          28.0  \n",
       "908           5.0           1.0  \n",
       "909           2.0           2.0  \n",
       "910           1.0           0.0  \n",
       "911           1.0           0.0  \n",
       "912           5.0           6.0  \n",
       "913           2.0           0.0  \n",
       "914          22.0           1.0  \n",
       "915           0.0           0.0  \n",
       "916           2.0           0.0  \n",
       "917           3.0           0.0  \n",
       "918           4.0           0.0  \n",
       "919           1.0           0.0  \n",
       "920           1.0           0.0  \n",
       "921           1.0           0.0  \n",
       "922           1.0           0.0  \n",
       "923           2.0           0.0  \n",
       "924           0.0           1.0  \n",
       "925           0.0           0.0  \n",
       "926           1.0           1.0  \n",
       "\n",
       "[927 rows x 5 columns]"
      ],
      "text/html": "<div>\n<style scoped>\n    .dataframe tbody tr th:only-of-type {\n        vertical-align: middle;\n    }\n\n    .dataframe tbody tr th {\n        vertical-align: top;\n    }\n\n    .dataframe thead th {\n        text-align: right;\n    }\n</style>\n<table border=\"1\" class=\"dataframe\">\n  <thead>\n    <tr style=\"text-align: right;\">\n      <th></th>\n      <th>id</th>\n      <th>news_sum</th>\n      <th>news_pos_sum</th>\n      <th>news_mid_sum</th>\n      <th>news_neg_sum</th>\n    </tr>\n  </thead>\n  <tbody>\n    <tr>\n      <th>0</th>\n      <td>09912c34159b1720558a419983a989f1dd2e0ed69a044ca3</td>\n      <td>6</td>\n      <td>0.0</td>\n      <td>6.0</td>\n      <td>0.0</td>\n    </tr>\n    <tr>\n      <th>1</th>\n      <td>175ebe5f059ec050afbd65251ecdd3b512bfbe5e62d041b0</td>\n      <td>7</td>\n      <td>4.0</td>\n      <td>3.0</td>\n      <td>0.0</td>\n    </tr>\n    <tr>\n      <th>2</th>\n      <td>216bd2aaf4d079240c3ac0b76f0ef4aa355d443880ba78db</td>\n      <td>3</td>\n      <td>2.0</td>\n      <td>1.0</td>\n      <td>0.0</td>\n    </tr>\n    <tr>\n      <th>3</th>\n      <td>216bd2aaf4d079240f5823e63d24b44dd2c58e3281b822f6</td>\n      <td>2</td>\n      <td>0.0</td>\n      <td>2.0</td>\n      <td>0.0</td>\n    </tr>\n    <tr>\n      <th>4</th>\n      <td>216bd2aaf4d0792410725ba5e7ca1dc32ce55767372f2030</td>\n      <td>1</td>\n      <td>0.0</td>\n      <td>0.0</td>\n      <td>1.0</td>\n    </tr>\n    <tr>\n      <th>5</th>\n      <td>216bd2aaf4d0792441e3b7277b9cefa0291c793d81a3c0d6</td>\n      <td>1</td>\n      <td>0.0</td>\n      <td>0.0</td>\n      <td>1.0</td>\n    </tr>\n    <tr>\n      <th>6</th>\n      <td>216bd2aaf4d07924429c35aadfa374ad5c993210e02e7b7e</td>\n      <td>1</td>\n      <td>0.0</td>\n      <td>1.0</td>\n      <td>0.0</td>\n    </tr>\n    <tr>\n      <th>7</th>\n      <td>216bd2aaf4d0792458ca0011e529060363ac177eae61e131</td>\n      <td>1</td>\n      <td>0.0</td>\n      <td>1.0</td>\n      <td>0.0</td>\n    </tr>\n    <tr>\n      <th>8</th>\n      <td>216bd2aaf4d07924595c1b1041acae96b2a283d5c4acc607</td>\n      <td>1</td>\n      <td>1.0</td>\n      <td>0.0</td>\n      <td>0.0</td>\n    </tr>\n    <tr>\n      <th>9</th>\n      <td>216bd2aaf4d079245e336a1cb6e6c79784b82025f2256136</td>\n      <td>1</td>\n      <td>1.0</td>\n      <td>0.0</td>\n      <td>0.0</td>\n    </tr>\n    <tr>\n      <th>10</th>\n      <td>216bd2aaf4d07924644a576172186cf53ce2a223f024a8d4</td>\n      <td>1</td>\n      <td>1.0</td>\n      <td>0.0</td>\n      <td>0.0</td>\n    </tr>\n    <tr>\n      <th>11</th>\n      <td>216bd2aaf4d0792484fc64abae4bc73b556eacaa153e78c7</td>\n      <td>1</td>\n      <td>1.0</td>\n      <td>0.0</td>\n      <td>0.0</td>\n    </tr>\n    <tr>\n      <th>12</th>\n      <td>216bd2aaf4d079248a1cb9c41425810a25d29c1fc1d1c15a</td>\n      <td>2</td>\n      <td>0.0</td>\n      <td>2.0</td>\n      <td>0.0</td>\n    </tr>\n    <tr>\n      <th>13</th>\n      <td>216bd2aaf4d0792498a6b2cdcc529cd2ad9e309070133338</td>\n      <td>1</td>\n      <td>1.0</td>\n      <td>0.0</td>\n      <td>0.0</td>\n    </tr>\n    <tr>\n      <th>14</th>\n      <td>216bd2aaf4d07924fe2675c2035c548778f9a0293ca7bfb7</td>\n      <td>1</td>\n      <td>0.0</td>\n      <td>1.0</td>\n      <td>0.0</td>\n    </tr>\n    <tr>\n      <th>15</th>\n      <td>47645761dc56bb8c228e3ac2adc0352fecf6632feb4208d6</td>\n      <td>1</td>\n      <td>0.0</td>\n      <td>1.0</td>\n      <td>0.0</td>\n    </tr>\n    <tr>\n      <th>16</th>\n      <td>47645761dc56bb8c22a3d787cc419c37bd748cb9630e098e</td>\n      <td>1</td>\n      <td>0.0</td>\n      <td>1.0</td>\n      <td>0.0</td>\n    </tr>\n    <tr>\n      <th>17</th>\n      <td>47645761dc56bb8c270e08c5030041b1849d06cb34dddd3e</td>\n      <td>1</td>\n      <td>0.0</td>\n      <td>1.0</td>\n      <td>0.0</td>\n    </tr>\n    <tr>\n      <th>18</th>\n      <td>47645761dc56bb8c2cd5efe8d1318679dff070a0f7045f8c</td>\n      <td>3</td>\n      <td>3.0</td>\n      <td>0.0</td>\n      <td>0.0</td>\n    </tr>\n    <tr>\n      <th>19</th>\n      <td>47645761dc56bb8c34321bedbdd12d58049eb0bd7a9263d8</td>\n      <td>1</td>\n      <td>0.0</td>\n      <td>1.0</td>\n      <td>0.0</td>\n    </tr>\n    <tr>\n      <th>20</th>\n      <td>47645761dc56bb8c3593d574d325d27f439fd4a8f5d4c93b</td>\n      <td>2</td>\n      <td>0.0</td>\n      <td>1.0</td>\n      <td>1.0</td>\n    </tr>\n    <tr>\n      <th>21</th>\n      <td>47645761dc56bb8c547e989c4e10ca1cffb30978eb872a42</td>\n      <td>2</td>\n      <td>2.0</td>\n      <td>0.0</td>\n      <td>0.0</td>\n    </tr>\n    <tr>\n      <th>22</th>\n      <td>47645761dc56bb8c590fc14d10b6b0baf8d325050768b166</td>\n      <td>1</td>\n      <td>0.0</td>\n      <td>1.0</td>\n      <td>0.0</td>\n    </tr>\n    <tr>\n      <th>23</th>\n      <td>47645761dc56bb8c5ac7fb1c413f73ab0b240b23b42a09bc</td>\n      <td>1</td>\n      <td>0.0</td>\n      <td>1.0</td>\n      <td>0.0</td>\n    </tr>\n    <tr>\n      <th>24</th>\n      <td>47645761dc56bb8c6216e4fc602dfd5f4da3af1dd5a3c3d3</td>\n      <td>1</td>\n      <td>0.0</td>\n      <td>1.0</td>\n      <td>0.0</td>\n    </tr>\n    <tr>\n      <th>25</th>\n      <td>47645761dc56bb8c71185b60943e1c1c13155dbbe362c893</td>\n      <td>1</td>\n      <td>1.0</td>\n      <td>0.0</td>\n      <td>0.0</td>\n    </tr>\n    <tr>\n      <th>26</th>\n      <td>47645761dc56bb8c74c9b73a98ab54507c4eed22fc606217</td>\n      <td>3</td>\n      <td>0.0</td>\n      <td>1.0</td>\n      <td>2.0</td>\n    </tr>\n    <tr>\n      <th>27</th>\n      <td>47645761dc56bb8c77af894de38bfe23e16fd6f8e8f86f1d</td>\n      <td>2</td>\n      <td>0.0</td>\n      <td>2.0</td>\n      <td>0.0</td>\n    </tr>\n    <tr>\n      <th>28</th>\n      <td>47645761dc56bb8c79dd5dc18863f7f0612fe1430acbbbfe</td>\n      <td>3</td>\n      <td>0.0</td>\n      <td>0.0</td>\n      <td>3.0</td>\n    </tr>\n    <tr>\n      <th>29</th>\n      <td>47645761dc56bb8c85cc35fddd52574ab1cde0999e9acf53</td>\n      <td>25</td>\n      <td>10.0</td>\n      <td>7.0</td>\n      <td>8.0</td>\n    </tr>\n    <tr>\n      <th>...</th>\n      <td>...</td>\n      <td>...</td>\n      <td>...</td>\n      <td>...</td>\n      <td>...</td>\n    </tr>\n    <tr>\n      <th>897</th>\n      <td>f000950527a6feb6f0f1ded7dd04ca27d489aeb325b0ed43</td>\n      <td>66</td>\n      <td>28.0</td>\n      <td>34.0</td>\n      <td>4.0</td>\n    </tr>\n    <tr>\n      <th>898</th>\n      <td>f000950527a6feb6f16d34b2a6b30955cf157698694adc20</td>\n      <td>190</td>\n      <td>42.0</td>\n      <td>89.0</td>\n      <td>59.0</td>\n    </tr>\n    <tr>\n      <th>899</th>\n      <td>f000950527a6feb6f18ec4e08e15d8229b464af40b93972c</td>\n      <td>1</td>\n      <td>0.0</td>\n      <td>1.0</td>\n      <td>0.0</td>\n    </tr>\n    <tr>\n      <th>900</th>\n      <td>f000950527a6feb6f1a38b78fb916d5ea3ec4b3839accaff</td>\n      <td>2</td>\n      <td>0.0</td>\n      <td>2.0</td>\n      <td>0.0</td>\n    </tr>\n    <tr>\n      <th>901</th>\n      <td>f000950527a6feb6f1cca41a86a6258c5ace85749c13c65e</td>\n      <td>17</td>\n      <td>9.0</td>\n      <td>7.0</td>\n      <td>1.0</td>\n    </tr>\n    <tr>\n      <th>902</th>\n      <td>f000950527a6feb6f24a4e647957e3e455370d1e6a5f424c</td>\n      <td>6</td>\n      <td>5.0</td>\n      <td>1.0</td>\n      <td>0.0</td>\n    </tr>\n    <tr>\n      <th>903</th>\n      <td>f000950527a6feb6f35e294da3b7f481b27501ae8ec8a9ef</td>\n      <td>6</td>\n      <td>0.0</td>\n      <td>4.0</td>\n      <td>2.0</td>\n    </tr>\n    <tr>\n      <th>904</th>\n      <td>f000950527a6feb6f462492459ae2d737bdc86a2a91eb99f</td>\n      <td>2</td>\n      <td>0.0</td>\n      <td>2.0</td>\n      <td>0.0</td>\n    </tr>\n    <tr>\n      <th>905</th>\n      <td>f000950527a6feb6f68d973959758e932569499a2abea1bc</td>\n      <td>1</td>\n      <td>1.0</td>\n      <td>0.0</td>\n      <td>0.0</td>\n    </tr>\n    <tr>\n      <th>906</th>\n      <td>f000950527a6feb6f693b2fc993c5c0a02d773544c24b5b3</td>\n      <td>1</td>\n      <td>0.0</td>\n      <td>1.0</td>\n      <td>0.0</td>\n    </tr>\n    <tr>\n      <th>907</th>\n      <td>f000950527a6feb6f6c0ce27ee45cf9a21d8d05931dc256e</td>\n      <td>28</td>\n      <td>0.0</td>\n      <td>0.0</td>\n      <td>28.0</td>\n    </tr>\n    <tr>\n      <th>908</th>\n      <td>f000950527a6feb6f700b7902169db7d6969d3bf1a445902</td>\n      <td>23</td>\n      <td>17.0</td>\n      <td>5.0</td>\n      <td>1.0</td>\n    </tr>\n    <tr>\n      <th>909</th>\n      <td>f000950527a6feb6f71bdf8b9fdcf94fd8d52b807a155b59</td>\n      <td>18</td>\n      <td>14.0</td>\n      <td>2.0</td>\n      <td>2.0</td>\n    </tr>\n    <tr>\n      <th>910</th>\n      <td>f000950527a6feb6f80b8eb55a984fe6c571366080e364bb</td>\n      <td>1</td>\n      <td>0.0</td>\n      <td>1.0</td>\n      <td>0.0</td>\n    </tr>\n    <tr>\n      <th>911</th>\n      <td>f000950527a6feb6f932a61474069fc8e6328cd9099bdc49</td>\n      <td>3</td>\n      <td>2.0</td>\n      <td>1.0</td>\n      <td>0.0</td>\n    </tr>\n    <tr>\n      <th>912</th>\n      <td>f000950527a6feb6f93927f1936d9c27c5049f677c790499</td>\n      <td>32</td>\n      <td>21.0</td>\n      <td>5.0</td>\n      <td>6.0</td>\n    </tr>\n    <tr>\n      <th>913</th>\n      <td>f000950527a6feb6f9da71a4aac6df8fdfba8f03b4511d01</td>\n      <td>6</td>\n      <td>4.0</td>\n      <td>2.0</td>\n      <td>0.0</td>\n    </tr>\n    <tr>\n      <th>914</th>\n      <td>f000950527a6feb6fa6bfc4fe01a9ae5dc3880b78f177c88</td>\n      <td>92</td>\n      <td>69.0</td>\n      <td>22.0</td>\n      <td>1.0</td>\n    </tr>\n    <tr>\n      <th>915</th>\n      <td>f000950527a6feb6faa17dab8315e5aa11ef885a6f76ce0f</td>\n      <td>2</td>\n      <td>2.0</td>\n      <td>0.0</td>\n      <td>0.0</td>\n    </tr>\n    <tr>\n      <th>916</th>\n      <td>f000950527a6feb6fafe1984a35fff77ae30159542ec8e5d</td>\n      <td>2</td>\n      <td>0.0</td>\n      <td>2.0</td>\n      <td>0.0</td>\n    </tr>\n    <tr>\n      <th>917</th>\n      <td>f000950527a6feb6fbb0e97494afde3b8d43254abcd25359</td>\n      <td>5</td>\n      <td>2.0</td>\n      <td>3.0</td>\n      <td>0.0</td>\n    </tr>\n    <tr>\n      <th>918</th>\n      <td>f000950527a6feb6fc1e448084f3078b1342fa52a4b2ff30</td>\n      <td>35</td>\n      <td>31.0</td>\n      <td>4.0</td>\n      <td>0.0</td>\n    </tr>\n    <tr>\n      <th>919</th>\n      <td>f000950527a6feb6fd127171a15f772bd4f135cfc783824c</td>\n      <td>1</td>\n      <td>0.0</td>\n      <td>1.0</td>\n      <td>0.0</td>\n    </tr>\n    <tr>\n      <th>920</th>\n      <td>f000950527a6feb6fd2d6dcc24a3644398fed3033c06d7bd</td>\n      <td>19</td>\n      <td>18.0</td>\n      <td>1.0</td>\n      <td>0.0</td>\n    </tr>\n    <tr>\n      <th>921</th>\n      <td>f000950527a6feb6fd978de5c7f13afc9473089a63c1d3fc</td>\n      <td>3</td>\n      <td>2.0</td>\n      <td>1.0</td>\n      <td>0.0</td>\n    </tr>\n    <tr>\n      <th>922</th>\n      <td>f000950527a6feb6fddefb42e3c3dc1932fc8c5fae14afbb</td>\n      <td>1</td>\n      <td>0.0</td>\n      <td>1.0</td>\n      <td>0.0</td>\n    </tr>\n    <tr>\n      <th>923</th>\n      <td>f000950527a6feb6fe8f4850e9eb04e8ba3fa3b409725ef3</td>\n      <td>9</td>\n      <td>7.0</td>\n      <td>2.0</td>\n      <td>0.0</td>\n    </tr>\n    <tr>\n      <th>924</th>\n      <td>f000950527a6feb6ff749dc50c7bf46b37b74e36ce38d1a4</td>\n      <td>1</td>\n      <td>0.0</td>\n      <td>0.0</td>\n      <td>1.0</td>\n    </tr>\n    <tr>\n      <th>925</th>\n      <td>f000950527a6feb6ff7cdb55f5e64a477c499dd75137ae6b</td>\n      <td>2</td>\n      <td>2.0</td>\n      <td>0.0</td>\n      <td>0.0</td>\n    </tr>\n    <tr>\n      <th>926</th>\n      <td>f000950527a6feb6ff839cdf509ebb7631857e6e363fedd6</td>\n      <td>2</td>\n      <td>0.0</td>\n      <td>1.0</td>\n      <td>1.0</td>\n    </tr>\n  </tbody>\n</table>\n<p>927 rows × 5 columns</p>\n</div>"
     },
     "metadata": {},
     "execution_count": 175
    }
   ],
   "source": [
    "df_new_info.reset_index()"
   ]
  },
  {
   "cell_type": "code",
   "execution_count": 182,
   "metadata": {},
   "outputs": [
    {
     "output_type": "execute_result",
     "data": {
      "text/plain": [
       "Index(['news_sum', 'news_pos_sum', 'news_mid_sum', 'news_neg_sum'], dtype='object')"
      ]
     },
     "metadata": {},
     "execution_count": 182
    }
   ],
   "source": [
    "df_new_info.columns"
   ]
  },
  {
   "cell_type": "code",
   "execution_count": 183,
   "metadata": {},
   "outputs": [
    {
     "output_type": "execute_result",
     "data": {
      "text/plain": [
       "news_sum          int64\n",
       "news_pos_sum    float64\n",
       "news_mid_sum    float64\n",
       "news_neg_sum    float64\n",
       "dtype: object"
      ]
     },
     "metadata": {},
     "execution_count": 183
    }
   ],
   "source": [
    "df_new_info.dtypes"
   ]
  },
  {
   "cell_type": "code",
   "execution_count": 186,
   "metadata": {},
   "outputs": [],
   "source": [
    "col_list = ['news_sum', 'news_pos_sum', 'news_mid_sum', 'news_neg_sum']\n",
    "for col in col_list:\n",
    "    df_new_info[col] = df_new_info[col].astype('int')"
   ]
  },
  {
   "cell_type": "code",
   "execution_count": 187,
   "metadata": {},
   "outputs": [
    {
     "output_type": "execute_result",
     "data": {
      "text/plain": [
       "news_sum        int32\n",
       "news_pos_sum    int32\n",
       "news_mid_sum    int32\n",
       "news_neg_sum    int32\n",
       "dtype: object"
      ]
     },
     "metadata": {},
     "execution_count": 187
    }
   ],
   "source": [
    "df_new_info.dtypes"
   ]
  },
  {
   "cell_type": "code",
   "execution_count": 188,
   "metadata": {},
   "outputs": [],
   "source": [
    "df_new_info.to_csv('../code/fea_explore/news_info.csv')"
   ]
  },
  {
   "cell_type": "code",
   "execution_count": null,
   "metadata": {},
   "outputs": [],
   "source": []
  }
 ]
}